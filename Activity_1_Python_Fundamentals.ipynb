{
  "nbformat": 4,
  "nbformat_minor": 0,
  "metadata": {
    "colab": {
      "name": "Activity 1 - Python Fundamentals",
      "provenance": [],
      "collapsed_sections": [],
      "authorship_tag": "ABX9TyMgbSEn1Iap8ofIHwqd5e2l",
      "include_colab_link": true
    },
    "kernelspec": {
      "name": "python3",
      "display_name": "Python 3"
    },
    "language_info": {
      "name": "python"
    }
  },
  "cells": [
    {
      "cell_type": "markdown",
      "metadata": {
        "id": "view-in-github",
        "colab_type": "text"
      },
      "source": [
        "<a href=\"https://colab.research.google.com/github/Mowee0/LinearAlgebra_2ndSem/blob/main/Activity_1_Python_Fundamentals.ipynb\" target=\"_parent\"><img src=\"https://colab.research.google.com/assets/colab-badge.svg\" alt=\"Open In Colab\"/></a>"
      ]
    },
    {
      "cell_type": "markdown",
      "source": [
        "# Welcome to Python Fundamentals\n",
        "In this module, we are going to establish or review our skills in Python programming. In this notebook we are going to cover:\n",
        "* Variables and Data Types \n",
        "* Operations\n",
        "* Input and Output Operations\n",
        "* Logic Control\n",
        "* Iterables\n",
        "* Functions"
      ],
      "metadata": {
        "id": "qLrGXvzksIfR"
      }
    },
    {
      "cell_type": "markdown",
      "source": [
        "## Variable and Data Types\n",
        "\n",
        "Variables are defined to store memory or values used for further coding. It is created\n",
        "as soon as a value is assigned, no other commands are needed, and the programmer defines\n",
        "the variable type. On the other hand, a data type determines the type of operation performed\n",
        "on the variable. The different data types are numbers, strings, and lists. Numbers can be\n",
        "integers, floats, or complex numbers."
      ],
      "metadata": {
        "id": "vOA8tj1OtFj6"
      }
    },
    {
      "cell_type": "code",
      "source": [
        "a = 68\n",
        "m,j = 678, -125"
      ],
      "metadata": {
        "id": "vz2tjDXqtSLB"
      },
      "execution_count": null,
      "outputs": []
    },
    {
      "cell_type": "code",
      "source": [
        "type(a)"
      ],
      "metadata": {
        "colab": {
          "base_uri": "https://localhost:8080/"
        },
        "id": "UFddQkVxvBJk",
        "outputId": "c6221b1d-830d-4434-e936-cf15b7c88b3b"
      },
      "execution_count": null,
      "outputs": [
        {
          "output_type": "execute_result",
          "data": {
            "text/plain": [
              "int"
            ]
          },
          "metadata": {},
          "execution_count": 181
        }
      ]
    },
    {
      "cell_type": "code",
      "source": [
        "y = 1.0\n",
        "type(y)"
      ],
      "metadata": {
        "colab": {
          "base_uri": "https://localhost:8080/"
        },
        "id": "F7UjDZVXvql1",
        "outputId": "da793674-b12c-411c-bca1-5dc98748d24c"
      },
      "execution_count": null,
      "outputs": [
        {
          "output_type": "execute_result",
          "data": {
            "text/plain": [
              "float"
            ]
          },
          "metadata": {},
          "execution_count": 182
        }
      ]
    },
    {
      "cell_type": "code",
      "source": [
        "a = float(a)\n",
        "type(a)"
      ],
      "metadata": {
        "colab": {
          "base_uri": "https://localhost:8080/"
        },
        "id": "EZclEQD7vvxS",
        "outputId": "98a1788a-e637-45f4-918d-48457ade1ee6"
      },
      "execution_count": null,
      "outputs": [
        {
          "output_type": "execute_result",
          "data": {
            "text/plain": [
              "float"
            ]
          },
          "metadata": {},
          "execution_count": 183
        }
      ]
    },
    {
      "cell_type": "code",
      "source": [
        "z,x,c = \"0\", '1', 'one'\n",
        "type(z)"
      ],
      "metadata": {
        "colab": {
          "base_uri": "https://localhost:8080/"
        },
        "id": "cbg5egqSwoPW",
        "outputId": "e62aff51-678e-49b9-96c2-855e8f3d122b"
      },
      "execution_count": null,
      "outputs": [
        {
          "output_type": "execute_result",
          "data": {
            "text/plain": [
              "str"
            ]
          },
          "metadata": {},
          "execution_count": 184
        }
      ]
    },
    {
      "cell_type": "code",
      "source": [
        "z_int = int(z)\n",
        "z_int"
      ],
      "metadata": {
        "id": "OCfefI5exK8s",
        "colab": {
          "base_uri": "https://localhost:8080/"
        },
        "outputId": "026f7ae3-9cac-4951-a193-a3b54b5c5839"
      },
      "execution_count": null,
      "outputs": [
        {
          "output_type": "execute_result",
          "data": {
            "text/plain": [
              "0"
            ]
          },
          "metadata": {},
          "execution_count": 185
        }
      ]
    },
    {
      "cell_type": "markdown",
      "source": [
        "# Operations\n",
        "Operations carry out logical and arithmetic computations. In this laboratory\n",
        "activity, five different operators are explicitly used: arithmetic, assignment operations,\n",
        "comparators, logical, input-output."
      ],
      "metadata": {
        "id": "q1vsyolHyOil"
      }
    },
    {
      "cell_type": "markdown",
      "source": [
        "## Arithmetic"
      ],
      "metadata": {
        "id": "mYoK_P7cyTQs"
      }
    },
    {
      "cell_type": "code",
      "source": [
        "a,b,c,d = 25.3, -0.11, 4, -23"
      ],
      "metadata": {
        "id": "pI9yRftgyWU7"
      },
      "execution_count": null,
      "outputs": []
    },
    {
      "cell_type": "code",
      "source": [
        "#Addition\n",
        "S = b+d\n",
        "S"
      ],
      "metadata": {
        "colab": {
          "base_uri": "https://localhost:8080/"
        },
        "id": "TGyd178eyiAJ",
        "outputId": "b239dce6-3786-4f7a-8a78-19d09ef1dc86"
      },
      "execution_count": null,
      "outputs": [
        {
          "output_type": "execute_result",
          "data": {
            "text/plain": [
              "-23.11"
            ]
          },
          "metadata": {},
          "execution_count": 187
        }
      ]
    },
    {
      "cell_type": "code",
      "source": [
        "#Subtraction\n",
        "D = a-c\n",
        "D"
      ],
      "metadata": {
        "colab": {
          "base_uri": "https://localhost:8080/"
        },
        "id": "WA4xj-dMzZTr",
        "outputId": "6b95fc95-4d15-408e-ea9d-c8ac4af42362"
      },
      "execution_count": null,
      "outputs": [
        {
          "output_type": "execute_result",
          "data": {
            "text/plain": [
              "21.3"
            ]
          },
          "metadata": {},
          "execution_count": 188
        }
      ]
    },
    {
      "cell_type": "code",
      "source": [
        "#Multiplication\n",
        "P = b*c\n",
        "P"
      ],
      "metadata": {
        "colab": {
          "base_uri": "https://localhost:8080/"
        },
        "id": "RgNNuu8vzhTW",
        "outputId": "ddfe3b8b-1002-484b-f47f-cf2d8b1fe762"
      },
      "execution_count": null,
      "outputs": [
        {
          "output_type": "execute_result",
          "data": {
            "text/plain": [
              "-0.44"
            ]
          },
          "metadata": {},
          "execution_count": 189
        }
      ]
    },
    {
      "cell_type": "code",
      "source": [
        "#Division\n",
        "Q = d/a\n",
        "Q"
      ],
      "metadata": {
        "colab": {
          "base_uri": "https://localhost:8080/"
        },
        "id": "fW2TVC5Mzl3-",
        "outputId": "38345b43-a5df-4b15-f41a-bb774afebe45"
      },
      "execution_count": null,
      "outputs": [
        {
          "output_type": "execute_result",
          "data": {
            "text/plain": [
              "-0.9090909090909091"
            ]
          },
          "metadata": {},
          "execution_count": 190
        }
      ]
    },
    {
      "cell_type": "code",
      "source": [
        "#Floor Division\n",
        "Fq = d//a\n",
        "Fq"
      ],
      "metadata": {
        "colab": {
          "base_uri": "https://localhost:8080/"
        },
        "id": "CSvyQt-3ztQY",
        "outputId": "9e4b86ea-5d3e-4e74-de8e-ebf11c6b1d42"
      },
      "execution_count": null,
      "outputs": [
        {
          "output_type": "execute_result",
          "data": {
            "text/plain": [
              "-1.0"
            ]
          },
          "metadata": {},
          "execution_count": 191
        }
      ]
    },
    {
      "cell_type": "code",
      "source": [
        "#Exponentiation\n",
        "E = d**c\n",
        "E"
      ],
      "metadata": {
        "colab": {
          "base_uri": "https://localhost:8080/"
        },
        "id": "OLXsqoEY0sBh",
        "outputId": "4fbe260c-68be-4a65-8531-f9a29f9d24b3"
      },
      "execution_count": null,
      "outputs": [
        {
          "output_type": "execute_result",
          "data": {
            "text/plain": [
              "279841"
            ]
          },
          "metadata": {},
          "execution_count": 192
        }
      ]
    },
    {
      "cell_type": "code",
      "source": [
        "#Modulo\n",
        "mod = b%c\n",
        "mod"
      ],
      "metadata": {
        "colab": {
          "base_uri": "https://localhost:8080/"
        },
        "id": "hjJItAgG1KhG",
        "outputId": "cd5c24dd-7e7f-48fd-c892-ea2b3892d8bd"
      },
      "execution_count": null,
      "outputs": [
        {
          "output_type": "execute_result",
          "data": {
            "text/plain": [
              "3.89"
            ]
          },
          "metadata": {},
          "execution_count": 193
        }
      ]
    },
    {
      "cell_type": "markdown",
      "source": [
        "## Assignment Operations"
      ],
      "metadata": {
        "id": "NNUD5db81tSA"
      }
    },
    {
      "cell_type": "code",
      "source": [
        "G, H, J, K = -11.3, 17, 16, 7.7"
      ],
      "metadata": {
        "id": "v6hhF1dy1wrR"
      },
      "execution_count": null,
      "outputs": []
    },
    {
      "cell_type": "code",
      "source": [
        "G += a\n",
        "G"
      ],
      "metadata": {
        "colab": {
          "base_uri": "https://localhost:8080/"
        },
        "id": "Es8nTwyy19RO",
        "outputId": "630588e8-cea8-475c-ef85-cfd8e28c15af"
      },
      "execution_count": null,
      "outputs": [
        {
          "output_type": "execute_result",
          "data": {
            "text/plain": [
              "14.0"
            ]
          },
          "metadata": {},
          "execution_count": 195
        }
      ]
    },
    {
      "cell_type": "code",
      "source": [
        "H -= d\n",
        "H"
      ],
      "metadata": {
        "colab": {
          "base_uri": "https://localhost:8080/"
        },
        "id": "rGQUc_Zr2fnl",
        "outputId": "eab18447-e80a-4000-8edd-abb0dc1a286d"
      },
      "execution_count": null,
      "outputs": [
        {
          "output_type": "execute_result",
          "data": {
            "text/plain": [
              "40"
            ]
          },
          "metadata": {},
          "execution_count": 196
        }
      ]
    },
    {
      "cell_type": "code",
      "source": [
        "J *= 2\n",
        "J"
      ],
      "metadata": {
        "colab": {
          "base_uri": "https://localhost:8080/"
        },
        "id": "P14Uyja724oP",
        "outputId": "9f122ee3-5a33-4ec1-cc60-1e1e7ad0c95a"
      },
      "execution_count": null,
      "outputs": [
        {
          "output_type": "execute_result",
          "data": {
            "text/plain": [
              "32"
            ]
          },
          "metadata": {},
          "execution_count": 197
        }
      ]
    },
    {
      "cell_type": "code",
      "source": [
        "K **= 8\n",
        "K"
      ],
      "metadata": {
        "colab": {
          "base_uri": "https://localhost:8080/"
        },
        "id": "MRXQ1tDX3JXO",
        "outputId": "e016973a-5457-45bb-9937-ca50782f94e2"
      },
      "execution_count": null,
      "outputs": [
        {
          "output_type": "execute_result",
          "data": {
            "text/plain": [
              "12357362.915476812"
            ]
          },
          "metadata": {},
          "execution_count": 198
        }
      ]
    },
    {
      "cell_type": "markdown",
      "source": [
        "## Comparators"
      ],
      "metadata": {
        "id": "-4lZ0NhM3XhO"
      }
    },
    {
      "cell_type": "code",
      "source": [
        "res_1, res_2, res_3 = 4, 2.0, \"1\"\n",
        "true_val =1.0"
      ],
      "metadata": {
        "id": "jZUwYnjp3ZoJ"
      },
      "execution_count": null,
      "outputs": []
    },
    {
      "cell_type": "code",
      "source": [
        "#Equality\n",
        "res_3 == true_val"
      ],
      "metadata": {
        "colab": {
          "base_uri": "https://localhost:8080/"
        },
        "id": "LIAL6HYL3pW0",
        "outputId": "5fbb95ed-5d5b-41fb-989e-66cf60b5f6f5"
      },
      "execution_count": null,
      "outputs": [
        {
          "output_type": "execute_result",
          "data": {
            "text/plain": [
              "False"
            ]
          },
          "metadata": {},
          "execution_count": 200
        }
      ]
    },
    {
      "cell_type": "code",
      "source": [
        "#Non-equality\n",
        "res_2 != true_val"
      ],
      "metadata": {
        "colab": {
          "base_uri": "https://localhost:8080/"
        },
        "id": "XDwQ85Uf35mI",
        "outputId": "256b2a03-b5b9-474d-c6f6-4f24af2833fc"
      },
      "execution_count": null,
      "outputs": [
        {
          "output_type": "execute_result",
          "data": {
            "text/plain": [
              "True"
            ]
          },
          "metadata": {},
          "execution_count": 201
        }
      ]
    },
    {
      "cell_type": "code",
      "source": [
        "## Inequality\n",
        "t1 = res_1 > res_2\n",
        "t2 = res_1 < res_2/2\n",
        "t3 = res_1 >= res_2/2\n",
        "t4 = res_1 <= res_2\n",
        "t1"
      ],
      "metadata": {
        "colab": {
          "base_uri": "https://localhost:8080/"
        },
        "id": "32LDRfdh4Qlb",
        "outputId": "41151e00-e72d-426f-cb21-a08565adc27c"
      },
      "execution_count": null,
      "outputs": [
        {
          "output_type": "execute_result",
          "data": {
            "text/plain": [
              "True"
            ]
          },
          "metadata": {},
          "execution_count": 202
        }
      ]
    },
    {
      "cell_type": "markdown",
      "source": [
        "## Logical"
      ],
      "metadata": {
        "id": "WF2teUxf5FTP"
      }
    },
    {
      "cell_type": "code",
      "source": [
        "res_1 == true_val"
      ],
      "metadata": {
        "colab": {
          "base_uri": "https://localhost:8080/"
        },
        "id": "BdcTry7o5HQw",
        "outputId": "639b3c0e-1cc1-4e9c-c474-dde3344f7805"
      },
      "execution_count": null,
      "outputs": [
        {
          "output_type": "execute_result",
          "data": {
            "text/plain": [
              "False"
            ]
          },
          "metadata": {},
          "execution_count": 203
        }
      ]
    },
    {
      "cell_type": "code",
      "source": [
        "res_1 is true_val"
      ],
      "metadata": {
        "colab": {
          "base_uri": "https://localhost:8080/"
        },
        "id": "Ud0g4a2Y5fkR",
        "outputId": "8422ea05-fd40-4dc6-d9cf-87460839268a"
      },
      "execution_count": null,
      "outputs": [
        {
          "output_type": "execute_result",
          "data": {
            "text/plain": [
              "False"
            ]
          },
          "metadata": {},
          "execution_count": 204
        }
      ]
    },
    {
      "cell_type": "code",
      "source": [
        "res_1 is not true_val"
      ],
      "metadata": {
        "colab": {
          "base_uri": "https://localhost:8080/"
        },
        "id": "e6jhtyHq5k-V",
        "outputId": "841f461c-139c-4aa0-fcb4-fb48b013e494"
      },
      "execution_count": null,
      "outputs": [
        {
          "output_type": "execute_result",
          "data": {
            "text/plain": [
              "True"
            ]
          },
          "metadata": {},
          "execution_count": 205
        }
      ]
    },
    {
      "cell_type": "code",
      "source": [
        "p, q = True, False\n",
        "conj = p and q\n",
        "conj\n"
      ],
      "metadata": {
        "colab": {
          "base_uri": "https://localhost:8080/"
        },
        "id": "HFgr3YkP5n_v",
        "outputId": "6b3756f9-67a1-4dc1-948f-6effcf21da97"
      },
      "execution_count": null,
      "outputs": [
        {
          "output_type": "execute_result",
          "data": {
            "text/plain": [
              "False"
            ]
          },
          "metadata": {},
          "execution_count": 206
        }
      ]
    },
    {
      "cell_type": "code",
      "source": [
        "p, q = True, False\n",
        "disj = p or q\n",
        "disj\n"
      ],
      "metadata": {
        "colab": {
          "base_uri": "https://localhost:8080/"
        },
        "id": "OiwAZjU57FN8",
        "outputId": "5df67ec1-bc2b-444c-ccd8-eaa30effc97c"
      },
      "execution_count": null,
      "outputs": [
        {
          "output_type": "execute_result",
          "data": {
            "text/plain": [
              "True"
            ]
          },
          "metadata": {},
          "execution_count": 207
        }
      ]
    },
    {
      "cell_type": "code",
      "source": [
        "p, q = True, False\n",
        "e = not(p and q)\n",
        "e"
      ],
      "metadata": {
        "colab": {
          "base_uri": "https://localhost:8080/"
        },
        "id": "GxdOfIt97bU6",
        "outputId": "82fbb7d2-1863-4893-99b3-bf9af7a7cfd1"
      },
      "execution_count": null,
      "outputs": [
        {
          "output_type": "execute_result",
          "data": {
            "text/plain": [
              "True"
            ]
          },
          "metadata": {},
          "execution_count": 208
        }
      ]
    },
    {
      "cell_type": "code",
      "source": [
        "p, q = True, False\n",
        "xor = (not p and q) or (p and not q)\n",
        "xor"
      ],
      "metadata": {
        "colab": {
          "base_uri": "https://localhost:8080/"
        },
        "id": "HOLoesFl7soP",
        "outputId": "7e45acb6-88c8-45d6-b26d-eee23a29e3da"
      },
      "execution_count": null,
      "outputs": [
        {
          "output_type": "execute_result",
          "data": {
            "text/plain": [
              "True"
            ]
          },
          "metadata": {},
          "execution_count": 209
        }
      ]
    },
    {
      "cell_type": "markdown",
      "source": [
        "## I/O"
      ],
      "metadata": {
        "id": "kJxmee-979KU"
      }
    },
    {
      "cell_type": "code",
      "source": [
        "print(\"Gutom na po ako\")"
      ],
      "metadata": {
        "colab": {
          "base_uri": "https://localhost:8080/"
        },
        "id": "PajD04hJ7_S9",
        "outputId": "435e81b7-0ca0-49d5-a9a3-138ef5c734f8"
      },
      "execution_count": null,
      "outputs": [
        {
          "output_type": "stream",
          "name": "stdout",
          "text": [
            "Gutom na po ako\n"
          ]
        }
      ]
    },
    {
      "cell_type": "code",
      "source": [
        "cnt = 100"
      ],
      "metadata": {
        "id": "9q58fOiN8Crh"
      },
      "execution_count": null,
      "outputs": []
    },
    {
      "cell_type": "code",
      "source": [
        "string = \"Gutom na po ako\"\n",
        "print (string, \", Amount of stress:\", cnt)\n",
        "cnt += 10"
      ],
      "metadata": {
        "colab": {
          "base_uri": "https://localhost:8080/"
        },
        "id": "rXXOmm6L8EE0",
        "outputId": "0a4d3443-74b6-4a14-9f10-21b86972c5c7"
      },
      "execution_count": null,
      "outputs": [
        {
          "output_type": "stream",
          "name": "stdout",
          "text": [
            "Gutom na po ako , Amount of stress: 110\n"
          ]
        }
      ]
    },
    {
      "cell_type": "code",
      "source": [
        "print(f\"{string}, Current stress is: {cnt}\")"
      ],
      "metadata": {
        "colab": {
          "base_uri": "https://localhost:8080/"
        },
        "id": "DHsR1see8Uqa",
        "outputId": "1667f72d-4f42-41b9-f8ed-452f3085ef6e"
      },
      "execution_count": null,
      "outputs": [
        {
          "output_type": "stream",
          "name": "stdout",
          "text": [
            "Gutom na po ako, Current stress is: 120\n"
          ]
        }
      ]
    },
    {
      "cell_type": "code",
      "source": [
        "sem_grade = 99.99999999\n",
        "name = \"Luna\"\n",
        "print(\"Annyeong {}, ang imong semestral grade is: {}\".format(name, sem_grade))\n"
      ],
      "metadata": {
        "colab": {
          "base_uri": "https://localhost:8080/"
        },
        "id": "VAqhw-oY9Zht",
        "outputId": "3392b365-bbf8-4b63-c56c-492ea057145a"
      },
      "execution_count": null,
      "outputs": [
        {
          "output_type": "stream",
          "name": "stdout",
          "text": [
            "Annyeong Luna, ang imong semestral grade is: 99.99999999\n"
          ]
        }
      ]
    },
    {
      "cell_type": "code",
      "source": [
        "w_pg, w_mg, w_fg = 0.3, 0.3, 0.4\n",
        "print(\"The weights of your semestral grades are:\\\n",
        "\\n\\t{:.2%} for Prelim\\\n",
        "\\n\\t{:.2%} for Midterms, and\\\n",
        "\\n\\t{:.2%} for Finals.\".format(w_pg, w_mg, w_fg))"
      ],
      "metadata": {
        "colab": {
          "base_uri": "https://localhost:8080/"
        },
        "id": "Wqzn2WLZtrtg",
        "outputId": "a51a6039-5f96-4dd4-cf82-955153a9509f"
      },
      "execution_count": null,
      "outputs": [
        {
          "output_type": "stream",
          "name": "stdout",
          "text": [
            "The weights of your semestral grades are:\n",
            "\t30.00% for Prelim\n",
            "\t30.00% for Midterms, and\n",
            "\t40.00% for Finals.\n"
          ]
        }
      ]
    },
    {
      "cell_type": "code",
      "source": [
        "x = input(\"favorite show: \")\n",
        "x"
      ],
      "metadata": {
        "colab": {
          "base_uri": "https://localhost:8080/",
          "height": 53
        },
        "id": "SQ5ck34oudpO",
        "outputId": "f0fe6378-b96e-464c-e0bc-e9dc13370ffe"
      },
      "execution_count": null,
      "outputs": [
        {
          "name": "stdout",
          "output_type": "stream",
          "text": [
            "favorite show: Friends\n"
          ]
        },
        {
          "output_type": "execute_result",
          "data": {
            "application/vnd.google.colaboratory.intrinsic+json": {
              "type": "string"
            },
            "text/plain": [
              "'Friends'"
            ]
          },
          "metadata": {},
          "execution_count": 217
        }
      ]
    },
    {
      "cell_type": "code",
      "source": [
        "name = input(\"Please type your full name here: \")\n",
        "pg = input(\"Bata lagay mo grade mo prelims: \")\n",
        "mg = input(\"Bata lagay mo grade mo midterms: \")\n",
        "fg = input(\"Bata lagay mo grade mo finals: \")\n",
        "sem_grade = None\n",
        "print(\"Please settle your balance first to see your grades.\")\n",
        "print(\"Hello {}, your semestral grade is: {}\".format(name, sem_grade))"
      ],
      "metadata": {
        "colab": {
          "base_uri": "https://localhost:8080/"
        },
        "id": "muBsm8mdu6P5",
        "outputId": "873a6080-2a05-4778-98dc-88f7b8556b86"
      },
      "execution_count": null,
      "outputs": [
        {
          "output_type": "stream",
          "name": "stdout",
          "text": [
            "Please type your full name here: Batumbakal, Mark Jozel\n",
            "Bata lagay mo grade mo prelims: 99\n",
            "Bata lagay mo grade mo midterms: 88\n",
            "Bata lagay mo grade mo finals: 77\n",
            "Please settle your balance first to see your grades.\n",
            "Hello Batumbakal, Mark Jozel, your semestral grade is: None\n"
          ]
        }
      ]
    },
    {
      "cell_type": "markdown",
      "source": [
        "# Looping Statement\n",
        "Looping statements allow a function to be executed repeatedly. In this laboratory\n",
        "activity, while loop and for loop are used. The following are the codes used for this\n",
        "fundamental"
      ],
      "metadata": {
        "id": "Awg4GnMuv-69"
      }
    },
    {
      "cell_type": "markdown",
      "source": [
        "## While"
      ],
      "metadata": {
        "id": "ynmO1iiTwC4E"
      }
    },
    {
      "cell_type": "code",
      "source": [
        "## while loops\n",
        "i, j = 0, 24\n",
        "while(i<=j):\n",
        "  print(f\"{i}\\t|\\t{j}\")\n",
        "  i+=1"
      ],
      "metadata": {
        "colab": {
          "base_uri": "https://localhost:8080/"
        },
        "id": "wyPlcm6RwEL8",
        "outputId": "fd351506-f355-4943-a4d0-c71b6517b016"
      },
      "execution_count": null,
      "outputs": [
        {
          "output_type": "stream",
          "name": "stdout",
          "text": [
            "0\t|\t24\n",
            "1\t|\t24\n",
            "2\t|\t24\n",
            "3\t|\t24\n",
            "4\t|\t24\n",
            "5\t|\t24\n",
            "6\t|\t24\n",
            "7\t|\t24\n",
            "8\t|\t24\n",
            "9\t|\t24\n",
            "10\t|\t24\n",
            "11\t|\t24\n",
            "12\t|\t24\n",
            "13\t|\t24\n",
            "14\t|\t24\n",
            "15\t|\t24\n",
            "16\t|\t24\n",
            "17\t|\t24\n",
            "18\t|\t24\n",
            "19\t|\t24\n",
            "20\t|\t24\n",
            "21\t|\t24\n",
            "22\t|\t24\n",
            "23\t|\t24\n",
            "24\t|\t24\n"
          ]
        }
      ]
    },
    {
      "cell_type": "markdown",
      "source": [
        "## For"
      ],
      "metadata": {
        "id": "kbiA5kcgwarR"
      }
    },
    {
      "cell_type": "code",
      "source": [
        "# for(int i=0; i<10; i++){\n",
        "# printf(i)\n",
        "# }\n",
        "\n",
        "i=0\n",
        "for i in range (8):\n",
        "  print(i)"
      ],
      "metadata": {
        "colab": {
          "base_uri": "https://localhost:8080/"
        },
        "id": "4amnwtxrxWvY",
        "outputId": "caf69585-ff9b-4957-880b-27ad3b699dfe"
      },
      "execution_count": null,
      "outputs": [
        {
          "output_type": "stream",
          "name": "stdout",
          "text": [
            "0\n",
            "1\n",
            "2\n",
            "3\n",
            "4\n",
            "5\n",
            "6\n",
            "7\n"
          ]
        }
      ]
    },
    {
      "cell_type": "code",
      "source": [
        "playlist = [\"simple times\", \"knife talk\", \"eleven\"]\n",
        "print('Now Playing:\\n')\n",
        "for song in playlist:\n",
        "  print(song)"
      ],
      "metadata": {
        "colab": {
          "base_uri": "https://localhost:8080/"
        },
        "id": "bRI7A9njyE1v",
        "outputId": "b802f131-d31f-41f6-86a0-8102d17d37c6"
      },
      "execution_count": null,
      "outputs": [
        {
          "output_type": "stream",
          "name": "stdout",
          "text": [
            "Now Playing:\n",
            "\n",
            "simple times\n",
            "knife talk\n",
            "eleven\n"
          ]
        }
      ]
    },
    {
      "cell_type": "markdown",
      "source": [
        "#Flow Control\n",
        "Flow controls are conditions that control the presentation of codes to be executed.\n",
        "There are different types of flow control, but in this method, conditional control “if” and\n",
        "“else if” are used. The function also includes pausing the parent flow execution until the\n",
        "function runs out of things to do or executes a return statement.\n"
      ],
      "metadata": {
        "id": "XYITePm9ylHX"
      }
    },
    {
      "cell_type": "markdown",
      "source": [
        "## Condition Statements"
      ],
      "metadata": {
        "id": "i-TpV4ZZyuia"
      }
    },
    {
      "cell_type": "code",
      "source": [
        "numeral1, numeral2 = 12, 17\n",
        "if(numeral1 == numeral2):\n",
        "  print(\"Ayaw ko na\")\n",
        "elif(numeral1>numeral2):\n",
        "  print(\"Suko na ako\")\n",
        "else:\n",
        "  print(\"Wag na yan\")"
      ],
      "metadata": {
        "colab": {
          "base_uri": "https://localhost:8080/"
        },
        "id": "iAOIYKqOyz6u",
        "outputId": "2c8d973e-58aa-4db7-9139-a50779a3f0a4"
      },
      "execution_count": null,
      "outputs": [
        {
          "output_type": "stream",
          "name": "stdout",
          "text": [
            "Wag na yan\n"
          ]
        }
      ]
    },
    {
      "cell_type": "markdown",
      "source": [
        "## Functions"
      ],
      "metadata": {
        "id": "Fz7OG6_c1svQ"
      }
    },
    {
      "cell_type": "code",
      "source": [
        "# void DeleteUser(int userid){\n",
        "#   delete(userid);\n",
        "# }\n",
        "def delete_user (userid):\n",
        "    print(\"Natanggal na rin kita sa wakas: {}\".format(userid))\n",
        "  \n",
        "def delete_all_users ():\n",
        "    print(\"Nadelete ko na rin lahat hays\")"
      ],
      "metadata": {
        "id": "ouj_xyvY1t2t"
      },
      "execution_count": null,
      "outputs": []
    },
    {
      "cell_type": "code",
      "source": [
        "userid = \"Badong\"\n",
        "delete_user(\"Badong\")\n",
        "delete_all_users()"
      ],
      "metadata": {
        "colab": {
          "base_uri": "https://localhost:8080/"
        },
        "id": "iIk_33sx2PU7",
        "outputId": "c366e2eb-01dc-434b-b912-67e43941df33"
      },
      "execution_count": null,
      "outputs": [
        {
          "output_type": "stream",
          "name": "stdout",
          "text": [
            "Natanggal na rin kita sa wakas: Badong\n",
            "Nadelete ko na rin lahat hays\n"
          ]
        }
      ]
    },
    {
      "cell_type": "code",
      "source": [
        "def add(addend1, addend2):\n",
        "  return addend1 + addend2\n",
        "\n",
        "def power_of_base2(exponent):\n",
        "  return 5**exponent"
      ],
      "metadata": {
        "id": "H8-NKwpg3hQn"
      },
      "execution_count": null,
      "outputs": []
    },
    {
      "cell_type": "code",
      "source": [
        "#addend1, addend2 = 9896546, 654654\n",
        "#add(addend1, addend2)\n",
        "\n",
        "exponent = 111\n",
        "power_of_base2(exponent)"
      ],
      "metadata": {
        "colab": {
          "base_uri": "https://localhost:8080/"
        },
        "id": "lZqodHEl3tB6",
        "outputId": "0518abf1-5eec-4917-db9c-a9bb3f2edecf"
      },
      "execution_count": null,
      "outputs": [
        {
          "output_type": "execute_result",
          "data": {
            "text/plain": [
              "385185988877447170611195588516985463707620329643077639047987759113311767578125"
            ]
          },
          "metadata": {},
          "execution_count": 64
        }
      ]
    }
  ]
}
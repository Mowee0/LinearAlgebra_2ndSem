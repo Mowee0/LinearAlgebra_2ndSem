{
  "nbformat": 4,
  "nbformat_minor": 0,
  "metadata": {
    "kernelspec": {
      "display_name": "Python 3",
      "language": "python",
      "name": "python3"
    },
    "language_info": {
      "codemirror_mode": {
        "name": "ipython",
        "version": 3
      },
      "file_extension": ".py",
      "mimetype": "text/x-python",
      "name": "python",
      "nbconvert_exporter": "python",
      "pygments_lexer": "ipython3",
      "version": "3.8.3"
    },
    "colab": {
      "name": "Assignment_10-Arriola-Valenzuela.ipynb",
      "provenance": [],
      "include_colab_link": true
    }
  },
  "cells": [
    {
      "cell_type": "markdown",
      "metadata": {
        "id": "view-in-github",
        "colab_type": "text"
      },
      "source": [
        "<a href=\"https://colab.research.google.com/github/Mowee0/LinearAlgebra_2ndSem/blob/main/Assignment_10_Arriola_Valenzuela.ipynb\" target=\"_parent\"><img src=\"https://colab.research.google.com/assets/colab-badge.svg\" alt=\"Open In Colab\"/></a>"
      ]
    },
    {
      "cell_type": "markdown",
      "metadata": {
        "id": "F7JH-Oc2O9Sw"
      },
      "source": [
        "# Linear Algebra for ECE\n",
        "## Laboratory 10 : Linear Combination and Vector Spaces"
      ]
    },
    {
      "cell_type": "markdown",
      "metadata": {
        "id": "aTacEIfvO9S0"
      },
      "source": [
        "Now that you have a fundamental knowledge about linear combination, we'll try to visualize it using scientific programming."
      ]
    },
    {
      "cell_type": "markdown",
      "metadata": {
        "id": "5Rk-2NPqO9S1"
      },
      "source": [
        "### Objectives\n",
        "At the end of this activity you will be able to:\n",
        "1. Be familiar with representing linear combinations in the 2-dimensional plane.\n",
        "2. Visualize spans using vector fields in Python.\n",
        "3. Perform vector fields operations using scientific programming."
      ]
    },
    {
      "cell_type": "markdown",
      "metadata": {
        "id": "PJYUg0_dO9S1"
      },
      "source": [
        "## Discussion"
      ]
    },
    {
      "cell_type": "code",
      "metadata": {
        "id": "ZQYRaKtkO9S1"
      },
      "source": [
        "import numpy as np\n",
        "import matplotlib.pyplot as plt\n",
        "%matplotlib inline"
      ],
      "execution_count": 142,
      "outputs": []
    },
    {
      "cell_type": "markdown",
      "metadata": {
        "id": "REOM226CO9S2"
      },
      "source": [
        "## Linear Combination"
      ]
    },
    {
      "cell_type": "markdown",
      "metadata": {
        "id": "_-14ifj_O9S3"
      },
      "source": [
        "Linear combination is the summation of matrices that were priorly multiplied by a scalar quantity [1]. It is the combination of linear scaling and addition of a vector its bases/components. We will try to visualize the vectors and their linear combinations by plotting a sample of real number values for the scalars for the vectors. Let's first try the vectors below:"
      ]
    },
    {
      "cell_type": "markdown",
      "source": [
        ""
      ],
      "metadata": {
        "id": "FkvsxRchjCL7"
      }
    },
    {
      "cell_type": "markdown",
      "metadata": {
        "id": "A1p9s0DvO9S4"
      },
      "source": [
        "$$X = \\begin{bmatrix} 8\\\\12\\\\3 \\\\\\end{bmatrix} , Y = \\begin{bmatrix} 4\\\\11\\\\4 \\\\\\end{bmatrix} $$"
      ]
    },
    {
      "cell_type": "code",
      "metadata": {
        "id": "V0jYnfAaO9S4"
      },
      "source": [
        "vectX =  np.array([8,12,3])\n",
        "vectY =  np.array([4,11,4])"
      ],
      "execution_count": 143,
      "outputs": []
    },
    {
      "cell_type": "markdown",
      "metadata": {
        "id": "ZnweVCl3O9S4"
      },
      "source": [
        "#### Span of single vectors"
      ]
    },
    {
      "cell_type": "markdown",
      "metadata": {
        "id": "I1is-SWEO9S5"
      },
      "source": [
        "As discussed in the lecture, the span of individual vectors can be represented by a line span. Let's take vector $X$ as an example."
      ]
    },
    {
      "cell_type": "markdown",
      "metadata": {
        "id": "1TuPwTkVO9S5"
      },
      "source": [
        "$$X = c\\cdot \\begin{bmatrix} 8\\\\12\\\\3 \\\\\\end{bmatrix} $$"
      ]
    },
    {
      "cell_type": "code",
      "metadata": {
        "colab": {
          "base_uri": "https://localhost:8080/",
          "height": 269
        },
        "id": "ttPQ0Ti4O9S5",
        "outputId": "c01a9d1f-2921-4d6e-9475-e7ebaebe2440"
      },
      "source": [
        "c = np.arange(-20,20,2)\n",
        "\n",
        "plt.scatter(c*vectX[0],c*vectX[1])\n",
        "\n",
        "plt.xlim(-300,300)\n",
        "plt.ylim(-300,300)\n",
        "plt.axhline(y=0, color='yellow')\n",
        "plt.axvline(x=0, color='yellow')\n",
        "plt.grid()\n",
        "plt.show()"
      ],
      "execution_count": 145,
      "outputs": [
        {
          "output_type": "display_data",
          "data": {
            "text/plain": [
              "<Figure size 432x288 with 1 Axes>"
            ],
            "image/png": "[encoded data removed]"
          },
          "metadata": {
            "needs_background": "light"
          }
        }
      ]
    },
    {
      "cell_type": "markdown",
      "metadata": {
        "id": "pf_rVm8FV0Jy"
      },
      "source": [
        "$$Y = c\\cdot \\begin{bmatrix} 4\\\\11\\\\4\\\\\\end{bmatrix} $$"
      ]
    },
    {
      "cell_type": "code",
      "metadata": {
        "colab": {
          "base_uri": "https://localhost:8080/",
          "height": 269
        },
        "id": "OjoN2KdzV5s2",
        "outputId": "01258be5-98d2-45e2-f372-441dd2894fb3"
      },
      "source": [
        "c = np.arange(-8,5,1)\n",
        "\n",
        "plt.scatter(c*vectY[0],c*vectY[1])\n",
        "\n",
        "plt.xlim(-100,100)\n",
        "plt.ylim(-100,100)\n",
        "plt.axhline(y=0, color='orange')\n",
        "plt.axvline(x=0, color='orange')\n",
        "plt.grid()\n",
        "plt.show()"
      ],
      "execution_count": 146,
      "outputs": [
        {
          "output_type": "display_data",
          "data": {
            "text/plain": [
              "<Figure size 432x288 with 1 Axes>"
            ],
            "image/png": "[encoded data removed]"
          },
          "metadata": {
            "needs_background": "light"
          }
        }
      ]
    },
    {
      "cell_type": "markdown",
      "metadata": {
        "id": "BXNrnuFLO9S6"
      },
      "source": [
        "### Span of a linear combination of vectors"
      ]
    },
    {
      "cell_type": "markdown",
      "metadata": {
        "id": "5gYQM__tO9S6"
      },
      "source": [
        "So what if we are to plot the span of a linear combination of vectors? We can visualize as a plane on the 2-dimensional coordinate system. Let's take the span of the linear combination below:"
      ]
    },
    {
      "cell_type": "markdown",
      "metadata": {
        "id": "7Tc0vPm-O9S6"
      },
      "source": [
        "$$S = \\begin{Bmatrix} c_1 \\cdot\\begin{bmatrix} -3\\\\5 \\\\\\end{bmatrix}, \n",
        "c_2 \\cdot \\begin{bmatrix} 9\\\\-7 \\\\\\end{bmatrix}\\end{Bmatrix} $$"
      ]
    },
    {
      "cell_type": "code",
      "metadata": {
        "colab": {
          "base_uri": "https://localhost:8080/",
          "height": 265
        },
        "id": "Z8UT7UNUO9S6",
        "outputId": "43e2cace-1bb2-4555-c683-5d335236bc26"
      },
      "source": [
        "vectA = np.array([-3,5])\n",
        "vectB = np.array([9,-7])\n",
        "\n",
        "R = np.arange(-2,4,0.5)\n",
        "\n",
        "c1, c2 = np.meshgrid(R,R)\n",
        "\n",
        "vectR = vectA + vectB\n",
        "spanRx = c1*vectA[0] + c2*vectB[0]\n",
        "spanRy = c1*vectA[1] + c2*vectB[1]\n",
        "##plt.scatter(R*vectA[0],R*vectA[1])\n",
        "##plt.scatter(R*vectB[0],R*vectB[1])\n",
        "plt.scatter(spanRx,spanRy, s=10, alpha=0.9)\n",
        "\n",
        "plt.axhline(y=0, color='k')\n",
        "plt.axvline(x=0, color='k')\n",
        "plt.grid()\n",
        "plt.show()"
      ],
      "execution_count": 147,
      "outputs": [
        {
          "output_type": "display_data",
          "data": {
            "text/plain": [
              "<Figure size 432x288 with 1 Axes>"
            ],
            "image/png": "[encoded data removed]"
          },
          "metadata": {
            "needs_background": "light"
          }
        }
      ]
    },
    {
      "cell_type": "code",
      "metadata": {
        "colab": {
          "base_uri": "https://localhost:8080/",
          "height": 267
        },
        "id": "REIskplJad3G",
        "outputId": "f6c53c7d-232d-41d6-bec7-788f029d88f2"
      },
      "source": [
        "vectP = np.array([9,-2])\n",
        "vectQ = np.array([-3,4])\n",
        "\n",
        "R = np.arange(-3,6,0.5)\n",
        "\n",
        "c1, c2 = np.meshgrid(R,R)\n",
        "\n",
        "vectR = vectP + vectQ\n",
        "spanRx = c1*vectP[0] + c2*vectQ[0]\n",
        "spanRy = c1*vectP[1] + c2*vectQ[1]\n",
        "##plt.scatter(R*vectA[0],R*vectA[1])\n",
        "##plt.scatter(R*vectB[0],R*vectB[1])\n",
        "plt.scatter(spanRx,spanRy, s=2, alpha=0.4)\n",
        "\n",
        "plt.axhline(y=0, color='k')\n",
        "plt.axvline(x=0, color='k')\n",
        "plt.grid()\n",
        "plt.show()"
      ],
      "execution_count": 148,
      "outputs": [
        {
          "output_type": "display_data",
          "data": {
            "text/plain": [
              "<Figure size 432x288 with 1 Axes>"
            ],
            "image/png": "[encoded data removed]"
          },
          "metadata": {
            "needs_background": "light"
          }
        }
      ]
    },
    {
      "cell_type": "markdown",
      "metadata": {
        "id": "N9nhJvXFO9S7"
      },
      "source": [
        "Take note that if vectors are seen to be as a 2-dimensional span we can say it has a Rank of 2 or $\\mathbb{R}^2$. But if the span of the linear combination of vectors are seen to be like a line, they are said to be <b> linearly dependent </b> and they have a rank of 1 or $\\mathbb{R}^1$."
      ]
    },
    {
      "cell_type": "markdown",
      "metadata": {
        "id": "2OVPBMoSO9S7"
      },
      "source": [
        "# Activity"
      ]
    },
    {
      "cell_type": "markdown",
      "metadata": {
        "id": "iT7GLOf6O9S7"
      },
      "source": [
        "### Task 1"
      ]
    },
    {
      "cell_type": "markdown",
      "metadata": {
        "id": "As7P0lcrO9S7"
      },
      "source": [
        "Try different linear combinations using different scalar values. In your methodology discuss the different functions that you have used, the  linear equation and vector form of the linear combination, and the flowchart for declaring and displaying linear combinations. Please make sure that your flowchart has only few words and not putting the entire code as it is bad practice. In your results, display and discuss the linear combination visualization you made. You should use the cells below for displaying the equation markdows using LaTeX and your code."
      ]
    },
    {
      "cell_type": "markdown",
      "metadata": {
        "id": "8Usvs9WoO9S7"
      },
      "source": [
        "$$\n",
        "Space \\cdot for \\cdot the \\cdot general \\cdot linear \\cdot equation \\cdot form\n",
        "$$"
      ]
    },
    {
      "cell_type": "markdown",
      "metadata": {
        "id": "peZ6TepdO9S7"
      },
      "source": [
        "$$Space \\cdot for \\cdot the \\cdot vector \\cdot form$$"
      ]
    },
    {
      "cell_type": "code",
      "metadata": {
        "id": "0zDr8Wt0O9S8"
      },
      "source": [
        "### TYPE YOU CODE FOR TASK 1 HERE"
      ],
      "execution_count": null,
      "outputs": []
    },
    {
      "cell_type": "markdown",
      "metadata": {
        "id": "FyEYibVfO9S9"
      },
      "source": [
        "## Conclusion guide"
      ]
    },
    {
      "cell_type": "markdown",
      "metadata": {
        "id": "smmACaxLO9S9"
      },
      "source": [
        "For your conclusion synthesize the concept and application of the laboratory. Briefly discuss what you have learn and achieved in this activity. At the end of your conclusion try to answer the question : \"How can you apply the concept of linear combination in engineering or real-life situations?\"."
      ]
    }
  ]
}
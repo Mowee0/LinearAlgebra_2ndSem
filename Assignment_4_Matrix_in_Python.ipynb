{
  "nbformat": 4,
  "nbformat_minor": 0,
  "metadata": {
    "colab": {
      "name": "Assignment_4_Matrix_in_Python.ipynb",
      "provenance": [],
      "include_colab_link": true
    },
    "kernelspec": {
      "name": "python3",
      "display_name": "Python 3"
    },
    "language_info": {
      "name": "python"
    }
  },
  "cells": [
    {
      "cell_type": "markdown",
      "metadata": {
        "id": "view-in-github",
        "colab_type": "text"
      },
      "source": [
        "<a href=\"https://colab.research.google.com/github/Mowee0/LinearAlgebra_2ndSem/blob/main/Assignment_4_Matrix_in_Python.ipynb\" target=\"_parent\"><img src=\"https://colab.research.google.com/assets/colab-badge.svg\" alt=\"Open In Colab\"/></a>"
      ]
    },
    {
      "cell_type": "markdown",
      "source": [
        "#Linear Algebra for ChE\n",
        "##Laboratory 4: Matrix Operations\n",
        "###Objective\n",
        "1) Be familiar with the fundamental matrix operations.\n",
        "\n",
        "2) Apply the operations to solve intermediate.\n",
        "\n",
        "3) Apply matrix algebra in engineering solutions.\n",
        "\n",
        "4) Prove the six matrix multiplication properties"
      ],
      "metadata": {
        "id": "-QO7Crmi8Qgl"
      }
    },
    {
      "cell_type": "markdown",
      "source": [
        "##Discussion"
      ],
      "metadata": {
        "id": "Zmqhfucm8j8C"
      }
    },
    {
      "cell_type": "code",
      "source": [
        "import numpy as np\n",
        "import matplotlib.pyplot as plt\n",
        "%matplotlib inline\n"
      ],
      "metadata": {
        "id": "i_hov5Bb8miM"
      },
      "execution_count": 60,
      "outputs": []
    },
    {
      "cell_type": "markdown",
      "source": [
        "##Transposition\n",
        "One of the fundamental operations in matrix algebra is Transposition. Transpose matrix is a matrix wherein the row of Matrix A will now be in column and the column of Matrix A will be the row. When this happens, the shape of the matrix will be changed.. So for a matrix $A$ its transpose is denoted as $A^T$. So for example:"
      ],
      "metadata": {
        "id": "tMvFKlHx83__"
      }
    },
    {
      "cell_type": "markdown",
      "source": [
        "$$A = \\begin{bmatrix} 3&57&8&5\\\\-64&-13&20&6\\\\69&8&7&8\\end{bmatrix} $$\n",
        "\n",
        "$$ A^T = \\begin{bmatrix} 3&-64&69\\\\57&-13&8\\\\8&20&7\\\\5&6&8\\end{bmatrix}$$"
      ],
      "metadata": {
        "id": "dnyXKZGJAdvg"
      }
    },
    {
      "cell_type": "code",
      "source": [
        "A = np.array ([\n",
        "    [3, 57, 8, 5],\n",
        "    [-64, -13, 20, 6],\n",
        "    [69, 8, 7, 8]\n",
        "])\n",
        "A"
      ],
      "metadata": {
        "colab": {
          "base_uri": "https://localhost:8080/"
        },
        "id": "HJ-XL9Ka9nDi",
        "outputId": "d81e2830-0132-4a2c-de61-2791e838e216"
      },
      "execution_count": 61,
      "outputs": [
        {
          "output_type": "execute_result",
          "data": {
            "text/plain": [
              "array([[  3,  57,   8,   5],\n",
              "       [-64, -13,  20,   6],\n",
              "       [ 69,   8,   7,   8]])"
            ]
          },
          "metadata": {},
          "execution_count": 61
        }
      ]
    },
    {
      "cell_type": "code",
      "source": [
        "AT1 = np.transpose(A)\n",
        "AT1"
      ],
      "metadata": {
        "colab": {
          "base_uri": "https://localhost:8080/"
        },
        "id": "RvN7FelG-ALX",
        "outputId": "92d6046c-8070-4692-8b95-3a3764da406c"
      },
      "execution_count": 62,
      "outputs": [
        {
          "output_type": "execute_result",
          "data": {
            "text/plain": [
              "array([[  3, -64,  69],\n",
              "       [ 57, -13,   8],\n",
              "       [  8,  20,   7],\n",
              "       [  5,   6,   8]])"
            ]
          },
          "metadata": {},
          "execution_count": 62
        }
      ]
    },
    {
      "cell_type": "code",
      "source": [
        "AT2 = A.T\n",
        "AT2"
      ],
      "metadata": {
        "colab": {
          "base_uri": "https://localhost:8080/"
        },
        "id": "U7u0VTz0-n_K",
        "outputId": "29105c82-40e0-4b77-f878-1bcf44fed606"
      },
      "execution_count": 63,
      "outputs": [
        {
          "output_type": "execute_result",
          "data": {
            "text/plain": [
              "array([[  3, -64,  69],\n",
              "       [ 57, -13,   8],\n",
              "       [  8,  20,   7],\n",
              "       [  5,   6,   8]])"
            ]
          },
          "metadata": {},
          "execution_count": 63
        }
      ]
    },
    {
      "cell_type": "code",
      "source": [
        "np.array_equiv(AT1, AT2)"
      ],
      "metadata": {
        "colab": {
          "base_uri": "https://localhost:8080/"
        },
        "id": "DjxKMhIW_A2C",
        "outputId": "85f04248-5bed-4dc5-e507-d1f947dff7bf"
      },
      "execution_count": 64,
      "outputs": [
        {
          "output_type": "execute_result",
          "data": {
            "text/plain": [
              "True"
            ]
          },
          "metadata": {},
          "execution_count": 64
        }
      ]
    },
    {
      "cell_type": "code",
      "source": [
        "B = np.array([\n",
        "    [98, 78, 65, 123, 98565],\n",
        "    [65, 897, 16871, 656, 546],\n",
        "    [12, 32, 46464, 789, 465]\n",
        "])\n",
        "B.shape"
      ],
      "metadata": {
        "colab": {
          "base_uri": "https://localhost:8080/"
        },
        "id": "UxOl62OO_WXL",
        "outputId": "91c10713-9017-42a2-f488-ca10205dab42"
      },
      "execution_count": 65,
      "outputs": [
        {
          "output_type": "execute_result",
          "data": {
            "text/plain": [
              "(3, 5)"
            ]
          },
          "metadata": {},
          "execution_count": 65
        }
      ]
    },
    {
      "cell_type": "code",
      "source": [
        "np.transpose(B).shape"
      ],
      "metadata": {
        "colab": {
          "base_uri": "https://localhost:8080/"
        },
        "id": "L2nhsvZsXP76",
        "outputId": "be210c33-b618-460d-99cc-2a693d1c7690"
      },
      "execution_count": 66,
      "outputs": [
        {
          "output_type": "execute_result",
          "data": {
            "text/plain": [
              "(5, 3)"
            ]
          },
          "metadata": {},
          "execution_count": 66
        }
      ]
    },
    {
      "cell_type": "code",
      "source": [
        "B.T.shape"
      ],
      "metadata": {
        "colab": {
          "base_uri": "https://localhost:8080/"
        },
        "id": "SBYg1yKOXZIQ",
        "outputId": "70ba29d3-438c-4b17-8cf6-bcec87577557"
      },
      "execution_count": 67,
      "outputs": [
        {
          "output_type": "execute_result",
          "data": {
            "text/plain": [
              "(5, 3)"
            ]
          },
          "metadata": {},
          "execution_count": 67
        }
      ]
    },
    {
      "cell_type": "markdown",
      "source": [
        "**Try to create your own matrix (you can try non-squares) to test transposition**"
      ],
      "metadata": {
        "id": "_ernCEDfXdsc"
      }
    },
    {
      "cell_type": "code",
      "source": [
        "C = np.array([\n",
        "    [12, 34, 56, 78, 90],\n",
        "    [21, 43, 65, 87, 9],\n",
        "    [10, 29, 38, 47, 56],\n",
        "    [1, 92, 83, 74, 65]\n",
        "])\n",
        "\n",
        "C"
      ],
      "metadata": {
        "colab": {
          "base_uri": "https://localhost:8080/"
        },
        "id": "VsMrZGFaXmNX",
        "outputId": "af6b2632-4c53-483b-b46e-052b7eafd58a"
      },
      "execution_count": 68,
      "outputs": [
        {
          "output_type": "execute_result",
          "data": {
            "text/plain": [
              "array([[12, 34, 56, 78, 90],\n",
              "       [21, 43, 65, 87,  9],\n",
              "       [10, 29, 38, 47, 56],\n",
              "       [ 1, 92, 83, 74, 65]])"
            ]
          },
          "metadata": {},
          "execution_count": 68
        }
      ]
    },
    {
      "cell_type": "code",
      "source": [
        "CT2 = C.T\n",
        "CT2"
      ],
      "metadata": {
        "colab": {
          "base_uri": "https://localhost:8080/"
        },
        "id": "j5iQz7bXYfhH",
        "outputId": "7c6a6b22-e4b1-4147-a18a-bb74ea3f6347"
      },
      "execution_count": 69,
      "outputs": [
        {
          "output_type": "execute_result",
          "data": {
            "text/plain": [
              "array([[12, 21, 10,  1],\n",
              "       [34, 43, 29, 92],\n",
              "       [56, 65, 38, 83],\n",
              "       [78, 87, 47, 74],\n",
              "       [90,  9, 56, 65]])"
            ]
          },
          "metadata": {},
          "execution_count": 69
        }
      ]
    },
    {
      "cell_type": "code",
      "source": [
        "C.shape"
      ],
      "metadata": {
        "colab": {
          "base_uri": "https://localhost:8080/"
        },
        "id": "ZPb2zGq1Y6cF",
        "outputId": "82372c4f-4715-4e4c-a96d-37a64a0b2aa6"
      },
      "execution_count": 70,
      "outputs": [
        {
          "output_type": "execute_result",
          "data": {
            "text/plain": [
              "(4, 5)"
            ]
          },
          "metadata": {},
          "execution_count": 70
        }
      ]
    },
    {
      "cell_type": "code",
      "source": [
        "np.transpose(B).shape"
      ],
      "metadata": {
        "colab": {
          "base_uri": "https://localhost:8080/"
        },
        "id": "Az-JsMdRYJ0k",
        "outputId": "a7f00e15-1822-4a98-ad67-f0c9a20921eb"
      },
      "execution_count": 71,
      "outputs": [
        {
          "output_type": "execute_result",
          "data": {
            "text/plain": [
              "(5, 3)"
            ]
          },
          "metadata": {},
          "execution_count": 71
        }
      ]
    },
    {
      "cell_type": "markdown",
      "source": [
        "##Dot Product/Inner Product\n",
        "If you recall the dot product from laboratory activity before, we will try to implement the same operation with matrices. In matrix dot product we are going to get the sum of products of the vectors by row-column pairs. So if we have two matrices $X$ and $Y$:\n",
        "\n",
        "$$X = \\begin{bmatrix}x_{(0,0)}&x_{(0,1)}\\\\ x_{(1,0)}&x_{(1,1)}\\end{bmatrix}, Y = \\begin{bmatrix}y_{(0,0)}&y_{(0,1)}\\\\ y_{(1,0)}&y_{(1,1)}\\end{bmatrix}$$\n",
        "\n",
        "The dot product will then be computed as:\n",
        "$$X \\cdot Y= \\begin{bmatrix} x_{(0,0)}*y_{(0,0)} + x_{(0,1)}*y_{(1,0)} & x_{(0,0)}*y_{(0,1)} + x_{(0,1)}*y_{(1,1)} \\\\  x_{(1,0)}*y_{(0,0)} + x_{(1,1)}*y_{(1,0)} & x_{(1,0)}*y_{(0,1)} + x_{(1,1)}*y_{(1,1)}\n",
        "\\end{bmatrix}$$\n",
        "\n",
        "So if we assign values to $X$ and $Y$:\n",
        "$$X = \\begin{bmatrix}1&2\\\\ 0&1\\end{bmatrix}, Y = \\begin{bmatrix}-1&0\\\\ 2&2\\end{bmatrix}$$"
      ],
      "metadata": {
        "id": "T8y5J2X3ATJf"
      }
    },
    {
      "cell_type": "markdown",
      "source": [
        "$$X \\cdot Y= \\begin{bmatrix} 1*-1 + 2*2 & 1*0 + 2*2 \\\\  0*-1 + 1*2 & 0*0 + 1*2 \\end{bmatrix} = \\begin{bmatrix} 3 & 4 \\\\2 & 2 \\end{bmatrix}$$\n",
        "This could be achieved programmatically using `np.dot()`, `np.matmul()` or the `@` operator."
      ],
      "metadata": {
        "id": "2YJcPjqkAxBE"
      }
    },
    {
      "cell_type": "code",
      "source": [
        "X = np.array([\n",
        "    [4654, 5454, 5454],\n",
        "    [3256, 789, 223],\n",
        "    [4565, 543, 488]\n",
        "])\n",
        "Y = np.array([\n",
        "    [8520, 7413],\n",
        "    [2646, 565],\n",
        "    [465, 987]\n",
        "])"
      ],
      "metadata": {
        "id": "28YjI0g8AWCY"
      },
      "execution_count": 72,
      "outputs": []
    },
    {
      "cell_type": "code",
      "source": [
        "np.dot(X,Y)"
      ],
      "metadata": {
        "colab": {
          "base_uri": "https://localhost:8080/"
        },
        "id": "g78kpERKBGRg",
        "outputId": "7cd9120d-f33c-4ca1-c54d-56bcc3a0bdb7"
      },
      "execution_count": 73,
      "outputs": [
        {
          "output_type": "execute_result",
          "data": {
            "text/plain": [
              "array([[56619474, 42964710],\n",
              "       [29932509, 24802614],\n",
              "       [40557498, 34628796]])"
            ]
          },
          "metadata": {},
          "execution_count": 73
        }
      ]
    },
    {
      "cell_type": "code",
      "source": [
        "X.dot(Y)"
      ],
      "metadata": {
        "colab": {
          "base_uri": "https://localhost:8080/"
        },
        "id": "0dU_SNg1BULp",
        "outputId": "a40fa654-f9bb-4a74-dd8e-9b74d2c44460"
      },
      "execution_count": 74,
      "outputs": [
        {
          "output_type": "execute_result",
          "data": {
            "text/plain": [
              "array([[56619474, 42964710],\n",
              "       [29932509, 24802614],\n",
              "       [40557498, 34628796]])"
            ]
          },
          "metadata": {},
          "execution_count": 74
        }
      ]
    },
    {
      "cell_type": "code",
      "source": [
        "X @ Y"
      ],
      "metadata": {
        "colab": {
          "base_uri": "https://localhost:8080/"
        },
        "id": "jf9uUCqnBV8a",
        "outputId": "b92a6782-4665-4c6e-ffd9-245c9b6a19d9"
      },
      "execution_count": 75,
      "outputs": [
        {
          "output_type": "execute_result",
          "data": {
            "text/plain": [
              "array([[56619474, 42964710],\n",
              "       [29932509, 24802614],\n",
              "       [40557498, 34628796]])"
            ]
          },
          "metadata": {},
          "execution_count": 75
        }
      ]
    },
    {
      "cell_type": "code",
      "source": [
        "np.matmul(X,Y)"
      ],
      "metadata": {
        "colab": {
          "base_uri": "https://localhost:8080/"
        },
        "id": "R736ndN1BYsx",
        "outputId": "edf4596b-39c1-4cc7-ca5d-d5b2833e5186"
      },
      "execution_count": 76,
      "outputs": [
        {
          "output_type": "execute_result",
          "data": {
            "text/plain": [
              "array([[56619474, 42964710],\n",
              "       [29932509, 24802614],\n",
              "       [40557498, 34628796]])"
            ]
          },
          "metadata": {},
          "execution_count": 76
        }
      ]
    },
    {
      "cell_type": "markdown",
      "source": [
        "In matrix dot products there are additional rules compared with vector dot products. Since vector dot products were just in one dimension there are less restrictions. Since now we are dealing with Rank 2 vectors we need to consider some rules:\n",
        "\n",
        "### Rule 1: The inner dimensions of the two matrices in question must be the same. \n",
        "\n",
        "So given a matrix $A$ with a shape of $(a,b)$ where $a$ and $b$ are any integers. If we want to do a dot product between $A$ and another matrix $B$, then matrix $B$ should have a shape of $(b,c)$ where $b$ and $c$ are any integers. So for given the following matrices:\n",
        "\n",
        "$$A = \\begin{bmatrix}46546&21321&54654&4564&121&2165\\\\5&-2&1&5&3&5\\\\0&564654&32132&56465&454&3213\\end{bmatrix}, B = \\begin{bmatrix}9\\\\6\\\\21\\\\5\\\\1311\\\\54564\\\\54656\\end{bmatrix}, C = \\begin{bmatrix}1&2&3&4&5&6&7&8&9\\\\9&8&7&6&5&4&3&2&1\\\\-9&-8&-7&-6&-5&-4&-3&-2&-1\\\\-1&-2&-3&-4&-5&-6&-7&-8&-9\\\\0&0&0&0&0&0&0&0&0\\\\1&1&1&1&1&1&1&1&1\\end{bmatrix}$$\n",
        "\n",
        "So in this case $A$ has a shape of $(3,2)$, $B$ has a shape of $(3,2)$ and $C$ has a shape of $(2,3)$. So the only matrix pairs that is eligible to perform dot product is matrices $A \\cdot C$, or $B \\cdot C$.  "
      ],
      "metadata": {
        "id": "c8vizt3CDKt5"
      }
    },
    {
      "cell_type": "code",
      "source": [
        "A = np.array([\n",
        "    [46546, 21321, 54654, 4564, 121, 2165],\n",
        "    [5, -2, 1, 5, 3, 5],\n",
        "    [0, 564654, 32132, 56465, 454, 3213]\n",
        "])\n",
        "B = np.array([\n",
        "    [9],\n",
        "    [6],\n",
        "    [21],\n",
        "    [5],\n",
        "    [1311],\n",
        "    [54564],\n",
        "    [54656]\n",
        "])\n",
        "C = np.array([\n",
        "    [1, 2, 3, 4, 5, 6],\n",
        "    [9, 8, 7, 6, 5, 4],\n",
        "    [-9, -8, -7, -6, -5, -4],\n",
        "    [-1, -2, -3, -4, -5, -6],\n",
        "    [0, 0, 0, 0, 0, 0],\n",
        "    [1, 1, 1, 1, 1, 1]\n",
        "])\n",
        "print(A.shape)\n",
        "print(B.shape)\n",
        "print(C.shape)"
      ],
      "metadata": {
        "colab": {
          "base_uri": "https://localhost:8080/"
        },
        "id": "LBBIxhzKDMeU",
        "outputId": "0afe14ab-3222-4757-8293-ee26345cd13f"
      },
      "execution_count": 77,
      "outputs": [
        {
          "output_type": "stream",
          "name": "stdout",
          "text": [
            "(3, 6)\n",
            "(7, 1)\n",
            "(6, 6)\n"
          ]
        }
      ]
    },
    {
      "cell_type": "code",
      "source": [
        "A @ C"
      ],
      "metadata": {
        "colab": {
          "base_uri": "https://localhost:8080/"
        },
        "id": "HaylDf6jEI8R",
        "outputId": "e5d71830-f560-4c24-cceb-d770172345e1"
      },
      "execution_count": 78,
      "outputs": [
        {
          "output_type": "execute_result",
          "data": {
            "text/plain": [
              "array([[-255850, -180535, -105220,  -29905,   45410,  120725],\n",
              "       [    -22,     -19,     -16,     -13,     -10,      -7],\n",
              "       [4739446, 4150459, 3561472, 2972485, 2383498, 1794511]])"
            ]
          },
          "metadata": {},
          "execution_count": 78
        }
      ]
    },
    {
      "cell_type": "code",
      "source": [
        "B @ C"
      ],
      "metadata": {
        "colab": {
          "base_uri": "https://localhost:8080/",
          "height": 171
        },
        "id": "69VSUXZ0EZNd",
        "outputId": "269fdc8e-3b03-411e-f232-e26fee0d528c"
      },
      "execution_count": 79,
      "outputs": [
        {
          "output_type": "error",
          "ename": "ValueError",
          "evalue": "ignored",
          "traceback": [
            "\u001b[0;31m---------------------------------------------------------------------------\u001b[0m",
            "\u001b[0;31mValueError\u001b[0m                                Traceback (most recent call last)",
            "\u001b[0;32m<ipython-input-79-1cf757d01306>\u001b[0m in \u001b[0;36m<module>\u001b[0;34m()\u001b[0m\n\u001b[0;32m----> 1\u001b[0;31m \u001b[0mB\u001b[0m \u001b[0;34m@\u001b[0m \u001b[0mC\u001b[0m\u001b[0;34m\u001b[0m\u001b[0;34m\u001b[0m\u001b[0m\n\u001b[0m",
            "\u001b[0;31mValueError\u001b[0m: matmul: Input operand 1 has a mismatch in its core dimension 0, with gufunc signature (n?,k),(k,m?)->(n?,m?) (size 6 is different from 1)"
          ]
        }
      ]
    },
    {
      "cell_type": "markdown",
      "source": [
        "If you would notice the shape of the dot product changed and its shape is not the same as any of the matrices we used. The shape of a dot product is actually derived from the shapes of the matrices used. So recall matrix $A$ with a shape of $(a,b)$ and matrix $B$ with a shape of $(b,c)$, $A \\cdot B$ should have a shape $(a,c)$."
      ],
      "metadata": {
        "id": "6xPXn7A0F8gI"
      }
    },
    {
      "cell_type": "code",
      "source": [
        "A @ C.T"
      ],
      "metadata": {
        "colab": {
          "base_uri": "https://localhost:8080/"
        },
        "id": "YbjxJ2Y9F88Y",
        "outputId": "05087993-5cdd-48f5-a801-313e61df62ef"
      },
      "execution_count": 80,
      "outputs": [
        {
          "output_type": "execute_result",
          "data": {
            "text/plain": [
              "array([[  285001,  1008709, -1008709,  -285001,        0,   129371],\n",
              "       [      69,      101,     -101,      -69,        0,       17],\n",
              "       [ 1473112,  5096068, -5096068, -1473112,        0,   656918]])"
            ]
          },
          "metadata": {},
          "execution_count": 80
        }
      ]
    },
    {
      "cell_type": "code",
      "source": [
        "X = np.array([\n",
        "    [9,-8,7,-6],\n",
        "    [-5,4,-3,2]\n",
        "])\n",
        "Y = np.array([\n",
        "    [15,87],\n",
        "    [65,98],\n",
        "    [12,53]\n",
        "])\n",
        "print(X.shape)\n",
        "print(Y.shape)"
      ],
      "metadata": {
        "colab": {
          "base_uri": "https://localhost:8080/"
        },
        "id": "YCYS77cDGKys",
        "outputId": "0887f082-9850-4168-c9e3-2af6cb5fdf66"
      },
      "execution_count": 81,
      "outputs": [
        {
          "output_type": "stream",
          "name": "stdout",
          "text": [
            "(2, 4)\n",
            "(3, 2)\n"
          ]
        }
      ]
    },
    {
      "cell_type": "code",
      "source": [
        "X.T @ Y.T"
      ],
      "metadata": {
        "colab": {
          "base_uri": "https://localhost:8080/"
        },
        "id": "CT0nKi-uGMVJ",
        "outputId": "516660e6-d5a8-4243-b667-d9efb8991bbd"
      },
      "execution_count": 82,
      "outputs": [
        {
          "output_type": "execute_result",
          "data": {
            "text/plain": [
              "array([[-300,   95, -157],\n",
              "       [ 228, -128,  116],\n",
              "       [-156,  161,  -75],\n",
              "       [  84, -194,   34]])"
            ]
          },
          "metadata": {},
          "execution_count": 82
        }
      ]
    },
    {
      "cell_type": "markdown",
      "source": [
        "### Rule 2: Dot Product has special properties\n",
        "\n",
        "Dot products are prevalent in matrix algebra, this implies that it has several unique properties and it should be considered when formulation solutions:\n",
        " 1. $A \\cdot B \\neq B \\cdot A$\n",
        " 2. $A \\cdot (B \\cdot C) = (A \\cdot B) \\cdot C$\n",
        " 3. $A\\cdot(B+C) = A\\cdot B + A\\cdot C$\n",
        " 4. $(B+C)\\cdot A = B\\cdot A + C\\cdot A$\n",
        " 5. $A\\cdot I = A$\n",
        " 6. $A\\cdot \\emptyset = \\emptyset$ "
      ],
      "metadata": {
        "id": "ySEW76vmGaBb"
      }
    },
    {
      "cell_type": "code",
      "source": [
        "A = np.array([\n",
        "    [12,54,64],\n",
        "    [46,78,46],\n",
        "    [8,18,23]\n",
        "])\n",
        "B = np.array([\n",
        "    [65,1213,643],\n",
        "    [124,165,965],\n",
        "    [313,343,383]\n",
        "])\n",
        "C = np.array([\n",
        "    [131,313,10],\n",
        "    [660,451,134],\n",
        "    [112,302,112]\n",
        "])"
      ],
      "metadata": {
        "id": "OFpmhyBnGb3y"
      },
      "execution_count": 83,
      "outputs": []
    },
    {
      "cell_type": "code",
      "source": [
        "A @ B"
      ],
      "metadata": {
        "colab": {
          "base_uri": "https://localhost:8080/"
        },
        "id": "THYdZ9puIMvp",
        "outputId": "9b1bf267-5edc-4435-e530-2fa260d4f5e6"
      },
      "execution_count": 84,
      "outputs": [
        {
          "output_type": "execute_result",
          "data": {
            "text/plain": [
              "array([[ 27508,  45418,  84338],\n",
              "       [ 27060,  84446, 122466],\n",
              "       [  9951,  20563,  31323]])"
            ]
          },
          "metadata": {},
          "execution_count": 84
        }
      ]
    },
    {
      "cell_type": "code",
      "source": [
        "B @ A"
      ],
      "metadata": {
        "colab": {
          "base_uri": "https://localhost:8080/"
        },
        "id": "9ukWIEZUIVQJ",
        "outputId": "f1437459-e62d-4f3f-ef9d-9d2fe489070c"
      },
      "execution_count": 85,
      "outputs": [
        {
          "output_type": "execute_result",
          "data": {
            "text/plain": [
              "array([[ 61722, 109698,  74747],\n",
              "       [ 16798,  36936,  37721],\n",
              "       [ 22598,  50550,  44619]])"
            ]
          },
          "metadata": {},
          "execution_count": 85
        }
      ]
    },
    {
      "cell_type": "code",
      "source": [
        "np.array_equiv(A @ B, B @ A)"
      ],
      "metadata": {
        "colab": {
          "base_uri": "https://localhost:8080/"
        },
        "id": "m4NH6ITnIfqw",
        "outputId": "a709ad39-ef3d-4c2e-82c1-2fcf2ab17e64"
      },
      "execution_count": 86,
      "outputs": [
        {
          "output_type": "execute_result",
          "data": {
            "text/plain": [
              "False"
            ]
          },
          "metadata": {},
          "execution_count": 86
        }
      ]
    },
    {
      "cell_type": "code",
      "source": [
        "A @ (B@C)"
      ],
      "metadata": {
        "colab": {
          "base_uri": "https://localhost:8080/"
        },
        "id": "cUpb_ybEIrT3",
        "outputId": "1a3b3e55-8aee-497c-e3b2-93b6b013d093"
      },
      "execution_count": 87,
      "outputs": [
        {
          "output_type": "execute_result",
          "data": {
            "text/plain": [
              "array([[43025284, 54563598, 15806948],\n",
              "       [72995412, 83539658, 25302556],\n",
              "       [18383337, 21848122,  6363128]])"
            ]
          },
          "metadata": {},
          "execution_count": 87
        }
      ]
    },
    {
      "cell_type": "code",
      "source": [
        "(A@B)@C"
      ],
      "metadata": {
        "colab": {
          "base_uri": "https://localhost:8080/"
        },
        "id": "6c1PKKh4I4bz",
        "outputId": "51ada424-0add-4974-e0ce-acbcb9d743db"
      },
      "execution_count": 88,
      "outputs": [
        {
          "output_type": "execute_result",
          "data": {
            "text/plain": [
              "array([[43025284, 54563598, 15806948],\n",
              "       [72995412, 83539658, 25302556],\n",
              "       [18383337, 21848122,  6363128]])"
            ]
          },
          "metadata": {},
          "execution_count": 88
        }
      ]
    },
    {
      "cell_type": "code",
      "source": [
        "np.array_equiv(A@(B@C),(A@B)@C)"
      ],
      "metadata": {
        "colab": {
          "base_uri": "https://localhost:8080/"
        },
        "id": "BtpQyOR_JCXo",
        "outputId": "81496041-812c-4506-aaff-5f4a7c08a6fd"
      },
      "execution_count": 89,
      "outputs": [
        {
          "output_type": "execute_result",
          "data": {
            "text/plain": [
              "True"
            ]
          },
          "metadata": {},
          "execution_count": 89
        }
      ]
    },
    {
      "cell_type": "code",
      "source": [
        "A@(B+C)"
      ],
      "metadata": {
        "colab": {
          "base_uri": "https://localhost:8080/"
        },
        "id": "hVAB1M5HJKvt",
        "outputId": "4ebf4514-3721-439d-ef84-cc6c04b01835"
      },
      "execution_count": 90,
      "outputs": [
        {
          "output_type": "execute_result",
          "data": {
            "text/plain": [
              "array([[ 71888,  92856,  98862],\n",
              "       [ 89718, 147914, 138530],\n",
              "       [ 25455,  38131,  36391]])"
            ]
          },
          "metadata": {},
          "execution_count": 90
        }
      ]
    },
    {
      "cell_type": "code",
      "source": [
        "A@B + A@C"
      ],
      "metadata": {
        "colab": {
          "base_uri": "https://localhost:8080/"
        },
        "id": "Ul5p2ONNJS6n",
        "outputId": "9f58f5c5-4fea-4889-aab2-88060580630c"
      },
      "execution_count": 92,
      "outputs": [
        {
          "output_type": "execute_result",
          "data": {
            "text/plain": [
              "array([[ 71888,  92856,  98862],\n",
              "       [ 89718, 147914, 138530],\n",
              "       [ 25455,  38131,  36391]])"
            ]
          },
          "metadata": {},
          "execution_count": 92
        }
      ]
    },
    {
      "cell_type": "code",
      "source": [
        "np.array_equiv(A@(B+C),A@B + A@C)"
      ],
      "metadata": {
        "colab": {
          "base_uri": "https://localhost:8080/"
        },
        "id": "N8to9OuRJcvB",
        "outputId": "2420d4da-21f6-4401-813c-196025d9d58e"
      },
      "execution_count": 93,
      "outputs": [
        {
          "output_type": "execute_result",
          "data": {
            "text/plain": [
              "True"
            ]
          },
          "metadata": {},
          "execution_count": 93
        }
      ]
    },
    {
      "cell_type": "code",
      "source": [
        "(B+C)@A"
      ],
      "metadata": {
        "colab": {
          "base_uri": "https://localhost:8080/"
        },
        "id": "ZkpZ7QWsJr0i",
        "outputId": "a4f9231b-ecd4-49f6-caeb-4d4ee63d297b"
      },
      "execution_count": 94,
      "outputs": [
        {
          "output_type": "execute_result",
          "data": {
            "text/plain": [
              "array([[ 77772, 141366,  97759],\n",
              "       [ 46536, 110166, 103789],\n",
              "       [ 38730,  82170,  68255]])"
            ]
          },
          "metadata": {},
          "execution_count": 94
        }
      ]
    },
    {
      "cell_type": "code",
      "source": [
        "B@A + C@A"
      ],
      "metadata": {
        "colab": {
          "base_uri": "https://localhost:8080/"
        },
        "id": "GhxKxCyCJxia",
        "outputId": "543a0036-492b-432f-93a8-f9e0c7e445a8"
      },
      "execution_count": 96,
      "outputs": [
        {
          "output_type": "execute_result",
          "data": {
            "text/plain": [
              "array([[ 77772, 141366,  97759],\n",
              "       [ 46536, 110166, 103789],\n",
              "       [ 38730,  82170,  68255]])"
            ]
          },
          "metadata": {},
          "execution_count": 96
        }
      ]
    },
    {
      "cell_type": "code",
      "source": [
        "np.array_equiv((B+C)@A,B@A + C@A)"
      ],
      "metadata": {
        "colab": {
          "base_uri": "https://localhost:8080/"
        },
        "id": "mtc0jO0DJ7eX",
        "outputId": "4b69c211-8aec-4a0e-b863-31b2c0ba8bd2"
      },
      "execution_count": 97,
      "outputs": [
        {
          "output_type": "execute_result",
          "data": {
            "text/plain": [
              "True"
            ]
          },
          "metadata": {},
          "execution_count": 97
        }
      ]
    },
    {
      "cell_type": "code",
      "source": [
        "A@np.eye(3)"
      ],
      "metadata": {
        "colab": {
          "base_uri": "https://localhost:8080/"
        },
        "id": "WaYh0cLUKBKT",
        "outputId": "ceb7a0d8-6f9c-4823-ff86-a283581a0647"
      },
      "execution_count": 98,
      "outputs": [
        {
          "output_type": "execute_result",
          "data": {
            "text/plain": [
              "array([[12., 54., 64.],\n",
              "       [46., 78., 46.],\n",
              "       [ 8., 18., 23.]])"
            ]
          },
          "metadata": {},
          "execution_count": 98
        }
      ]
    },
    {
      "cell_type": "code",
      "source": [
        "np.array_equiv(A, A@np.eye(3))"
      ],
      "metadata": {
        "colab": {
          "base_uri": "https://localhost:8080/"
        },
        "id": "0VRV0AZJKx-Q",
        "outputId": "0e4cefea-c3c1-483c-e4db-d08a7b3ee277"
      },
      "execution_count": 99,
      "outputs": [
        {
          "output_type": "execute_result",
          "data": {
            "text/plain": [
              "True"
            ]
          },
          "metadata": {},
          "execution_count": 99
        }
      ]
    },
    {
      "cell_type": "code",
      "source": [
        "A@np.zeros((3,3))"
      ],
      "metadata": {
        "id": "WoTpmYGLmlBZ",
        "colab": {
          "base_uri": "https://localhost:8080/"
        },
        "outputId": "1736dd78-898b-470e-fad5-e651f893dc79"
      },
      "execution_count": 100,
      "outputs": [
        {
          "output_type": "execute_result",
          "data": {
            "text/plain": [
              "array([[0., 0., 0.],\n",
              "       [0., 0., 0.],\n",
              "       [0., 0., 0.]])"
            ]
          },
          "metadata": {},
          "execution_count": 100
        }
      ]
    },
    {
      "cell_type": "code",
      "source": [
        "np.array_equiv(A@np.zeros((3,3)), np.zeros((3,3)))\n"
      ],
      "metadata": {
        "colab": {
          "base_uri": "https://localhost:8080/"
        },
        "id": "1foAU64DKpxl",
        "outputId": "0735f3c9-cf53-46bc-9012-90173c830e66"
      },
      "execution_count": 101,
      "outputs": [
        {
          "output_type": "execute_result",
          "data": {
            "text/plain": [
              "True"
            ]
          },
          "metadata": {},
          "execution_count": 101
        }
      ]
    },
    {
      "cell_type": "code",
      "source": [
        "A.dot(np.zeros(A.shape))"
      ],
      "metadata": {
        "colab": {
          "base_uri": "https://localhost:8080/"
        },
        "id": "epdqWPG0GeWU",
        "outputId": "ebe457ed-f287-4288-e77f-4377685f570a"
      },
      "execution_count": 102,
      "outputs": [
        {
          "output_type": "execute_result",
          "data": {
            "text/plain": [
              "array([[0., 0., 0.],\n",
              "       [0., 0., 0.],\n",
              "       [0., 0., 0.]])"
            ]
          },
          "metadata": {},
          "execution_count": 102
        }
      ]
    },
    {
      "cell_type": "code",
      "source": [
        "z_mat = np.zeros(A.shape)\n",
        "z_mat"
      ],
      "metadata": {
        "colab": {
          "base_uri": "https://localhost:8080/"
        },
        "id": "tMaJWC65GhlK",
        "outputId": "b050d50d-14e2-4228-ea52-83f66b781567"
      },
      "execution_count": 103,
      "outputs": [
        {
          "output_type": "execute_result",
          "data": {
            "text/plain": [
              "array([[0., 0., 0.],\n",
              "       [0., 0., 0.],\n",
              "       [0., 0., 0.]])"
            ]
          },
          "metadata": {},
          "execution_count": 103
        }
      ]
    },
    {
      "cell_type": "code",
      "source": [
        "a_dot_z = A.dot(np.zeros(A.shape))\n",
        "a_dot_z"
      ],
      "metadata": {
        "colab": {
          "base_uri": "https://localhost:8080/"
        },
        "id": "zbnq-XiSGibS",
        "outputId": "c23457a2-a113-44be-aa6f-3634c6f3cd1e"
      },
      "execution_count": 104,
      "outputs": [
        {
          "output_type": "execute_result",
          "data": {
            "text/plain": [
              "array([[0., 0., 0.],\n",
              "       [0., 0., 0.],\n",
              "       [0., 0., 0.]])"
            ]
          },
          "metadata": {},
          "execution_count": 104
        }
      ]
    },
    {
      "cell_type": "code",
      "source": [
        "np.array_equal(a_dot_z,z_mat)"
      ],
      "metadata": {
        "colab": {
          "base_uri": "https://localhost:8080/"
        },
        "id": "A-fJB9LYGkZi",
        "outputId": "43d1185f-9083-42c8-8a00-d70c2c608067"
      },
      "execution_count": 105,
      "outputs": [
        {
          "output_type": "execute_result",
          "data": {
            "text/plain": [
              "True"
            ]
          },
          "metadata": {},
          "execution_count": 105
        }
      ]
    },
    {
      "cell_type": "code",
      "source": [
        "null_mat = np.empty(A.shape, dtype=float)\n",
        "null = np.array(null_mat,dtype=float)\n",
        "print(null)\n",
        "np.allclose(a_dot_z,null)"
      ],
      "metadata": {
        "colab": {
          "base_uri": "https://localhost:8080/"
        },
        "id": "mcjmUPZVGmgD",
        "outputId": "7ba6211b-aa22-4a33-d251-d5a7c09ff0ec"
      },
      "execution_count": 106,
      "outputs": [
        {
          "output_type": "stream",
          "name": "stdout",
          "text": [
            "[[0. 0. 0.]\n",
            " [0. 0. 0.]\n",
            " [0. 0. 0.]]\n"
          ]
        },
        {
          "output_type": "execute_result",
          "data": {
            "text/plain": [
              "True"
            ]
          },
          "metadata": {},
          "execution_count": 106
        }
      ]
    },
    {
      "cell_type": "markdown",
      "source": [
        "##Determinant\n",
        "A determinant is a scalar value derived from a square matrix. The determinant is used for the inverse matrix and it is a fundamental value used in matrix algebra. Although it will not be evident in this laboratory on how it can be used practically, but it will be reatly used in future lessons.\n",
        "\n",
        "The determinant of some matrix $A$ is denoted as $det(A)$ or $|A|$. So let's say $A$ is represented as:\n",
        "$$A = \\begin{bmatrix}a_{(0,0)}&a_{(0,1)}\\\\a_{(1,0)}&a_{(1,1)}\\end{bmatrix}$$\n",
        "We can compute for the determinant as:\n",
        "$$|A| = a_{(0,0)}*a_{(1,1)} - a_{(1,0)}*a_{(0,1)}$$\n",
        "So if we have $A$ as:\n",
        "$$A = \\begin{bmatrix}5&2\\\\4&6\\end{bmatrix}, |A| = 22$$\n",
        "\n",
        "But you might wonder how about square matrices beyond the shape $(2,2)$? We can approach this problem by using several methods such as co-factor expansion and the minors method. This can be taught in the lecture of the laboratory but we can achieve the strenuous computation of high-dimensional matrices programmatically using Python. We can achieve this by using `np.linalg.det()`."
      ],
      "metadata": {
        "id": "BZFjd3_TG4vK"
      }
    },
    {
      "cell_type": "code",
      "source": [
        "A = np.array([\n",
        "    [1,4,9,8,7],\n",
        "    [0,3,5,3,4],\n",
        "    [6,4,7,5,3],\n",
        "    [4,6,4,7,8],\n",
        "    [9,8,7,6,5]\n",
        "])\n",
        "np.linalg.det(A)"
      ],
      "metadata": {
        "colab": {
          "base_uri": "https://localhost:8080/"
        },
        "id": "U9ncOHd3G51v",
        "outputId": "4386a542-00bb-4246-9c65-f6a6c1f0c304"
      },
      "execution_count": 107,
      "outputs": [
        {
          "output_type": "execute_result",
          "data": {
            "text/plain": [
              "580.0000000000005"
            ]
          },
          "metadata": {},
          "execution_count": 107
        }
      ]
    },
    {
      "cell_type": "code",
      "source": [
        "A = np.array([\n",
        "    [1,4,9],\n",
        "    [0,3,5],\n",
        "    [6,4,7],\n",
        "  ])\n",
        "np.linalg.det(A)"
      ],
      "metadata": {
        "colab": {
          "base_uri": "https://localhost:8080/"
        },
        "id": "SsYlvV-yMQqj",
        "outputId": "6e6d72f6-493f-4e14-f58c-3108310dce90"
      },
      "execution_count": 108,
      "outputs": [
        {
          "output_type": "execute_result",
          "data": {
            "text/plain": [
              "-41.00000000000001"
            ]
          },
          "metadata": {},
          "execution_count": 108
        }
      ]
    },
    {
      "cell_type": "code",
      "source": [
        "A = np.array([\n",
        "    [54654,48654321],\n",
        "    [9645524, 5412]\n",
        "  ])\n",
        "np.linalg.det(A)"
      ],
      "metadata": {
        "colab": {
          "base_uri": "https://localhost:8080/"
        },
        "id": "ssiZ0cfQMZdo",
        "outputId": "3d152773-fea3-4ebf-fca6-0c6fe7be003e"
      },
      "execution_count": 109,
      "outputs": [
        {
          "output_type": "execute_result",
          "data": {
            "text/plain": [
              "-469296125121753.3"
            ]
          },
          "metadata": {},
          "execution_count": 109
        }
      ]
    },
    {
      "cell_type": "code",
      "source": [
        "## Now other mathematics classes would require you to solve this by hand, \n",
        "## and that is great for practicing your memorization and coordination skills \n",
        "## but in this class we aim for simplicity and speed so we'll use programming\n",
        "## but it's completely fine if you want to try to solve this one by hand.\n",
        "B = np.array([\n",
        "    [1,3,5,6],\n",
        "    [0,3,1,3],\n",
        "    [3,1,8,2],\n",
        "    [5,2,6,8]\n",
        "])\n",
        "np.linalg.det(B)"
      ],
      "metadata": {
        "colab": {
          "base_uri": "https://localhost:8080/"
        },
        "id": "D_UxOychG_e2",
        "outputId": "35b5b761-71ee-4e08-e86c-8ce3a410345f"
      },
      "execution_count": 110,
      "outputs": [
        {
          "output_type": "execute_result",
          "data": {
            "text/plain": [
              "-235.0000000000002"
            ]
          },
          "metadata": {},
          "execution_count": 110
        }
      ]
    },
    {
      "cell_type": "markdown",
      "source": [
        "##Inverse\n",
        "The inverse of a matrix is another fundamental operation in matrix algebra. Also, it is similar to a reciprocal of a value since a matrix multiplied to its inverse leads to the identity matrix. It can be used to identify the value of a variable given an equation. Furthermore, determining the inverse of a matrix let us determine if its solvability and its characteristic as a system of linear equation — we'll expand on this in the next module. Another use of the inverse matrix is solving the problem of divisibility between matrices. Although element-wise division exists but dividing the entire concept of matrices does not exists. Inverse matrices provides a related operation that could have the same concept of \"dividing\" matrices.\n",
        "\n",
        "Now to determine the inverse of a matrix we need to perform several steps. So let's say we have a matrix $M$:\n",
        "$$M = \\begin{bmatrix}1&7\\\\-3&5\\end{bmatrix}$$\n",
        "First, we need to get the determinant of $M$.\n",
        "$$|M| = (1)(5)-(-3)(7) = 26$$\n",
        "Next, we need to reform the matrix into the inverse form:\n",
        "$$M^{-1} = \\frac{1}{|M|} \\begin{bmatrix} m_{(1,1)} & -m_{(0,1)} \\\\ -m_{(1,0)} & m_{(0,0)}\\end{bmatrix}$$\n",
        "So that will be:\n",
        "$$M^{-1} = \\frac{1}{26} \\begin{bmatrix} 5 & -7 \\\\ 3 & 1\\end{bmatrix} = \\begin{bmatrix} \\frac{5}{26} & \\frac{-7}{26} \\\\ \\frac{3}{26} & \\frac{1}{26}\\end{bmatrix}$$\n",
        "For higher-dimension matrices you might need to use co-factors, minors, adjugates, and other reduction techinques. To solve this programmatially we can use `np.linalg.inv()`."
      ],
      "metadata": {
        "id": "mJJfeGJQHBQ0"
      }
    },
    {
      "cell_type": "code",
      "source": [
        "M = np.array([\n",
        "    [12423,7234,324123],\n",
        "    [-3234, 523423,213423],\n",
        "    [12312,234231,23423]\n",
        "])\n",
        "\n",
        "np.array(M @ np.linalg.inv(M), dtype=int)"
      ],
      "metadata": {
        "colab": {
          "base_uri": "https://localhost:8080/"
        },
        "id": "9vuG4GK2HGOb",
        "outputId": "c25d6f4b-d4b4-4377-906a-69a1b7eaa984"
      },
      "execution_count": 111,
      "outputs": [
        {
          "output_type": "execute_result",
          "data": {
            "text/plain": [
              "array([[1, 0, 0],\n",
              "       [0, 1, 0],\n",
              "       [0, 0, 1]])"
            ]
          },
          "metadata": {},
          "execution_count": 111
        }
      ]
    },
    {
      "cell_type": "code",
      "source": [
        "P = np.array([\n",
        "    [612,912321,1012, 213123],\n",
        "    [123214, 1232, -12131,45435],\n",
        "    [3123, 1236, 5437,45431],\n",
        "    [23423,342643,346342,1345341]\n",
        "])\n",
        "Q = np.linalg.inv(P)\n",
        "Q"
      ],
      "metadata": {
        "colab": {
          "base_uri": "https://localhost:8080/"
        },
        "id": "EeyF4lCuPmdR",
        "outputId": "0fd27d7b-b013-46c0-96ab-820ee4039de6"
      },
      "execution_count": 112,
      "outputs": [
        {
          "output_type": "execute_result",
          "data": {
            "text/plain": [
              "array([[-2.68091749e-07,  8.75241819e-06, -3.10149285e-05,\n",
              "         7.94229576e-07],\n",
              "       [ 1.04944322e-06,  2.14103568e-07, -9.84526932e-06,\n",
              "         1.58987311e-07],\n",
              "       [-1.83280778e-06,  2.90767157e-06, -1.55077556e-04,\n",
              "         5.42898187e-06],\n",
              "       [ 2.09220898e-07, -9.55458703e-07,  4.29703297e-05,\n",
              "        -7.08640834e-07]])"
            ]
          },
          "metadata": {},
          "execution_count": 112
        }
      ]
    },
    {
      "cell_type": "code",
      "source": [
        "## And now let's test your skills in solving a matrix with high dimensions:\n",
        "N = np.array([\n",
        "    [18,5,23,1,0,33,5],\n",
        "    [0,45,0,11,2,4,2],\n",
        "    [5,9,20,0,0,0,3],\n",
        "    [1,6,4,4,8,43,1],\n",
        "    [8,6,8,7,1,6,1],\n",
        "    [-5,15,2,0,0,6,-30],\n",
        "    [-2,-5,1,2,1,20,12],\n",
        "])\n",
        "N_inv = np.linalg.inv(N)\n",
        "np.array(N @ N_inv,dtype=int)"
      ],
      "metadata": {
        "colab": {
          "base_uri": "https://localhost:8080/"
        },
        "id": "zu5BI6DzHU-x",
        "outputId": "10834ede-dda9-4dc9-f53e-f64dd48f9c3b"
      },
      "execution_count": 113,
      "outputs": [
        {
          "output_type": "execute_result",
          "data": {
            "text/plain": [
              "array([[0, 0, 0, 0, 0, 0, 0],\n",
              "       [0, 0, 0, 0, 0, 0, 0],\n",
              "       [0, 0, 1, 0, 0, 0, 0],\n",
              "       [0, 0, 0, 1, 0, 0, 0],\n",
              "       [0, 0, 0, 0, 0, 0, 0],\n",
              "       [0, 0, 0, 0, 0, 0, 0],\n",
              "       [0, 0, 0, 0, 0, 0, 0]])"
            ]
          },
          "metadata": {},
          "execution_count": 113
        }
      ]
    },
    {
      "cell_type": "code",
      "source": [
        "P = np.array([\n",
        "    [612,912321,1012, 213123],\n",
        "    [123214, 1232, -12131,45435],\n",
        "    [3123, 1236, 5437,45431],\n",
        "    [23423,342643,346342,1345341]\n",
        "])\n",
        "Q = np.linalg.inv(P)\n",
        "Q"
      ],
      "metadata": {
        "colab": {
          "base_uri": "https://localhost:8080/"
        },
        "id": "54YksazTOTiH",
        "outputId": "9e8608ed-2ce0-4d62-bf29-e1c5232b7750"
      },
      "execution_count": 114,
      "outputs": [
        {
          "output_type": "execute_result",
          "data": {
            "text/plain": [
              "array([[-2.68091749e-07,  8.75241819e-06, -3.10149285e-05,\n",
              "         7.94229576e-07],\n",
              "       [ 1.04944322e-06,  2.14103568e-07, -9.84526932e-06,\n",
              "         1.58987311e-07],\n",
              "       [-1.83280778e-06,  2.90767157e-06, -1.55077556e-04,\n",
              "         5.42898187e-06],\n",
              "       [ 2.09220898e-07, -9.55458703e-07,  4.29703297e-05,\n",
              "        -7.08640834e-07]])"
            ]
          },
          "metadata": {},
          "execution_count": 114
        }
      ]
    },
    {
      "cell_type": "code",
      "source": [
        "P@Q"
      ],
      "metadata": {
        "colab": {
          "base_uri": "https://localhost:8080/"
        },
        "id": "wKM-fMC3Pwy_",
        "outputId": "9e645942-4079-4d8d-cf9c-2d1f153e982b"
      },
      "execution_count": 115,
      "outputs": [
        {
          "output_type": "execute_result",
          "data": {
            "text/plain": [
              "array([[ 1.00000000e+00, -1.93472913e-17,  5.27782841e-16,\n",
              "         3.54278942e-17],\n",
              "       [-4.30308619e-18,  1.00000000e+00,  2.87787914e-17,\n",
              "         6.17730541e-18],\n",
              "       [ 1.20331618e-19,  3.12703388e-18,  1.00000000e+00,\n",
              "         2.97679141e-18],\n",
              "       [-6.54920051e-17,  2.43438328e-16, -7.51741741e-15,\n",
              "         1.00000000e+00]])"
            ]
          },
          "metadata": {},
          "execution_count": 115
        }
      ]
    },
    {
      "cell_type": "markdown",
      "source": [
        "To validate the wether if the matric that you have solved is really the inverse, we follow this dot product property for a matrix $M$:\n",
        "$$M\\cdot M^{-1} = I$$"
      ],
      "metadata": {
        "id": "fhKlgDoINDIX"
      }
    },
    {
      "cell_type": "code",
      "source": [
        "squad = np.array([\n",
        "    [1.0, 1.0, 0.5],\n",
        "    [0.7, 0.7, 0.9],\n",
        "    [0.3, 0.3, 1.0]\n",
        "])\n",
        "weights = np.array([\n",
        "    [0.2, 0.2, 0.6]\n",
        "])\n",
        "p_grade = squad @ weights.T\n",
        "p_grade\n"
      ],
      "metadata": {
        "colab": {
          "base_uri": "https://localhost:8080/"
        },
        "id": "_vKKSl8bNAlY",
        "outputId": "52e3321f-38ba-4bd5-aeee-cfad69c98b30"
      },
      "execution_count": 116,
      "outputs": [
        {
          "output_type": "execute_result",
          "data": {
            "text/plain": [
              "array([[0.7 ],\n",
              "       [0.82],\n",
              "       [0.72]])"
            ]
          },
          "metadata": {},
          "execution_count": 116
        }
      ]
    },
    {
      "cell_type": "markdown",
      "source": [
        ""
      ],
      "metadata": {
        "id": "mQ-LCDwzUw08"
      }
    },
    {
      "cell_type": "markdown",
      "source": [
        "## Activity\n",
        "**Task 1**\n",
        "\n",
        "Prove and implement the remaining 6 matrix multiplication properties. You may create your own matrices in which their shapes should not be lower than . In your methodology, create individual flowcharts for each property and discuss the property you would then present your proofs or validity of your implementation in the results section by comparing your result to present functions from NumPy."
      ],
      "metadata": {
        "id": "78mytEBVU1O9"
      }
    },
    {
      "cell_type": "code",
      "source": [
        "A = np.array([\n",
        "    [12,54,64],\n",
        "    [46,78,46],\n",
        "    [8,18,23]\n",
        "])\n",
        "B = np.array([\n",
        "    [65,1213,643],\n",
        "    [124,165,965],\n",
        "    [313,343,383]\n",
        "])\n",
        "C = np.array([\n",
        "    [131,313,10],\n",
        "    [660,451,134],\n",
        "    [112,302,112]\n",
        "])"
      ],
      "metadata": {
        "id": "Bs_c8CNIVEZk"
      },
      "execution_count": 117,
      "outputs": []
    },
    {
      "cell_type": "code",
      "source": [
        "A @ B"
      ],
      "metadata": {
        "colab": {
          "base_uri": "https://localhost:8080/"
        },
        "outputId": "6845e02e-dafe-4deb-9e8a-e5efaa2802bc",
        "id": "b2faNOH-VJ0j"
      },
      "execution_count": 118,
      "outputs": [
        {
          "output_type": "execute_result",
          "data": {
            "text/plain": [
              "array([[ 27508,  45418,  84338],\n",
              "       [ 27060,  84446, 122466],\n",
              "       [  9951,  20563,  31323]])"
            ]
          },
          "metadata": {},
          "execution_count": 118
        }
      ]
    },
    {
      "cell_type": "code",
      "source": [
        "B @ A"
      ],
      "metadata": {
        "colab": {
          "base_uri": "https://localhost:8080/"
        },
        "outputId": "6fd992cf-c22c-497b-e92d-eb06295c72c2",
        "id": "v5_zcY1GVPvt"
      },
      "execution_count": 119,
      "outputs": [
        {
          "output_type": "execute_result",
          "data": {
            "text/plain": [
              "array([[ 61722, 109698,  74747],\n",
              "       [ 16798,  36936,  37721],\n",
              "       [ 22598,  50550,  44619]])"
            ]
          },
          "metadata": {},
          "execution_count": 119
        }
      ]
    },
    {
      "cell_type": "code",
      "source": [
        "np.array_equiv(A @ B, B @ A)"
      ],
      "metadata": {
        "colab": {
          "base_uri": "https://localhost:8080/"
        },
        "outputId": "a7b4a6d6-856b-44d2-b3a4-e0208d28e98f",
        "id": "bgdZojCjVTrK"
      },
      "execution_count": 120,
      "outputs": [
        {
          "output_type": "execute_result",
          "data": {
            "text/plain": [
              "False"
            ]
          },
          "metadata": {},
          "execution_count": 120
        }
      ]
    },
    {
      "cell_type": "code",
      "source": [
        "A @ (B@C)"
      ],
      "metadata": {
        "colab": {
          "base_uri": "https://localhost:8080/"
        },
        "outputId": "961fea3d-e96f-4750-b904-d1e6afdf29cc",
        "id": "Jkal4so7VcoU"
      },
      "execution_count": 121,
      "outputs": [
        {
          "output_type": "execute_result",
          "data": {
            "text/plain": [
              "array([[43025284, 54563598, 15806948],\n",
              "       [72995412, 83539658, 25302556],\n",
              "       [18383337, 21848122,  6363128]])"
            ]
          },
          "metadata": {},
          "execution_count": 121
        }
      ]
    },
    {
      "cell_type": "code",
      "source": [
        "(A@B)@C"
      ],
      "metadata": {
        "colab": {
          "base_uri": "https://localhost:8080/"
        },
        "outputId": "4535a39a-f032-43cb-e5ea-e4dd36eabe6f",
        "id": "ohoAk26oVjN1"
      },
      "execution_count": 122,
      "outputs": [
        {
          "output_type": "execute_result",
          "data": {
            "text/plain": [
              "array([[43025284, 54563598, 15806948],\n",
              "       [72995412, 83539658, 25302556],\n",
              "       [18383337, 21848122,  6363128]])"
            ]
          },
          "metadata": {},
          "execution_count": 122
        }
      ]
    },
    {
      "cell_type": "code",
      "source": [
        "np.array_equiv(A@(B@C),(A@B)@C)"
      ],
      "metadata": {
        "colab": {
          "base_uri": "https://localhost:8080/"
        },
        "outputId": "7ec579e6-f856-44f1-dc39-28d9430970ee",
        "id": "iTZlLlMxVpom"
      },
      "execution_count": 123,
      "outputs": [
        {
          "output_type": "execute_result",
          "data": {
            "text/plain": [
              "True"
            ]
          },
          "metadata": {},
          "execution_count": 123
        }
      ]
    },
    {
      "cell_type": "code",
      "source": [
        "A@(B+C)"
      ],
      "metadata": {
        "colab": {
          "base_uri": "https://localhost:8080/"
        },
        "outputId": "a5a86015-b979-4edb-f277-aae612701dd7",
        "id": "Ipuy54OIVt3Q"
      },
      "execution_count": 124,
      "outputs": [
        {
          "output_type": "execute_result",
          "data": {
            "text/plain": [
              "array([[ 71888,  92856,  98862],\n",
              "       [ 89718, 147914, 138530],\n",
              "       [ 25455,  38131,  36391]])"
            ]
          },
          "metadata": {},
          "execution_count": 124
        }
      ]
    },
    {
      "cell_type": "code",
      "source": [
        "A@B + A@C"
      ],
      "metadata": {
        "colab": {
          "base_uri": "https://localhost:8080/"
        },
        "outputId": "e66048ff-a908-4999-d6ea-3d3502b9643f",
        "id": "-QSbFym1VxMa"
      },
      "execution_count": 125,
      "outputs": [
        {
          "output_type": "execute_result",
          "data": {
            "text/plain": [
              "array([[ 71888,  92856,  98862],\n",
              "       [ 89718, 147914, 138530],\n",
              "       [ 25455,  38131,  36391]])"
            ]
          },
          "metadata": {},
          "execution_count": 125
        }
      ]
    },
    {
      "cell_type": "code",
      "source": [
        "np.array_equiv(A@(B+C),A@B + A@C)"
      ],
      "metadata": {
        "colab": {
          "base_uri": "https://localhost:8080/"
        },
        "outputId": "69e9b410-e252-4679-f43d-71f48f55efd9",
        "id": "cKngyAN-V0hN"
      },
      "execution_count": 126,
      "outputs": [
        {
          "output_type": "execute_result",
          "data": {
            "text/plain": [
              "True"
            ]
          },
          "metadata": {},
          "execution_count": 126
        }
      ]
    },
    {
      "cell_type": "code",
      "source": [
        "(B+C)@A"
      ],
      "metadata": {
        "colab": {
          "base_uri": "https://localhost:8080/"
        },
        "outputId": "9adb86ce-87ee-42e7-a9cd-fa2d1a96a3c3",
        "id": "OJvR-9NUV4fa"
      },
      "execution_count": 127,
      "outputs": [
        {
          "output_type": "execute_result",
          "data": {
            "text/plain": [
              "array([[ 77772, 141366,  97759],\n",
              "       [ 46536, 110166, 103789],\n",
              "       [ 38730,  82170,  68255]])"
            ]
          },
          "metadata": {},
          "execution_count": 127
        }
      ]
    },
    {
      "cell_type": "code",
      "source": [
        "B@A + C@A"
      ],
      "metadata": {
        "colab": {
          "base_uri": "https://localhost:8080/"
        },
        "outputId": "9e13c306-e061-477b-ad05-5fd5be81584a",
        "id": "Xk-LAcksV60P"
      },
      "execution_count": 128,
      "outputs": [
        {
          "output_type": "execute_result",
          "data": {
            "text/plain": [
              "array([[ 77772, 141366,  97759],\n",
              "       [ 46536, 110166, 103789],\n",
              "       [ 38730,  82170,  68255]])"
            ]
          },
          "metadata": {},
          "execution_count": 128
        }
      ]
    },
    {
      "cell_type": "code",
      "source": [
        "np.array_equiv((B+C)@A,B@A + C@A)"
      ],
      "metadata": {
        "colab": {
          "base_uri": "https://localhost:8080/"
        },
        "outputId": "9c3215fc-97ee-4b04-faba-9600356760c6",
        "id": "QvFuMaqrV-DG"
      },
      "execution_count": 129,
      "outputs": [
        {
          "output_type": "execute_result",
          "data": {
            "text/plain": [
              "True"
            ]
          },
          "metadata": {},
          "execution_count": 129
        }
      ]
    },
    {
      "cell_type": "code",
      "source": [
        "A@np.eye(3)"
      ],
      "metadata": {
        "colab": {
          "base_uri": "https://localhost:8080/"
        },
        "outputId": "779c5351-5b24-49f5-b0f7-29ab82878ad9",
        "id": "G2HC6_UYWC0C"
      },
      "execution_count": 130,
      "outputs": [
        {
          "output_type": "execute_result",
          "data": {
            "text/plain": [
              "array([[12., 54., 64.],\n",
              "       [46., 78., 46.],\n",
              "       [ 8., 18., 23.]])"
            ]
          },
          "metadata": {},
          "execution_count": 130
        }
      ]
    },
    {
      "cell_type": "code",
      "source": [
        "np.array_equiv(A, A@np.eye(3))"
      ],
      "metadata": {
        "colab": {
          "base_uri": "https://localhost:8080/"
        },
        "outputId": "775ce47e-2de3-4be5-8f71-7503c61186ed",
        "id": "i7zi5O8eWHPz"
      },
      "execution_count": 131,
      "outputs": [
        {
          "output_type": "execute_result",
          "data": {
            "text/plain": [
              "True"
            ]
          },
          "metadata": {},
          "execution_count": 131
        }
      ]
    },
    {
      "cell_type": "code",
      "source": [
        "A@np.zeros((3,3))"
      ],
      "metadata": {
        "outputId": "9569fce3-71dd-42ca-bc47-7a606cdc3568",
        "colab": {
          "base_uri": "https://localhost:8080/"
        },
        "id": "ckiqv4MgWLf9"
      },
      "execution_count": 132,
      "outputs": [
        {
          "output_type": "execute_result",
          "data": {
            "text/plain": [
              "array([[0., 0., 0.],\n",
              "       [0., 0., 0.],\n",
              "       [0., 0., 0.]])"
            ]
          },
          "metadata": {},
          "execution_count": 132
        }
      ]
    },
    {
      "cell_type": "code",
      "source": [
        "np.array_equiv(A@np.zeros((3,3)), np.zeros((3,3)))\n"
      ],
      "metadata": {
        "colab": {
          "base_uri": "https://localhost:8080/"
        },
        "outputId": "83609403-b486-4cee-b0ce-bb99ef3f100b",
        "id": "O_UtPKBFWOzH"
      },
      "execution_count": 133,
      "outputs": [
        {
          "output_type": "execute_result",
          "data": {
            "text/plain": [
              "True"
            ]
          },
          "metadata": {},
          "execution_count": 133
        }
      ]
    },
    {
      "cell_type": "markdown",
      "source": [
        "## Conclusion\n",
        "\n",
        "For your conclusion synthesize the concept and application of the laboratory. Briefly discuss what you have learned and achieved in this activity. Also answer the question: \"how can matrix operations solve problems in healthcare?\"."
      ],
      "metadata": {
        "id": "Jspa95rRWQKy"
      }
    },
    {
      "cell_type": "markdown",
      "source": [
        "In totality, this laboratory experiment enhanced the matrix operation knowledge of the students along with the utilization of Python programming with the said topic. In relation, transposition is discussed and applied - it is the inversion of the row and column of a given matrix. Furthermore, the dot product is explained in terms of how it operates - the column of the first matrix should have the same dimension as the row of the second matrix so that the operation can continue - and the properties of the dot product are also defined. Next is the determinant where it can help in identifying the inverse of a matrix and lastly is the inverse of a matrix. This is the corresponding matrix of a matrix that if multiplied with each other, it would yield to the identity matrix. \n",
        "\n",
        "Another learning that the students accomplished in this activity was the proving of the dot product properties. The properties of multiplication in algebra are the same for matrices except for the commutative property. Overall matrix operations are significant in our lives as it gives a definite number or value that is needed given a situation. One of the many applications of matrix operations is the nutrition balance in healthcare. Our foods are composed of different nutrients and vitamins that we need for our body. However, too much of something can be bad and thus the need to control the amount of intake. In order to obtain that certain value and amount of food to take, there is a need for computation and matrix operations can be used for this account [5]. Matrix operations would help balance the amount of nutrients in a given food simultaneously with another food that has its own nutritional value.\n"
      ],
      "metadata": {
        "id": "bNNWBO-LWWhi"
      }
    }
  ]
}
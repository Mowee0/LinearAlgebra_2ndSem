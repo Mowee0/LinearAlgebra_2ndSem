{
  "nbformat": 4,
  "nbformat_minor": 0,
  "metadata": {
    "colab": {
      "name": "Assignment_4_Matrix_in_Python.ipynb",
      "provenance": [],
      "include_colab_link": true
    },
    "kernelspec": {
      "name": "python3",
      "display_name": "Python 3"
    },
    "language_info": {
      "name": "python"
    }
  },
  "cells": [
    {
      "cell_type": "markdown",
      "metadata": {
        "id": "view-in-github",
        "colab_type": "text"
      },
      "source": [
        "<a href=\"https://colab.research.google.com/github/Mowee0/LinearAlgebra_2ndSem/blob/main/Assignment_4_Matrix_in_Python.ipynb\" target=\"_parent\"><img src=\"https://colab.research.google.com/assets/colab-badge.svg\" alt=\"Open In Colab\"/></a>"
      ]
    },
    {
      "cell_type": "markdown",
      "source": [
        "#Linear Algebra for ChE\n",
        "##Laboratory 4: Matrix Operations\n",
        "###Objective\n",
        "1) Be familiar with the fundamental matrix operations.\n",
        "\n",
        "2) Apply the operations to solve intermediate.\n",
        "\n",
        "3) Apply matrix algebra in engineering solutions.\n",
        "\n",
        "4) Prove the six matrix multiplication properties"
      ],
      "metadata": {
        "id": "-QO7Crmi8Qgl"
      }
    },
    {
      "cell_type": "markdown",
      "source": [
        "##Discussion"
      ],
      "metadata": {
        "id": "Zmqhfucm8j8C"
      }
    },
    {
      "cell_type": "code",
      "source": [
        "import numpy as np\n",
        "import matplotlib.pyplot as plt\n",
        "%matplotlib inline\n"
      ],
      "metadata": {
        "id": "i_hov5Bb8miM"
      },
      "execution_count": 1,
      "outputs": []
    },
    {
      "cell_type": "markdown",
      "source": [
        "##Transposition\n",
        "One of the fundamental operations in matrix algebra is Transposition. Transpose matrix is a matrix wherein the row of Matrix A will now be in column and the column of Matrix A will be the row. When this happens, the shape of the matrix will be changed.. So for a matrix $A$ its transpose is denoted as $A^T$. So for example:"
      ],
      "metadata": {
        "id": "tMvFKlHx83__"
      }
    },
    {
      "cell_type": "markdown",
      "source": [
        "$$A = \\begin{bmatrix} 3&57&8&5\\\\-64&-13&20&6\\\\69&8&7&8\\end{bmatrix} $$\n",
        "\n",
        "$$ A^T = \\begin{bmatrix} 3&-64&69\\\\57&-13&8\\\\8&20&7\\\\5&6&8\\end{bmatrix}$$"
      ],
      "metadata": {
        "id": "dnyXKZGJAdvg"
      }
    },
    {
      "cell_type": "code",
      "source": [
        "A = np.array ([\n",
        "    [3, 57, 8, 5],\n",
        "    [-64, -13, 20, 6],\n",
        "    [69, 8, 7, 8]\n",
        "])\n",
        "A"
      ],
      "metadata": {
        "colab": {
          "base_uri": "https://localhost:8080/"
        },
        "id": "HJ-XL9Ka9nDi",
        "outputId": "ed40a9d1-93ae-42d1-bf12-49ff07408523"
      },
      "execution_count": 2,
      "outputs": [
        {
          "output_type": "execute_result",
          "data": {
            "text/plain": [
              "array([[  3,  57,   8,   5],\n",
              "       [-64, -13,  20,   6],\n",
              "       [ 69,   8,   7,   8]])"
            ]
          },
          "metadata": {},
          "execution_count": 2
        }
      ]
    },
    {
      "cell_type": "code",
      "source": [
        "AT1 = np.transpose(A)\n",
        "AT1"
      ],
      "metadata": {
        "colab": {
          "base_uri": "https://localhost:8080/"
        },
        "id": "RvN7FelG-ALX",
        "outputId": "0a1c0cb3-0d35-4bf5-de42-b28f07143637"
      },
      "execution_count": 3,
      "outputs": [
        {
          "output_type": "execute_result",
          "data": {
            "text/plain": [
              "array([[  3, -64,  69],\n",
              "       [ 57, -13,   8],\n",
              "       [  8,  20,   7],\n",
              "       [  5,   6,   8]])"
            ]
          },
          "metadata": {},
          "execution_count": 3
        }
      ]
    },
    {
      "cell_type": "code",
      "source": [
        "AT2 = A.T\n",
        "AT2"
      ],
      "metadata": {
        "colab": {
          "base_uri": "https://localhost:8080/"
        },
        "id": "U7u0VTz0-n_K",
        "outputId": "f090936f-5fc7-4e83-91ef-ea6691848f76"
      },
      "execution_count": 4,
      "outputs": [
        {
          "output_type": "execute_result",
          "data": {
            "text/plain": [
              "array([[  3, -64,  69],\n",
              "       [ 57, -13,   8],\n",
              "       [  8,  20,   7],\n",
              "       [  5,   6,   8]])"
            ]
          },
          "metadata": {},
          "execution_count": 4
        }
      ]
    },
    {
      "cell_type": "code",
      "source": [
        "np.array_equiv(AT1, AT2)"
      ],
      "metadata": {
        "colab": {
          "base_uri": "https://localhost:8080/"
        },
        "id": "DjxKMhIW_A2C",
        "outputId": "01a5b96e-0132-4fa0-c3d4-7fd32bdf754b"
      },
      "execution_count": 5,
      "outputs": [
        {
          "output_type": "execute_result",
          "data": {
            "text/plain": [
              "True"
            ]
          },
          "metadata": {},
          "execution_count": 5
        }
      ]
    },
    {
      "cell_type": "code",
      "source": [
        "B = np.array([\n",
        "    [98, 78, 65, 123, 98565],\n",
        "    [65, 897, 16871, 656, 546],\n",
        "    [12, 32, 46464, 789, 465]\n",
        "])\n",
        "B.shape"
      ],
      "metadata": {
        "colab": {
          "base_uri": "https://localhost:8080/"
        },
        "id": "UxOl62OO_WXL",
        "outputId": "ba578aaf-9202-4bf3-819e-96bb8940ea73"
      },
      "execution_count": 6,
      "outputs": [
        {
          "output_type": "execute_result",
          "data": {
            "text/plain": [
              "(3, 5)"
            ]
          },
          "metadata": {},
          "execution_count": 6
        }
      ]
    },
    {
      "cell_type": "code",
      "source": [
        "np.transpose(B).shape"
      ],
      "metadata": {
        "colab": {
          "base_uri": "https://localhost:8080/"
        },
        "id": "L2nhsvZsXP76",
        "outputId": "ae6a1ae9-0d7b-42ee-8cfb-e12dc04759b7"
      },
      "execution_count": 7,
      "outputs": [
        {
          "output_type": "execute_result",
          "data": {
            "text/plain": [
              "(5, 3)"
            ]
          },
          "metadata": {},
          "execution_count": 7
        }
      ]
    },
    {
      "cell_type": "code",
      "source": [
        "B.T.shape"
      ],
      "metadata": {
        "colab": {
          "base_uri": "https://localhost:8080/"
        },
        "id": "SBYg1yKOXZIQ",
        "outputId": "18f8131c-fe9f-4360-d7c9-2d894c79b076"
      },
      "execution_count": 8,
      "outputs": [
        {
          "output_type": "execute_result",
          "data": {
            "text/plain": [
              "(5, 3)"
            ]
          },
          "metadata": {},
          "execution_count": 8
        }
      ]
    },
    {
      "cell_type": "markdown",
      "source": [
        "**Try to create your own matrix (you can try non-squares) to test transposition**"
      ],
      "metadata": {
        "id": "_ernCEDfXdsc"
      }
    },
    {
      "cell_type": "code",
      "source": [
        "C = np.array([\n",
        "    [12, 34, 56, 78, 90],\n",
        "    [21, 43, 65, 87, 9],\n",
        "    [10, 29, 38, 47, 56],\n",
        "    [1, 92, 83, 74, 65]\n",
        "])\n",
        "\n",
        "C"
      ],
      "metadata": {
        "colab": {
          "base_uri": "https://localhost:8080/"
        },
        "id": "VsMrZGFaXmNX",
        "outputId": "476dc071-b3eb-4584-e010-8a2b9f70e625"
      },
      "execution_count": 9,
      "outputs": [
        {
          "output_type": "execute_result",
          "data": {
            "text/plain": [
              "array([[12, 34, 56, 78, 90],\n",
              "       [21, 43, 65, 87,  9],\n",
              "       [10, 29, 38, 47, 56],\n",
              "       [ 1, 92, 83, 74, 65]])"
            ]
          },
          "metadata": {},
          "execution_count": 9
        }
      ]
    },
    {
      "cell_type": "code",
      "source": [
        "CT2 = C.T\n",
        "CT2"
      ],
      "metadata": {
        "colab": {
          "base_uri": "https://localhost:8080/"
        },
        "id": "j5iQz7bXYfhH",
        "outputId": "887778f9-52c7-426e-a821-c044d03c99be"
      },
      "execution_count": 10,
      "outputs": [
        {
          "output_type": "execute_result",
          "data": {
            "text/plain": [
              "array([[12, 21, 10,  1],\n",
              "       [34, 43, 29, 92],\n",
              "       [56, 65, 38, 83],\n",
              "       [78, 87, 47, 74],\n",
              "       [90,  9, 56, 65]])"
            ]
          },
          "metadata": {},
          "execution_count": 10
        }
      ]
    },
    {
      "cell_type": "code",
      "source": [
        "C.shape"
      ],
      "metadata": {
        "colab": {
          "base_uri": "https://localhost:8080/"
        },
        "id": "ZPb2zGq1Y6cF",
        "outputId": "0ccea2ce-8ec4-4e91-f7c2-d7d477767552"
      },
      "execution_count": 11,
      "outputs": [
        {
          "output_type": "execute_result",
          "data": {
            "text/plain": [
              "(4, 5)"
            ]
          },
          "metadata": {},
          "execution_count": 11
        }
      ]
    },
    {
      "cell_type": "code",
      "source": [
        "np.transpose(B).shape"
      ],
      "metadata": {
        "colab": {
          "base_uri": "https://localhost:8080/"
        },
        "id": "Az-JsMdRYJ0k",
        "outputId": "cf96314d-d47c-4427-803a-43d8878f5f57"
      },
      "execution_count": 12,
      "outputs": [
        {
          "output_type": "execute_result",
          "data": {
            "text/plain": [
              "(5, 3)"
            ]
          },
          "metadata": {},
          "execution_count": 12
        }
      ]
    },
    {
      "cell_type": "markdown",
      "source": [
        "##Dot Product/Inner Product\n",
        "If you recall the dot product from laboratory activity before, we will try to implement the same operation with matrices. In matrix dot product we are going to get the sum of products of the vectors by row-column pairs. So if we have two matrices $X$ and $Y$:\n",
        "\n",
        "$$X = \\begin{bmatrix}x_{(0,0)}&x_{(0,1)}\\\\ x_{(1,0)}&x_{(1,1)}\\end{bmatrix}, Y = \\begin{bmatrix}y_{(0,0)}&y_{(0,1)}\\\\ y_{(1,0)}&y_{(1,1)}\\end{bmatrix}$$\n",
        "\n",
        "The dot product will then be computed as:\n",
        "$$X \\cdot Y= \\begin{bmatrix} x_{(0,0)}*y_{(0,0)} + x_{(0,1)}*y_{(1,0)} & x_{(0,0)}*y_{(0,1)} + x_{(0,1)}*y_{(1,1)} \\\\  x_{(1,0)}*y_{(0,0)} + x_{(1,1)}*y_{(1,0)} & x_{(1,0)}*y_{(0,1)} + x_{(1,1)}*y_{(1,1)}\n",
        "\\end{bmatrix}$$\n",
        "\n",
        "So if we assign values to $X$ and $Y$:\n",
        "$$X = \\begin{bmatrix}1&2\\\\ 0&1\\end{bmatrix}, Y = \\begin{bmatrix}-1&0\\\\ 2&2\\end{bmatrix}$$"
      ],
      "metadata": {
        "id": "T8y5J2X3ATJf"
      }
    },
    {
      "cell_type": "markdown",
      "source": [
        "$$X \\cdot Y= \\begin{bmatrix} 1*-1 + 2*2 & 1*0 + 2*2 \\\\  0*-1 + 1*2 & 0*0 + 1*2 \\end{bmatrix} = \\begin{bmatrix} 3 & 4 \\\\2 & 2 \\end{bmatrix}$$\n",
        "This could be achieved programmatically using `np.dot()`, `np.matmul()` or the `@` operator."
      ],
      "metadata": {
        "id": "2YJcPjqkAxBE"
      }
    },
    {
      "cell_type": "code",
      "source": [
        "X = np.array([\n",
        "    [4654, 5454, 5454],\n",
        "    [3256, 789, 223],\n",
        "    [4565, 543, 488]\n",
        "])\n",
        "Y = np.array([\n",
        "    [8520, 7413],\n",
        "    [2646, 565],\n",
        "    [465, 987]\n",
        "])"
      ],
      "metadata": {
        "id": "28YjI0g8AWCY"
      },
      "execution_count": 13,
      "outputs": []
    },
    {
      "cell_type": "code",
      "source": [
        "np.dot(X,Y)"
      ],
      "metadata": {
        "colab": {
          "base_uri": "https://localhost:8080/"
        },
        "id": "g78kpERKBGRg",
        "outputId": "7585ee28-09bf-459c-9713-9103f2ad04ed"
      },
      "execution_count": 14,
      "outputs": [
        {
          "output_type": "execute_result",
          "data": {
            "text/plain": [
              "array([[56619474, 42964710],\n",
              "       [29932509, 24802614],\n",
              "       [40557498, 34628796]])"
            ]
          },
          "metadata": {},
          "execution_count": 14
        }
      ]
    },
    {
      "cell_type": "code",
      "source": [
        "X.dot(Y)"
      ],
      "metadata": {
        "colab": {
          "base_uri": "https://localhost:8080/"
        },
        "id": "0dU_SNg1BULp",
        "outputId": "422d04cc-c073-4e7c-9720-0eacc5bd50ce"
      },
      "execution_count": 15,
      "outputs": [
        {
          "output_type": "execute_result",
          "data": {
            "text/plain": [
              "array([[56619474, 42964710],\n",
              "       [29932509, 24802614],\n",
              "       [40557498, 34628796]])"
            ]
          },
          "metadata": {},
          "execution_count": 15
        }
      ]
    },
    {
      "cell_type": "code",
      "source": [
        "X @ Y"
      ],
      "metadata": {
        "colab": {
          "base_uri": "https://localhost:8080/"
        },
        "id": "jf9uUCqnBV8a",
        "outputId": "df9ea2ba-0541-46f8-d39f-7d27f5c52b42"
      },
      "execution_count": 16,
      "outputs": [
        {
          "output_type": "execute_result",
          "data": {
            "text/plain": [
              "array([[56619474, 42964710],\n",
              "       [29932509, 24802614],\n",
              "       [40557498, 34628796]])"
            ]
          },
          "metadata": {},
          "execution_count": 16
        }
      ]
    },
    {
      "cell_type": "code",
      "source": [
        "np.matmul(X,Y)"
      ],
      "metadata": {
        "colab": {
          "base_uri": "https://localhost:8080/"
        },
        "id": "R736ndN1BYsx",
        "outputId": "5c68a789-a326-416f-ddeb-45e65437de69"
      },
      "execution_count": 17,
      "outputs": [
        {
          "output_type": "execute_result",
          "data": {
            "text/plain": [
              "array([[56619474, 42964710],\n",
              "       [29932509, 24802614],\n",
              "       [40557498, 34628796]])"
            ]
          },
          "metadata": {},
          "execution_count": 17
        }
      ]
    },
    {
      "cell_type": "markdown",
      "source": [
        "In matrix dot products there are additional rules compared with vector dot products. Since vector dot products were just in one dimension there are less restrictions. Since now we are dealing with Rank 2 vectors we need to consider some rules:\n",
        "\n",
        "### Rule 1: The inner dimensions of the two matrices in question must be the same. \n",
        "\n",
        "So given a matrix $A$ with a shape of $(a,b)$ where $a$ and $b$ are any integers. If we want to do a dot product between $A$ and another matrix $B$, then matrix $B$ should have a shape of $(b,c)$ where $b$ and $c$ are any integers. So for given the following matrices:\n",
        "\n",
        "$$A = \\begin{bmatrix}46546&21321&54654&4564&121&2165\\\\5&-2&1&5&3&5\\\\0&564654&32132&56465&454&3213\\end{bmatrix}, B = \\begin{bmatrix}9\\\\6\\\\21\\\\5\\\\1311\\\\54564\\\\54656\\end{bmatrix}, C = \\begin{bmatrix}1&2&3&4&5&6&7&8&9\\\\9&8&7&6&5&4&3&2&1\\\\-9&-8&-7&-6&-5&-4&-3&-2&-1\\\\-1&-2&-3&-4&-5&-6&-7&-8&-9\\\\0&0&0&0&0&0&0&0&0\\\\1&1&1&1&1&1&1&1&1\\end{bmatrix}$$\n",
        "\n",
        "So in this case $A$ has a shape of $(3,2)$, $B$ has a shape of $(3,2)$ and $C$ has a shape of $(2,3)$. So the only matrix pairs that is eligible to perform dot product is matrices $A \\cdot C$, or $B \\cdot C$.  "
      ],
      "metadata": {
        "id": "c8vizt3CDKt5"
      }
    },
    {
      "cell_type": "code",
      "source": [
        "A = np.array([\n",
        "    [46546, 21321, 54654, 4564, 121, 2165],\n",
        "    [5, -2, 1, 5, 3, 5],\n",
        "    [0, 564654, 32132, 56465, 454, 3213]\n",
        "])\n",
        "B = np.array([\n",
        "    [9],\n",
        "    [6],\n",
        "    [21],\n",
        "    [5],\n",
        "    [1311],\n",
        "    [54564],\n",
        "    [54656]\n",
        "])\n",
        "C = np.array([\n",
        "    [1, 2, 3, 4, 5, 6],\n",
        "    [9, 8, 7, 6, 5, 4],\n",
        "    [-9, -8, -7, -6, -5, -4],\n",
        "    [-1, -2, -3, -4, -5, -6],\n",
        "    [0, 0, 0, 0, 0, 0],\n",
        "    [1, 1, 1, 1, 1, 1]\n",
        "])\n",
        "print(A.shape)\n",
        "print(B.shape)\n",
        "print(C.shape)"
      ],
      "metadata": {
        "colab": {
          "base_uri": "https://localhost:8080/"
        },
        "id": "LBBIxhzKDMeU",
        "outputId": "bbd22c03-1031-4dd3-8bd1-fd9b645f64fe"
      },
      "execution_count": 18,
      "outputs": [
        {
          "output_type": "stream",
          "name": "stdout",
          "text": [
            "(3, 6)\n",
            "(7, 1)\n",
            "(6, 6)\n"
          ]
        }
      ]
    },
    {
      "cell_type": "code",
      "source": [
        "A @ C"
      ],
      "metadata": {
        "colab": {
          "base_uri": "https://localhost:8080/"
        },
        "id": "HaylDf6jEI8R",
        "outputId": "64c73b69-87ea-4162-e90e-31cd9dd2ed86"
      },
      "execution_count": 19,
      "outputs": [
        {
          "output_type": "execute_result",
          "data": {
            "text/plain": [
              "array([[-255850, -180535, -105220,  -29905,   45410,  120725],\n",
              "       [    -22,     -19,     -16,     -13,     -10,      -7],\n",
              "       [4739446, 4150459, 3561472, 2972485, 2383498, 1794511]])"
            ]
          },
          "metadata": {},
          "execution_count": 19
        }
      ]
    },
    {
      "cell_type": "code",
      "source": [
        "B @ C"
      ],
      "metadata": {
        "colab": {
          "base_uri": "https://localhost:8080/",
          "height": 171
        },
        "id": "69VSUXZ0EZNd",
        "outputId": "2e6694a9-4ca9-49e9-ff9b-6301413f6467"
      },
      "execution_count": 20,
      "outputs": [
        {
          "output_type": "error",
          "ename": "ValueError",
          "evalue": "ignored",
          "traceback": [
            "\u001b[0;31m---------------------------------------------------------------------------\u001b[0m",
            "\u001b[0;31mValueError\u001b[0m                                Traceback (most recent call last)",
            "\u001b[0;32m<ipython-input-20-1cf757d01306>\u001b[0m in \u001b[0;36m<module>\u001b[0;34m()\u001b[0m\n\u001b[0;32m----> 1\u001b[0;31m \u001b[0mB\u001b[0m \u001b[0;34m@\u001b[0m \u001b[0mC\u001b[0m\u001b[0;34m\u001b[0m\u001b[0;34m\u001b[0m\u001b[0m\n\u001b[0m",
            "\u001b[0;31mValueError\u001b[0m: matmul: Input operand 1 has a mismatch in its core dimension 0, with gufunc signature (n?,k),(k,m?)->(n?,m?) (size 6 is different from 1)"
          ]
        }
      ]
    },
    {
      "cell_type": "markdown",
      "source": [
        "If you would notice the shape of the dot product changed and its shape is not the same as any of the matrices we used. The shape of a dot product is actually derived from the shapes of the matrices used. So recall matrix $A$ with a shape of $(a,b)$ and matrix $B$ with a shape of $(b,c)$, $A \\cdot B$ should have a shape $(a,c)$."
      ],
      "metadata": {
        "id": "6xPXn7A0F8gI"
      }
    },
    {
      "cell_type": "code",
      "source": [
        "A @ C.T"
      ],
      "metadata": {
        "id": "YbjxJ2Y9F88Y"
      },
      "execution_count": null,
      "outputs": []
    },
    {
      "cell_type": "code",
      "source": [
        "X = np.array([\n",
        "    [9,-8,7,-6],\n",
        "    [-5,4,-3,2]\n",
        "])\n",
        "Y = np.array([\n",
        "    [15,87],\n",
        "    [65,98],\n",
        "    [12,53]\n",
        "])\n",
        "print(X.shape)\n",
        "print(Y.shape)"
      ],
      "metadata": {
        "id": "YCYS77cDGKys"
      },
      "execution_count": null,
      "outputs": []
    },
    {
      "cell_type": "code",
      "source": [
        "X.T @ Y.T"
      ],
      "metadata": {
        "id": "CT0nKi-uGMVJ"
      },
      "execution_count": null,
      "outputs": []
    },
    {
      "cell_type": "markdown",
      "source": [
        "### Rule 2: Dot Product has special properties\n",
        "\n",
        "Dot products are prevalent in matrix algebra, this implies that it has several unique properties and it should be considered when formulation solutions:\n",
        " 1. $A \\cdot B \\neq B \\cdot A$\n",
        " 2. $A \\cdot (B \\cdot C) = (A \\cdot B) \\cdot C$\n",
        " 3. $A\\cdot(B+C) = A\\cdot B + A\\cdot C$\n",
        " 4. $(B+C)\\cdot A = B\\cdot A + C\\cdot A$\n",
        " 5. $A\\cdot I = A$\n",
        " 6. $A\\cdot \\emptyset = \\emptyset$ "
      ],
      "metadata": {
        "id": "ySEW76vmGaBb"
      }
    },
    {
      "cell_type": "code",
      "source": [
        "A = np.array([\n",
        "    [12,54,64],\n",
        "    [46,78,46],\n",
        "    [8,18,23]\n",
        "])\n",
        "B = np.array([\n",
        "    [65,1213,643],\n",
        "    [124,165,965],\n",
        "    [313,343,383]\n",
        "])\n",
        "C = np.array([\n",
        "    [131,313,10],\n",
        "    [660,451,134],\n",
        "    [112,302,112]\n",
        "])"
      ],
      "metadata": {
        "id": "OFpmhyBnGb3y"
      },
      "execution_count": 21,
      "outputs": []
    },
    {
      "cell_type": "code",
      "source": [
        "A @ B"
      ],
      "metadata": {
        "colab": {
          "base_uri": "https://localhost:8080/"
        },
        "id": "THYdZ9puIMvp",
        "outputId": "4e598904-59e8-470f-8259-52ff8b7888a6"
      },
      "execution_count": 22,
      "outputs": [
        {
          "output_type": "execute_result",
          "data": {
            "text/plain": [
              "array([[ 27508,  45418,  84338],\n",
              "       [ 27060,  84446, 122466],\n",
              "       [  9951,  20563,  31323]])"
            ]
          },
          "metadata": {},
          "execution_count": 22
        }
      ]
    },
    {
      "cell_type": "code",
      "source": [
        "B @ A"
      ],
      "metadata": {
        "colab": {
          "base_uri": "https://localhost:8080/"
        },
        "id": "9ukWIEZUIVQJ",
        "outputId": "29e90dcb-e959-45b4-ccfe-ee9657ea2122"
      },
      "execution_count": 23,
      "outputs": [
        {
          "output_type": "execute_result",
          "data": {
            "text/plain": [
              "array([[ 61722, 109698,  74747],\n",
              "       [ 16798,  36936,  37721],\n",
              "       [ 22598,  50550,  44619]])"
            ]
          },
          "metadata": {},
          "execution_count": 23
        }
      ]
    },
    {
      "cell_type": "code",
      "source": [
        "np.array_equiv(A @ B, B @ A)"
      ],
      "metadata": {
        "colab": {
          "base_uri": "https://localhost:8080/"
        },
        "id": "m4NH6ITnIfqw",
        "outputId": "052eb809-f235-4ba0-8bca-965aa255b11e"
      },
      "execution_count": 24,
      "outputs": [
        {
          "output_type": "execute_result",
          "data": {
            "text/plain": [
              "False"
            ]
          },
          "metadata": {},
          "execution_count": 24
        }
      ]
    },
    {
      "cell_type": "code",
      "source": [
        "A @ (B@C)"
      ],
      "metadata": {
        "colab": {
          "base_uri": "https://localhost:8080/"
        },
        "id": "cUpb_ybEIrT3",
        "outputId": "d999ae8a-1012-4dfa-fb9e-67b6381ca993"
      },
      "execution_count": 25,
      "outputs": [
        {
          "output_type": "execute_result",
          "data": {
            "text/plain": [
              "array([[43025284, 54563598, 15806948],\n",
              "       [72995412, 83539658, 25302556],\n",
              "       [18383337, 21848122,  6363128]])"
            ]
          },
          "metadata": {},
          "execution_count": 25
        }
      ]
    },
    {
      "cell_type": "code",
      "source": [
        "(A@B)@C"
      ],
      "metadata": {
        "colab": {
          "base_uri": "https://localhost:8080/"
        },
        "id": "6c1PKKh4I4bz",
        "outputId": "d163121b-a19e-495b-d333-6e8d3993ff96"
      },
      "execution_count": 26,
      "outputs": [
        {
          "output_type": "execute_result",
          "data": {
            "text/plain": [
              "array([[43025284, 54563598, 15806948],\n",
              "       [72995412, 83539658, 25302556],\n",
              "       [18383337, 21848122,  6363128]])"
            ]
          },
          "metadata": {},
          "execution_count": 26
        }
      ]
    },
    {
      "cell_type": "code",
      "source": [
        "np.array_equiv(A@(B@C),(A@B)@C)"
      ],
      "metadata": {
        "colab": {
          "base_uri": "https://localhost:8080/"
        },
        "id": "BtpQyOR_JCXo",
        "outputId": "4708ea82-1d49-4a2a-df84-50da9346abf9"
      },
      "execution_count": 27,
      "outputs": [
        {
          "output_type": "execute_result",
          "data": {
            "text/plain": [
              "True"
            ]
          },
          "metadata": {},
          "execution_count": 27
        }
      ]
    },
    {
      "cell_type": "code",
      "source": [
        "A@(B+C)"
      ],
      "metadata": {
        "colab": {
          "base_uri": "https://localhost:8080/"
        },
        "id": "hVAB1M5HJKvt",
        "outputId": "71b60ede-f501-4447-b07b-1bb1dacc7b80"
      },
      "execution_count": 28,
      "outputs": [
        {
          "output_type": "execute_result",
          "data": {
            "text/plain": [
              "array([[ 71888,  92856,  98862],\n",
              "       [ 89718, 147914, 138530],\n",
              "       [ 25455,  38131,  36391]])"
            ]
          },
          "metadata": {},
          "execution_count": 28
        }
      ]
    },
    {
      "cell_type": "code",
      "source": [
        "A@B + A@C"
      ],
      "metadata": {
        "colab": {
          "base_uri": "https://localhost:8080/"
        },
        "id": "Ul5p2ONNJS6n",
        "outputId": "114cb51e-3433-45a9-cf6a-b168a7d93237"
      },
      "execution_count": 29,
      "outputs": [
        {
          "output_type": "execute_result",
          "data": {
            "text/plain": [
              "array([[ 71888,  92856,  98862],\n",
              "       [ 89718, 147914, 138530],\n",
              "       [ 25455,  38131,  36391]])"
            ]
          },
          "metadata": {},
          "execution_count": 29
        }
      ]
    },
    {
      "cell_type": "code",
      "source": [
        "np.array_equiv(A@(B+C),A@B + A@C)"
      ],
      "metadata": {
        "colab": {
          "base_uri": "https://localhost:8080/"
        },
        "id": "N8to9OuRJcvB",
        "outputId": "41248c11-ab55-46bc-c540-8f6d69b9346a"
      },
      "execution_count": 30,
      "outputs": [
        {
          "output_type": "execute_result",
          "data": {
            "text/plain": [
              "True"
            ]
          },
          "metadata": {},
          "execution_count": 30
        }
      ]
    },
    {
      "cell_type": "code",
      "source": [
        "(B+C)@A"
      ],
      "metadata": {
        "colab": {
          "base_uri": "https://localhost:8080/"
        },
        "id": "ZkpZ7QWsJr0i",
        "outputId": "f04c0205-7a6a-4a2f-c357-a899490afeed"
      },
      "execution_count": 31,
      "outputs": [
        {
          "output_type": "execute_result",
          "data": {
            "text/plain": [
              "array([[ 77772, 141366,  97759],\n",
              "       [ 46536, 110166, 103789],\n",
              "       [ 38730,  82170,  68255]])"
            ]
          },
          "metadata": {},
          "execution_count": 31
        }
      ]
    },
    {
      "cell_type": "code",
      "source": [
        "B@A + C@A"
      ],
      "metadata": {
        "colab": {
          "base_uri": "https://localhost:8080/"
        },
        "id": "GhxKxCyCJxia",
        "outputId": "cb379bff-f88d-4c59-e975-39e0f87df05f"
      },
      "execution_count": 32,
      "outputs": [
        {
          "output_type": "execute_result",
          "data": {
            "text/plain": [
              "array([[ 77772, 141366,  97759],\n",
              "       [ 46536, 110166, 103789],\n",
              "       [ 38730,  82170,  68255]])"
            ]
          },
          "metadata": {},
          "execution_count": 32
        }
      ]
    },
    {
      "cell_type": "code",
      "source": [
        "np.array_equiv((B+C)@A,B@A + C@A)"
      ],
      "metadata": {
        "colab": {
          "base_uri": "https://localhost:8080/"
        },
        "id": "mtc0jO0DJ7eX",
        "outputId": "b6c004c3-de7f-46ed-cf0f-ce5c318f986d"
      },
      "execution_count": 33,
      "outputs": [
        {
          "output_type": "execute_result",
          "data": {
            "text/plain": [
              "True"
            ]
          },
          "metadata": {},
          "execution_count": 33
        }
      ]
    },
    {
      "cell_type": "code",
      "source": [
        "A@np.eye(3)"
      ],
      "metadata": {
        "colab": {
          "base_uri": "https://localhost:8080/"
        },
        "id": "WaYh0cLUKBKT",
        "outputId": "626f9e31-a751-488b-92d6-9edeb76d87ee"
      },
      "execution_count": 34,
      "outputs": [
        {
          "output_type": "execute_result",
          "data": {
            "text/plain": [
              "array([[12., 54., 64.],\n",
              "       [46., 78., 46.],\n",
              "       [ 8., 18., 23.]])"
            ]
          },
          "metadata": {},
          "execution_count": 34
        }
      ]
    },
    {
      "cell_type": "code",
      "source": [
        "np.array_equiv(A, A@np.eye(3))"
      ],
      "metadata": {
        "colab": {
          "base_uri": "https://localhost:8080/"
        },
        "id": "0VRV0AZJKx-Q",
        "outputId": "7aa107d4-29b9-4474-ff31-0c0d4a99365a"
      },
      "execution_count": 35,
      "outputs": [
        {
          "output_type": "execute_result",
          "data": {
            "text/plain": [
              "True"
            ]
          },
          "metadata": {},
          "execution_count": 35
        }
      ]
    },
    {
      "cell_type": "code",
      "source": [
        "A@np.zeros((3,3))"
      ],
      "metadata": {
        "id": "WoTpmYGLmlBZ",
        "colab": {
          "base_uri": "https://localhost:8080/"
        },
        "outputId": "d984cf79-c25c-4391-b160-eb5825c24aca"
      },
      "execution_count": 40,
      "outputs": [
        {
          "output_type": "execute_result",
          "data": {
            "text/plain": [
              "array([[0., 0., 0.],\n",
              "       [0., 0., 0.],\n",
              "       [0., 0., 0.]])"
            ]
          },
          "metadata": {},
          "execution_count": 40
        }
      ]
    },
    {
      "cell_type": "code",
      "source": [
        "np.array_equiv(A@np.zeros((3,3)), np.zeros((3,3)))\n"
      ],
      "metadata": {
        "colab": {
          "base_uri": "https://localhost:8080/"
        },
        "id": "1foAU64DKpxl",
        "outputId": "850b37eb-8ed0-4434-f795-60b717423607"
      },
      "execution_count": 41,
      "outputs": [
        {
          "output_type": "execute_result",
          "data": {
            "text/plain": [
              "True"
            ]
          },
          "metadata": {},
          "execution_count": 41
        }
      ]
    },
    {
      "cell_type": "code",
      "source": [
        "A.dot(np.zeros(A.shape))"
      ],
      "metadata": {
        "colab": {
          "base_uri": "https://localhost:8080/"
        },
        "id": "epdqWPG0GeWU",
        "outputId": "5269af41-cc9d-420b-cece-994be1be00d8"
      },
      "execution_count": 38,
      "outputs": [
        {
          "output_type": "execute_result",
          "data": {
            "text/plain": [
              "array([[0., 0., 0.],\n",
              "       [0., 0., 0.],\n",
              "       [0., 0., 0.]])"
            ]
          },
          "metadata": {},
          "execution_count": 38
        }
      ]
    },
    {
      "cell_type": "code",
      "source": [
        "z_mat = np.zeros(A.shape)\n",
        "z_mat"
      ],
      "metadata": {
        "colab": {
          "base_uri": "https://localhost:8080/"
        },
        "id": "tMaJWC65GhlK",
        "outputId": "3f208041-61a4-420c-ffb1-b514841a0667"
      },
      "execution_count": 39,
      "outputs": [
        {
          "output_type": "execute_result",
          "data": {
            "text/plain": [
              "array([[0., 0., 0.],\n",
              "       [0., 0., 0.],\n",
              "       [0., 0., 0.]])"
            ]
          },
          "metadata": {},
          "execution_count": 39
        }
      ]
    },
    {
      "cell_type": "code",
      "source": [
        "a_dot_z = A.dot(np.zeros(A.shape))\n",
        "a_dot_z"
      ],
      "metadata": {
        "colab": {
          "base_uri": "https://localhost:8080/"
        },
        "id": "zbnq-XiSGibS",
        "outputId": "d1a6a45d-d7f3-4429-d7e8-2d309fd5d5d9"
      },
      "execution_count": 42,
      "outputs": [
        {
          "output_type": "execute_result",
          "data": {
            "text/plain": [
              "array([[0., 0., 0.],\n",
              "       [0., 0., 0.],\n",
              "       [0., 0., 0.]])"
            ]
          },
          "metadata": {},
          "execution_count": 42
        }
      ]
    },
    {
      "cell_type": "code",
      "source": [
        "np.array_equal(a_dot_z,z_mat)"
      ],
      "metadata": {
        "colab": {
          "base_uri": "https://localhost:8080/"
        },
        "id": "A-fJB9LYGkZi",
        "outputId": "275bd03f-9a2e-4d7a-9a82-ca48eb2d0fc8"
      },
      "execution_count": 43,
      "outputs": [
        {
          "output_type": "execute_result",
          "data": {
            "text/plain": [
              "True"
            ]
          },
          "metadata": {},
          "execution_count": 43
        }
      ]
    },
    {
      "cell_type": "code",
      "source": [
        "null_mat = np.empty(A.shape, dtype=float)\n",
        "null = np.array(null_mat,dtype=float)\n",
        "print(null)\n",
        "np.allclose(a_dot_z,null)"
      ],
      "metadata": {
        "colab": {
          "base_uri": "https://localhost:8080/"
        },
        "id": "mcjmUPZVGmgD",
        "outputId": "53e36a62-0d5c-47ac-f361-b5f92a4b2112"
      },
      "execution_count": 44,
      "outputs": [
        {
          "output_type": "stream",
          "name": "stdout",
          "text": [
            "[[0. 0. 0.]\n",
            " [0. 0. 0.]\n",
            " [0. 0. 0.]]\n"
          ]
        },
        {
          "output_type": "execute_result",
          "data": {
            "text/plain": [
              "True"
            ]
          },
          "metadata": {},
          "execution_count": 44
        }
      ]
    },
    {
      "cell_type": "markdown",
      "source": [
        "##Determinant\n",
        "A determinant is a scalar value derived from a square matrix. The determinant is used for the inverse matrix and it is a fundamental value used in matrix algebra. Although it will not be evident in this laboratory on how it can be used practically, but it will be reatly used in future lessons.\n",
        "\n",
        "The determinant of some matrix $A$ is denoted as $det(A)$ or $|A|$. So let's say $A$ is represented as:\n",
        "$$A = \\begin{bmatrix}a_{(0,0)}&a_{(0,1)}\\\\a_{(1,0)}&a_{(1,1)}\\end{bmatrix}$$\n",
        "We can compute for the determinant as:\n",
        "$$|A| = a_{(0,0)}*a_{(1,1)} - a_{(1,0)}*a_{(0,1)}$$\n",
        "So if we have $A$ as:\n",
        "$$A = \\begin{bmatrix}5&2\\\\4&6\\end{bmatrix}, |A| = 22$$\n",
        "\n",
        "But you might wonder how about square matrices beyond the shape $(2,2)$? We can approach this problem by using several methods such as co-factor expansion and the minors method. This can be taught in the lecture of the laboratory but we can achieve the strenuous computation of high-dimensional matrices programmatically using Python. We can achieve this by using `np.linalg.det()`."
      ],
      "metadata": {
        "id": "BZFjd3_TG4vK"
      }
    },
    {
      "cell_type": "code",
      "source": [
        "A = np.array([\n",
        "    [1,4,9,8,7],\n",
        "    [0,3,5,3,4],\n",
        "    [6,4,7,5,3],\n",
        "    [4,6,4,7,8],\n",
        "    [9,8,7,6,5]\n",
        "])\n",
        "np.linalg.det(A)"
      ],
      "metadata": {
        "colab": {
          "base_uri": "https://localhost:8080/"
        },
        "id": "U9ncOHd3G51v",
        "outputId": "2a901023-2f2f-44bc-e927-a21cccea45ef"
      },
      "execution_count": 45,
      "outputs": [
        {
          "output_type": "execute_result",
          "data": {
            "text/plain": [
              "580.0000000000005"
            ]
          },
          "metadata": {},
          "execution_count": 45
        }
      ]
    },
    {
      "cell_type": "code",
      "source": [
        "A = np.array([\n",
        "    [1,4,9],\n",
        "    [0,3,5],\n",
        "    [6,4,7],\n",
        "  ])\n",
        "np.linalg.det(A)"
      ],
      "metadata": {
        "colab": {
          "base_uri": "https://localhost:8080/"
        },
        "id": "SsYlvV-yMQqj",
        "outputId": "9b6e7662-a3da-4f31-8fed-07161f6f239a"
      },
      "execution_count": 46,
      "outputs": [
        {
          "output_type": "execute_result",
          "data": {
            "text/plain": [
              "-41.00000000000001"
            ]
          },
          "metadata": {},
          "execution_count": 46
        }
      ]
    },
    {
      "cell_type": "code",
      "source": [
        "A = np.array([\n",
        "    [54654,48654321],\n",
        "    [9645524, 5412]\n",
        "  ])\n",
        "np.linalg.det(A)"
      ],
      "metadata": {
        "colab": {
          "base_uri": "https://localhost:8080/"
        },
        "id": "ssiZ0cfQMZdo",
        "outputId": "ee466859-40ba-4bd7-d422-c4c6f7477f62"
      },
      "execution_count": 47,
      "outputs": [
        {
          "output_type": "execute_result",
          "data": {
            "text/plain": [
              "-469296125121753.3"
            ]
          },
          "metadata": {},
          "execution_count": 47
        }
      ]
    },
    {
      "cell_type": "code",
      "source": [
        "## Now other mathematics classes would require you to solve this by hand, \n",
        "## and that is great for practicing your memorization and coordination skills \n",
        "## but in this class we aim for simplicity and speed so we'll use programming\n",
        "## but it's completely fine if you want to try to solve this one by hand.\n",
        "B = np.array([\n",
        "    [1,3,5,6],\n",
        "    [0,3,1,3],\n",
        "    [3,1,8,2],\n",
        "    [5,2,6,8]\n",
        "])\n",
        "np.linalg.det(B)"
      ],
      "metadata": {
        "colab": {
          "base_uri": "https://localhost:8080/"
        },
        "id": "D_UxOychG_e2",
        "outputId": "75ee8c56-0058-4303-d7b6-ff2c1bdfc42c"
      },
      "execution_count": 48,
      "outputs": [
        {
          "output_type": "execute_result",
          "data": {
            "text/plain": [
              "-235.0000000000002"
            ]
          },
          "metadata": {},
          "execution_count": 48
        }
      ]
    },
    {
      "cell_type": "markdown",
      "source": [
        "##Inverse\n",
        "The inverse of a matrix is another fundamental operation in matrix algebra. Also, it is similar to a reciprocal of a value since a matrix multiplied to its inverse leads to the identity matrix. It can be used to identify the value of a variable given an equation. Furthermore, determining the inverse of a matrix let us determine if its solvability and its characteristic as a system of linear equation — we'll expand on this in the next module. Another use of the inverse matrix is solving the problem of divisibility between matrices. Although element-wise division exists but dividing the entire concept of matrices does not exists. Inverse matrices provides a related operation that could have the same concept of \"dividing\" matrices.\n",
        "\n",
        "Now to determine the inverse of a matrix we need to perform several steps. So let's say we have a matrix $M$:\n",
        "$$M = \\begin{bmatrix}1&7\\\\-3&5\\end{bmatrix}$$\n",
        "First, we need to get the determinant of $M$.\n",
        "$$|M| = (1)(5)-(-3)(7) = 26$$\n",
        "Next, we need to reform the matrix into the inverse form:\n",
        "$$M^{-1} = \\frac{1}{|M|} \\begin{bmatrix} m_{(1,1)} & -m_{(0,1)} \\\\ -m_{(1,0)} & m_{(0,0)}\\end{bmatrix}$$\n",
        "So that will be:\n",
        "$$M^{-1} = \\frac{1}{26} \\begin{bmatrix} 5 & -7 \\\\ 3 & 1\\end{bmatrix} = \\begin{bmatrix} \\frac{5}{26} & \\frac{-7}{26} \\\\ \\frac{3}{26} & \\frac{1}{26}\\end{bmatrix}$$\n",
        "For higher-dimension matrices you might need to use co-factors, minors, adjugates, and other reduction techinques. To solve this programmatially we can use `np.linalg.inv()`."
      ],
      "metadata": {
        "id": "mJJfeGJQHBQ0"
      }
    },
    {
      "cell_type": "code",
      "source": [
        "M = np.array([\n",
        "    [12423,7234,324123],\n",
        "    [-3234, 523423,213423],\n",
        "    [12312,234231,23423]\n",
        "])\n",
        "\n",
        "np.array(M @ np.linalg.inv(M), dtype=int)"
      ],
      "metadata": {
        "colab": {
          "base_uri": "https://localhost:8080/"
        },
        "id": "9vuG4GK2HGOb",
        "outputId": "6ba1b9d3-8334-4835-b02e-5543ac82ec22"
      },
      "execution_count": 49,
      "outputs": [
        {
          "output_type": "execute_result",
          "data": {
            "text/plain": [
              "array([[1, 0, 0],\n",
              "       [0, 1, 0],\n",
              "       [0, 0, 1]])"
            ]
          },
          "metadata": {},
          "execution_count": 49
        }
      ]
    },
    {
      "cell_type": "code",
      "source": [
        "P = np.array([\n",
        "    [612,912321,1012, 213123],\n",
        "    [123214, 1232, -12131,45435],\n",
        "    [3123, 1236, 5437,45431],\n",
        "    [23423,342643,346342,1345341]\n",
        "])\n",
        "Q = np.linalg.inv(P)\n",
        "Q"
      ],
      "metadata": {
        "colab": {
          "base_uri": "https://localhost:8080/"
        },
        "id": "EeyF4lCuPmdR",
        "outputId": "02f1c0e2-6bf3-40b9-9fe3-2bb5bbbf7015"
      },
      "execution_count": 50,
      "outputs": [
        {
          "output_type": "execute_result",
          "data": {
            "text/plain": [
              "array([[-2.68091749e-07,  8.75241819e-06, -3.10149285e-05,\n",
              "         7.94229576e-07],\n",
              "       [ 1.04944322e-06,  2.14103568e-07, -9.84526932e-06,\n",
              "         1.58987311e-07],\n",
              "       [-1.83280778e-06,  2.90767157e-06, -1.55077556e-04,\n",
              "         5.42898187e-06],\n",
              "       [ 2.09220898e-07, -9.55458703e-07,  4.29703297e-05,\n",
              "        -7.08640834e-07]])"
            ]
          },
          "metadata": {},
          "execution_count": 50
        }
      ]
    },
    {
      "cell_type": "code",
      "source": [
        "## And now let's test your skills in solving a matrix with high dimensions:\n",
        "N = np.array([\n",
        "    [18,5,23,1,0,33,5],\n",
        "    [0,45,0,11,2,4,2],\n",
        "    [5,9,20,0,0,0,3],\n",
        "    [1,6,4,4,8,43,1],\n",
        "    [8,6,8,7,1,6,1],\n",
        "    [-5,15,2,0,0,6,-30],\n",
        "    [-2,-5,1,2,1,20,12],\n",
        "])\n",
        "N_inv = np.linalg.inv(N)\n",
        "np.array(N @ N_inv,dtype=int)"
      ],
      "metadata": {
        "colab": {
          "base_uri": "https://localhost:8080/"
        },
        "id": "zu5BI6DzHU-x",
        "outputId": "96bda7cf-c4c5-4d43-8e00-d638c90cccec"
      },
      "execution_count": 51,
      "outputs": [
        {
          "output_type": "execute_result",
          "data": {
            "text/plain": [
              "array([[0, 0, 0, 0, 0, 0, 0],\n",
              "       [0, 0, 0, 0, 0, 0, 0],\n",
              "       [0, 0, 1, 0, 0, 0, 0],\n",
              "       [0, 0, 0, 1, 0, 0, 0],\n",
              "       [0, 0, 0, 0, 0, 0, 0],\n",
              "       [0, 0, 0, 0, 0, 0, 0],\n",
              "       [0, 0, 0, 0, 0, 0, 0]])"
            ]
          },
          "metadata": {},
          "execution_count": 51
        }
      ]
    },
    {
      "cell_type": "code",
      "source": [
        "P = np.array([\n",
        "    [612,912321,1012, 213123],\n",
        "    [123214, 1232, -12131,45435],\n",
        "    [3123, 1236, 5437,45431],\n",
        "    [23423,342643,346342,1345341]\n",
        "])\n",
        "Q = np.linalg.inv(P)\n",
        "Q"
      ],
      "metadata": {
        "colab": {
          "base_uri": "https://localhost:8080/"
        },
        "id": "54YksazTOTiH",
        "outputId": "7d766ddd-7a35-42db-d56e-7e112ac2a16a"
      },
      "execution_count": 52,
      "outputs": [
        {
          "output_type": "execute_result",
          "data": {
            "text/plain": [
              "array([[-2.68091749e-07,  8.75241819e-06, -3.10149285e-05,\n",
              "         7.94229576e-07],\n",
              "       [ 1.04944322e-06,  2.14103568e-07, -9.84526932e-06,\n",
              "         1.58987311e-07],\n",
              "       [-1.83280778e-06,  2.90767157e-06, -1.55077556e-04,\n",
              "         5.42898187e-06],\n",
              "       [ 2.09220898e-07, -9.55458703e-07,  4.29703297e-05,\n",
              "        -7.08640834e-07]])"
            ]
          },
          "metadata": {},
          "execution_count": 52
        }
      ]
    },
    {
      "cell_type": "code",
      "source": [
        "P@Q"
      ],
      "metadata": {
        "colab": {
          "base_uri": "https://localhost:8080/"
        },
        "id": "wKM-fMC3Pwy_",
        "outputId": "7a7a1aae-6567-4082-8954-26b7a0ad2c34"
      },
      "execution_count": 53,
      "outputs": [
        {
          "output_type": "execute_result",
          "data": {
            "text/plain": [
              "array([[ 1.00000000e+00, -1.93472913e-17,  5.27782841e-16,\n",
              "         3.54278942e-17],\n",
              "       [-4.30308619e-18,  1.00000000e+00,  2.87787914e-17,\n",
              "         6.17730541e-18],\n",
              "       [ 1.20331618e-19,  3.12703388e-18,  1.00000000e+00,\n",
              "         2.97679141e-18],\n",
              "       [-6.54920051e-17,  2.43438328e-16, -7.51741741e-15,\n",
              "         1.00000000e+00]])"
            ]
          },
          "metadata": {},
          "execution_count": 53
        }
      ]
    },
    {
      "cell_type": "markdown",
      "source": [
        "To validate the wether if the matric that you have solved is really the inverse, we follow this dot product property for a matrix $M$:\n",
        "$$M\\cdot M^{-1} = I$$"
      ],
      "metadata": {
        "id": "fhKlgDoINDIX"
      }
    },
    {
      "cell_type": "code",
      "source": [
        "squad = np.array([\n",
        "    [1.0, 1.0, 0.5],\n",
        "    [0.7, 0.7, 0.9],\n",
        "    [0.3, 0.3, 1.0]\n",
        "])\n",
        "weights = np.array([\n",
        "    [0.2, 0.2, 0.6]\n",
        "])\n",
        "p_grade = squad @ weights.T\n",
        "p_grade\n"
      ],
      "metadata": {
        "colab": {
          "base_uri": "https://localhost:8080/"
        },
        "id": "_vKKSl8bNAlY",
        "outputId": "d271c50b-801b-4c8a-b406-12276463d1b3"
      },
      "execution_count": 54,
      "outputs": [
        {
          "output_type": "execute_result",
          "data": {
            "text/plain": [
              "array([[0.7 ],\n",
              "       [0.82],\n",
              "       [0.72]])"
            ]
          },
          "metadata": {},
          "execution_count": 54
        }
      ]
    },
    {
      "cell_type": "markdown",
      "source": [
        ""
      ],
      "metadata": {
        "id": "mQ-LCDwzUw08"
      }
    },
    {
      "cell_type": "markdown",
      "source": [
        "## Activity\n",
        "**Task 1**\n",
        "\n",
        "Prove and implement the remaining 6 matrix multiplication properties. You may create your own matrices in which their shapes should not be lower than . In your methodology, create individual flowcharts for each property and discuss the property you would then present your proofs or validity of your implementation in the results section by comparing your result to present functions from NumPy."
      ],
      "metadata": {
        "id": "78mytEBVU1O9"
      }
    },
    {
      "cell_type": "code",
      "source": [
        "A = np.array([\n",
        "    [12,54,64],\n",
        "    [46,78,46],\n",
        "    [8,18,23]\n",
        "])\n",
        "B = np.array([\n",
        "    [65,1213,643],\n",
        "    [124,165,965],\n",
        "    [313,343,383]\n",
        "])\n",
        "C = np.array([\n",
        "    [131,313,10],\n",
        "    [660,451,134],\n",
        "    [112,302,112]\n",
        "])"
      ],
      "metadata": {
        "id": "Bs_c8CNIVEZk"
      },
      "execution_count": 55,
      "outputs": []
    },
    {
      "cell_type": "code",
      "source": [
        "A @ B"
      ],
      "metadata": {
        "colab": {
          "base_uri": "https://localhost:8080/"
        },
        "outputId": "9e1ea8fa-ad89-48ae-9eb6-174fbac5427a",
        "id": "b2faNOH-VJ0j"
      },
      "execution_count": 56,
      "outputs": [
        {
          "output_type": "execute_result",
          "data": {
            "text/plain": [
              "array([[ 27508,  45418,  84338],\n",
              "       [ 27060,  84446, 122466],\n",
              "       [  9951,  20563,  31323]])"
            ]
          },
          "metadata": {},
          "execution_count": 56
        }
      ]
    },
    {
      "cell_type": "code",
      "source": [
        "B @ A"
      ],
      "metadata": {
        "colab": {
          "base_uri": "https://localhost:8080/"
        },
        "outputId": "a7718a3c-d26a-4495-aa8e-5056d0c0769d",
        "id": "v5_zcY1GVPvt"
      },
      "execution_count": 58,
      "outputs": [
        {
          "output_type": "execute_result",
          "data": {
            "text/plain": [
              "array([[ 61722, 109698,  74747],\n",
              "       [ 16798,  36936,  37721],\n",
              "       [ 22598,  50550,  44619]])"
            ]
          },
          "metadata": {},
          "execution_count": 58
        }
      ]
    },
    {
      "cell_type": "code",
      "source": [
        "np.array_equiv(A @ B, B @ A)"
      ],
      "metadata": {
        "colab": {
          "base_uri": "https://localhost:8080/"
        },
        "outputId": "40051bf5-6d7a-4824-9518-0546ba058eab",
        "id": "bgdZojCjVTrK"
      },
      "execution_count": 57,
      "outputs": [
        {
          "output_type": "execute_result",
          "data": {
            "text/plain": [
              "False"
            ]
          },
          "metadata": {},
          "execution_count": 57
        }
      ]
    },
    {
      "cell_type": "code",
      "source": [
        "A @ (B@C)"
      ],
      "metadata": {
        "colab": {
          "base_uri": "https://localhost:8080/"
        },
        "outputId": "455db77f-bb57-4c0c-f35a-2b9c3278a83c",
        "id": "Jkal4so7VcoU"
      },
      "execution_count": 59,
      "outputs": [
        {
          "output_type": "execute_result",
          "data": {
            "text/plain": [
              "array([[43025284, 54563598, 15806948],\n",
              "       [72995412, 83539658, 25302556],\n",
              "       [18383337, 21848122,  6363128]])"
            ]
          },
          "metadata": {},
          "execution_count": 59
        }
      ]
    },
    {
      "cell_type": "code",
      "source": [
        "(A@B)@C"
      ],
      "metadata": {
        "colab": {
          "base_uri": "https://localhost:8080/"
        },
        "outputId": "d163121b-a19e-495b-d333-6e8d3993ff96",
        "id": "ohoAk26oVjN1"
      },
      "execution_count": null,
      "outputs": [
        {
          "output_type": "execute_result",
          "data": {
            "text/plain": [
              "array([[43025284, 54563598, 15806948],\n",
              "       [72995412, 83539658, 25302556],\n",
              "       [18383337, 21848122,  6363128]])"
            ]
          },
          "metadata": {},
          "execution_count": 26
        }
      ]
    },
    {
      "cell_type": "code",
      "source": [
        "np.array_equiv(A@(B@C),(A@B)@C)"
      ],
      "metadata": {
        "colab": {
          "base_uri": "https://localhost:8080/"
        },
        "outputId": "4708ea82-1d49-4a2a-df84-50da9346abf9",
        "id": "iTZlLlMxVpom"
      },
      "execution_count": null,
      "outputs": [
        {
          "output_type": "execute_result",
          "data": {
            "text/plain": [
              "True"
            ]
          },
          "metadata": {},
          "execution_count": 27
        }
      ]
    },
    {
      "cell_type": "code",
      "source": [
        "A@(B+C)"
      ],
      "metadata": {
        "colab": {
          "base_uri": "https://localhost:8080/"
        },
        "outputId": "71b60ede-f501-4447-b07b-1bb1dacc7b80",
        "id": "Ipuy54OIVt3Q"
      },
      "execution_count": null,
      "outputs": [
        {
          "output_type": "execute_result",
          "data": {
            "text/plain": [
              "array([[ 71888,  92856,  98862],\n",
              "       [ 89718, 147914, 138530],\n",
              "       [ 25455,  38131,  36391]])"
            ]
          },
          "metadata": {},
          "execution_count": 28
        }
      ]
    },
    {
      "cell_type": "code",
      "source": [
        "A@B + A@C"
      ],
      "metadata": {
        "colab": {
          "base_uri": "https://localhost:8080/"
        },
        "outputId": "114cb51e-3433-45a9-cf6a-b168a7d93237",
        "id": "-QSbFym1VxMa"
      },
      "execution_count": null,
      "outputs": [
        {
          "output_type": "execute_result",
          "data": {
            "text/plain": [
              "array([[ 71888,  92856,  98862],\n",
              "       [ 89718, 147914, 138530],\n",
              "       [ 25455,  38131,  36391]])"
            ]
          },
          "metadata": {},
          "execution_count": 29
        }
      ]
    },
    {
      "cell_type": "code",
      "source": [
        "np.array_equiv(A@(B+C),A@B + A@C)"
      ],
      "metadata": {
        "colab": {
          "base_uri": "https://localhost:8080/"
        },
        "outputId": "41248c11-ab55-46bc-c540-8f6d69b9346a",
        "id": "cKngyAN-V0hN"
      },
      "execution_count": null,
      "outputs": [
        {
          "output_type": "execute_result",
          "data": {
            "text/plain": [
              "True"
            ]
          },
          "metadata": {},
          "execution_count": 30
        }
      ]
    },
    {
      "cell_type": "code",
      "source": [
        "(B+C)@A"
      ],
      "metadata": {
        "colab": {
          "base_uri": "https://localhost:8080/"
        },
        "outputId": "f04c0205-7a6a-4a2f-c357-a899490afeed",
        "id": "OJvR-9NUV4fa"
      },
      "execution_count": null,
      "outputs": [
        {
          "output_type": "execute_result",
          "data": {
            "text/plain": [
              "array([[ 77772, 141366,  97759],\n",
              "       [ 46536, 110166, 103789],\n",
              "       [ 38730,  82170,  68255]])"
            ]
          },
          "metadata": {},
          "execution_count": 31
        }
      ]
    },
    {
      "cell_type": "code",
      "source": [
        "B@A + C@A"
      ],
      "metadata": {
        "colab": {
          "base_uri": "https://localhost:8080/"
        },
        "outputId": "cb379bff-f88d-4c59-e975-39e0f87df05f",
        "id": "Xk-LAcksV60P"
      },
      "execution_count": null,
      "outputs": [
        {
          "output_type": "execute_result",
          "data": {
            "text/plain": [
              "array([[ 77772, 141366,  97759],\n",
              "       [ 46536, 110166, 103789],\n",
              "       [ 38730,  82170,  68255]])"
            ]
          },
          "metadata": {},
          "execution_count": 32
        }
      ]
    },
    {
      "cell_type": "code",
      "source": [
        "np.array_equiv((B+C)@A,B@A + C@A)"
      ],
      "metadata": {
        "colab": {
          "base_uri": "https://localhost:8080/"
        },
        "outputId": "b6c004c3-de7f-46ed-cf0f-ce5c318f986d",
        "id": "QvFuMaqrV-DG"
      },
      "execution_count": null,
      "outputs": [
        {
          "output_type": "execute_result",
          "data": {
            "text/plain": [
              "True"
            ]
          },
          "metadata": {},
          "execution_count": 33
        }
      ]
    },
    {
      "cell_type": "code",
      "source": [
        "A@np.eye(3)"
      ],
      "metadata": {
        "colab": {
          "base_uri": "https://localhost:8080/"
        },
        "outputId": "626f9e31-a751-488b-92d6-9edeb76d87ee",
        "id": "G2HC6_UYWC0C"
      },
      "execution_count": null,
      "outputs": [
        {
          "output_type": "execute_result",
          "data": {
            "text/plain": [
              "array([[12., 54., 64.],\n",
              "       [46., 78., 46.],\n",
              "       [ 8., 18., 23.]])"
            ]
          },
          "metadata": {},
          "execution_count": 34
        }
      ]
    },
    {
      "cell_type": "code",
      "source": [
        "np.array_equiv(A, A@np.eye(3))"
      ],
      "metadata": {
        "colab": {
          "base_uri": "https://localhost:8080/"
        },
        "outputId": "7aa107d4-29b9-4474-ff31-0c0d4a99365a",
        "id": "i7zi5O8eWHPz"
      },
      "execution_count": null,
      "outputs": [
        {
          "output_type": "execute_result",
          "data": {
            "text/plain": [
              "True"
            ]
          },
          "metadata": {},
          "execution_count": 35
        }
      ]
    },
    {
      "cell_type": "code",
      "source": [
        "A@np.zeros((3,3))"
      ],
      "metadata": {
        "outputId": "d984cf79-c25c-4391-b160-eb5825c24aca",
        "colab": {
          "base_uri": "https://localhost:8080/"
        },
        "id": "ckiqv4MgWLf9"
      },
      "execution_count": null,
      "outputs": [
        {
          "output_type": "execute_result",
          "data": {
            "text/plain": [
              "array([[0., 0., 0.],\n",
              "       [0., 0., 0.],\n",
              "       [0., 0., 0.]])"
            ]
          },
          "metadata": {},
          "execution_count": 40
        }
      ]
    },
    {
      "cell_type": "code",
      "source": [
        "np.array_equiv(A@np.zeros((3,3)), np.zeros((3,3)))\n"
      ],
      "metadata": {
        "colab": {
          "base_uri": "https://localhost:8080/"
        },
        "outputId": "850b37eb-8ed0-4434-f795-60b717423607",
        "id": "O_UtPKBFWOzH"
      },
      "execution_count": null,
      "outputs": [
        {
          "output_type": "execute_result",
          "data": {
            "text/plain": [
              "True"
            ]
          },
          "metadata": {},
          "execution_count": 41
        }
      ]
    },
    {
      "cell_type": "markdown",
      "source": [
        "## Conclusion\n",
        "\n",
        "For your conclusion synthesize the concept and application of the laboratory. Briefly discuss what you have learned and achieved in this activity. Also answer the question: \"how can matrix operations solve problems in healthcare?\"."
      ],
      "metadata": {
        "id": "Jspa95rRWQKy"
      }
    },
    {
      "cell_type": "markdown",
      "source": [
        "In totality, this laboratory experiment enhanced the matrix operation knowledge of the students along with the utilization of Python programming with the said topic. In relation, transposition is discussed and applied - it is the inversion of the row and column of a given matrix. Furthermore, the dot product is explained in terms of how it operates - the column of the first matrix should have the same dimension as the row of the second matrix so that the operation can continue - and the properties of the dot product are also defined. Next is the determinant where it can help in identifying the inverse of a matrix and lastly is the inverse of a matrix. This is the corresponding matrix of a matrix that if multiplied with each other, it would yield to the identity matrix. \n",
        "\n",
        "Another learning that the students accomplished in this activity was the proving of the dot product properties. The properties of multiplication in algebra are the same for matrices except for the commutative property. Overall matrix operations are significant in our lives as it gives a definite number or value that is needed given a situation. One of the many applications of matrix operations is the nutrition balance in healthcare. Our foods are composed of different nutrients and vitamins that we need for our body. However, too much of something can be bad and thus the need to control the amount of intake. In order to obtain that certain value and amount of food to take, there is a need for computation and matrix operations can be used for this account [5]. Matrix operations would help balance the amount of nutrients in a given food simultaneously with another food that has its own nutritional value.\n"
      ],
      "metadata": {
        "id": "bNNWBO-LWWhi"
      }
    }
  ]
}
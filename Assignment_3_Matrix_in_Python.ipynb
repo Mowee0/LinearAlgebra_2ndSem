{
  "nbformat": 4,
  "nbformat_minor": 0,
  "metadata": {
    "colab": {
      "name": "Assignment_3_Matrix-in-Python.ipynb",
      "provenance": [],
      "include_colab_link": true
    },
    "kernelspec": {
      "name": "python3",
      "display_name": "Python 3"
    },
    "language_info": {
      "name": "python"
    }
  },
  "cells": [
    {
      "cell_type": "markdown",
      "metadata": {
        "id": "view-in-github",
        "colab_type": "text"
      },
      "source": [
        "<a href=\"https://colab.research.google.com/github/Mowee0/LinearAlgebra_2ndSem/blob/main/Assignment_3_Matrix_in_Python.ipynb\" target=\"_parent\"><img src=\"https://colab.research.google.com/assets/colab-badge.svg\" alt=\"Open In Colab\"/></a>"
      ]
    },
    {
      "cell_type": "markdown",
      "source": [
        "#Linear Algebra for ChE\n",
        "## Laboratory 4: Matrices \n",
        "### Now that you have a fundamental knowledge about Python, we'll try to look into greater dimensions."
      ],
      "metadata": {
        "id": "13U-pKDf9Iux"
      }
    },
    {
      "cell_type": "markdown",
      "source": [
        "## Objectives\n",
        "### At the end of this activity you will be able to:\n",
        "1. Be familiar with matrices and their relation to linear equations\n",
        "2. Perform basic matrix operations\n",
        "3. Program and translate matrix equations and operations using Pythons"
      ],
      "metadata": {
        "id": "3GCDuU9393Kh"
      }
    },
    {
      "cell_type": "markdown",
      "source": [
        "## Discussion"
      ],
      "metadata": {
        "id": "t_ZFj2xW-PNj"
      }
    },
    {
      "cell_type": "code",
      "source": [
        "import numpy as np\n",
        "import matplotlib.pyplot as plt\n",
        "import scipy.linalg as la\n",
        "%matplotlib inline"
      ],
      "metadata": {
        "id": "4JGv1GFU-RZ5"
      },
      "execution_count": null,
      "outputs": []
    },
    {
      "cell_type": "markdown",
      "source": [
        "### Matrics\n",
        "(own discussion)\n",
        "The notation and use of matrices is probably one of the fundamentals of moderm computing. Matrices are also handy represntations of complex equations or multiple inter-related equations from 2-dimensional equations to even hunderds and thousands of them.\n",
        "\n",
        "Let's say for example you have *A* and *B* as system of equation.\n",
        "\n"
      ],
      "metadata": {
        "id": "4_1FKAIH-prc"
      }
    },
    {
      "cell_type": "markdown",
      "source": [
        "$$\n",
        "A = \\left\\{\n",
        "    \\begin{array}\\\n",
        "        3x + 2y \\\\ \n",
        "        5x - 8y\n",
        "    \\end{array}\n",
        "\\right. \\\\\n",
        "B = \\left\\{\n",
        "    \\begin{array}\\\n",
        "        2x+9y+8z \\\\ \n",
        "        12x -34y -5z \\\\\n",
        "        -5x + 43y +24z\n",
        "    \\end{array}\n",
        "\\right. \\\\\n",
        "C = \\left\\{\n",
        "    \\begin{array}\\\n",
        "        w+3x+6y+9z \\\\ \n",
        "        w+12x -15y -18z \\\\\n",
        "        w+-21x + 24y +27z\n",
        "    \\end{array}\n",
        "\\right. \\\\\n",
        "D = \\left\\{\n",
        "    \\begin{array}\\\n",
        "        v+w+4x+8y+12z \\\\ \n",
        "        v+w+16x -20y -24z \\\\\n",
        "        v+w+-28x + 32y +36z\n",
        "    \\end{array}\n",
        "\\right. $$"
      ],
      "metadata": {
        "id": "jfSlW-Yd_kQA"
      }
    },
    {
      "cell_type": "markdown",
      "source": [
        "We could see that *A* is a system of 2 equations with 2 parameters. While *B* is a system of 3 equations with 3 parameters. *C* is a system with 4 equations and 4 variables and lastly, *D* is a system with 5 equations and 5 variables. We can represent them as matrices as:"
      ],
      "metadata": {
        "id": "3HZPddeoBUbR"
      }
    },
    {
      "cell_type": "markdown",
      "source": [
        "$$\n",
        "A=\\begin{bmatrix} 3 & 2 \\\\ 5 & -8\\end{bmatrix} \\\\\n",
        "B=\\begin{bmatrix} 2 & 9 & 8 \\\\ 12 & -34 & -5 \\\\ -5 & 43 & 24\\end{bmatrix} \\\\\n",
        "C=\\begin{bmatrix} 1 & 3 & 6 & 9\\\\ 1& 12 & 15 & 18 \\\\ 1 & 21 & 24 &27\\end{bmatrix} \\\\\n",
        "D=\\begin{bmatrix} 1 & 1 & 4 & 8 & 12\\\\ 1 & 1 & 16 & 20 & 24 \\\\ 1& 1 & 28 & 32 &36\\end{bmatrix}\n",
        "$$"
      ],
      "metadata": {
        "id": "p7HJQes_B7ip"
      }
    },
    {
      "cell_type": "markdown",
      "source": [
        "So assuming that you already discussed the fundamental representation of matrcices, their types, and operations. We'll proceed in doing them here in Python"
      ],
      "metadata": {
        "id": "UtwTooKeDE5P"
      }
    },
    {
      "cell_type": "markdown",
      "source": [
        "Just like our previous laboratory activity, we'll represent system of linear equations as a matrix. The entities or numbers in matrices are called the elements of a matrix. These elements are arranged and ordered in rows and columns which form the list/array-like structure of matrices. And just like arrays, these elements are indexed according to their position with respect to their rows and columns. This can be reprsented just like the equation below. Whereas $A$ is a matrix consisting of elements denoted by $a_{i,j}$. Denoted by $i$ is the number of rows in the matrix while $j$ stands for the number of columns.<br>\n",
        "Do note that the $size$ of a matrix is $i\\times j$."
      ],
      "metadata": {
        "id": "NMU6AeMMDR2a"
      }
    },
    {
      "cell_type": "markdown",
      "source": [
        "###Declaring Matrices"
      ],
      "metadata": {
        "id": "bOw5ekdADP7X"
      }
    },
    {
      "cell_type": "markdown",
      "source": [
        "$$A=\\begin{bmatrix}\n",
        "a_{(0,0)}&a_{(0,1)}&\\dots&a_{(0,j-1)}\\\\\n",
        "a_{(1,0)}&a_{(1,1)}&\\dots&a_{(1,j-1)}\\\\\n",
        "\\vdots&\\vdots&\\ddots&\\vdots&\\\\\n",
        "a_{(i-1,0)}&a_{(i-1,1)}&\\dots&a_{(i-1,j-1)}\n",
        "\\end{bmatrix}\n",
        "$$"
      ],
      "metadata": {
        "id": "FUOiroSVEO22"
      }
    },
    {
      "cell_type": "markdown",
      "source": [
        "We already gone over some of the types of matrices as vectors but we'll further discuss them in this laboratory activity. Since you already know how to describe vectors using <b>shape</b>, <b>dimensions</b> and <b>size</b> attributes, we'll use them to analyze these matrices."
      ],
      "metadata": {
        "id": "lYbi0N6QE6uY"
      }
    },
    {
      "cell_type": "code",
      "source": [
        "## Since we'll keep on describing matrices. Let's make a function.\n",
        "def describe_mat(matrix):\n",
        "    print(f'Matrix:\\n{matrix}\\n\\nShape:\\t{matrix.shape}\\nRank:\\t{matrix.ndim}\\n')"
      ],
      "metadata": {
        "id": "nzfcmqkeE9D0"
      },
      "execution_count": null,
      "outputs": []
    },
    {
      "cell_type": "code",
      "source": [
        "## Declaring a 2 x 2 matrix\n",
        "A = np.array([\n",
        "    [7, 8],\n",
        "    [9, 10]\n",
        "])\n",
        "describe_mat(A)"
      ],
      "metadata": {
        "colab": {
          "base_uri": "https://localhost:8080/"
        },
        "id": "ADpyx7TcFFU6",
        "outputId": "ae71d680-1b69-493e-ebab-107828dc1448"
      },
      "execution_count": null,
      "outputs": [
        {
          "output_type": "stream",
          "name": "stdout",
          "text": [
            "Matrix:\n",
            "[[ 7  8]\n",
            " [ 9 10]]\n",
            "\n",
            "Shape:\t(2, 2)\n",
            "Rank:\t2\n",
            "\n"
          ]
        }
      ]
    },
    {
      "cell_type": "code",
      "source": [
        "G = np.array([\n",
        "    [11,12],\n",
        "    [13,14]\n",
        "])\n",
        "describe_mat(G)"
      ],
      "metadata": {
        "colab": {
          "base_uri": "https://localhost:8080/"
        },
        "id": "AAJXouRbFUmi",
        "outputId": "5447ffa0-fae8-4870-cbef-c71938ff6895"
      },
      "execution_count": null,
      "outputs": [
        {
          "output_type": "stream",
          "name": "stdout",
          "text": [
            "Matrix:\n",
            "[[11 12]\n",
            " [13 14]]\n",
            "\n",
            "Shape:\t(2, 2)\n",
            "Rank:\t2\n",
            "\n"
          ]
        }
      ]
    },
    {
      "cell_type": "code",
      "source": [
        "## Declaring a 3 x 2 matrix\n",
        "B = np.array([\n",
        "    [14, 15],\n",
        "    [16, 17],\n",
        "    [18, 19]\n",
        "])\n",
        "describe_mat(B)"
      ],
      "metadata": {
        "colab": {
          "base_uri": "https://localhost:8080/"
        },
        "id": "8YSv6cA1FlnJ",
        "outputId": "79057c05-605e-4f28-c927-a457eb2aaa8e"
      },
      "execution_count": null,
      "outputs": [
        {
          "output_type": "stream",
          "name": "stdout",
          "text": [
            "Matrix:\n",
            "[[14 15]\n",
            " [16 17]\n",
            " [18 19]]\n",
            "\n",
            "Shape:\t(3, 2)\n",
            "Rank:\t2\n",
            "\n"
          ]
        }
      ]
    },
    {
      "cell_type": "code",
      "source": [
        "H = np.array([3,6,9,12,15])\n",
        "describe_mat(H)"
      ],
      "metadata": {
        "colab": {
          "base_uri": "https://localhost:8080/"
        },
        "id": "rtzi6V7RJfV4",
        "outputId": "24e29750-5d9c-4d4b-b49b-a9923080aa93"
      },
      "execution_count": null,
      "outputs": [
        {
          "output_type": "stream",
          "name": "stdout",
          "text": [
            "Matrix:\n",
            "[ 3  6  9 12 15]\n",
            "\n",
            "Shape:\t(5,)\n",
            "Rank:\t1\n",
            "\n"
          ]
        }
      ]
    },
    {
      "cell_type": "markdown",
      "source": [
        "## Categorizing Matrices\n",
        "There are several ways of classifying matrices. Once could be according to their **shape** and another is according to their **element values**. We'll try to go through them."
      ],
      "metadata": {
        "id": "t_RW_IKuKO1C"
      }
    },
    {
      "cell_type": "markdown",
      "source": [
        "#### According to Shape"
      ],
      "metadata": {
        "id": "f8-iTj6CMIW0"
      }
    },
    {
      "cell_type": "markdown",
      "source": [
        "##### Rows and Columns \n",
        "\n",
        "Row and column matrices are common in vector and matrix computations. They can also represent row and column spaces of a bigger vector space. Row and column matrices are represented by a single column or single row. So with that being, the shape of row matrices would be $1 \\times j$ and column matrices would be $i \\times 1$."
      ],
      "metadata": {
        "id": "lB6IR24zMLTW"
      }
    },
    {
      "cell_type": "code",
      "source": [
        "## Declaring a Row Matrix\n",
        "\n",
        "row_mat_1D = np.array([\n",
        "    1, 3, 2\n",
        "]) ## this is a 1-D Matrix with a shape of (3,), it's not really considered as a row matrix.\n",
        "row_mat_2D = np.array([\n",
        "    [1,2,3]\n",
        "]) ## this is a 2-D Matrix with a shape of (1,3)\n",
        "describe_mat(row_mat_1D)\n",
        "describe_mat(row_mat_2D)"
      ],
      "metadata": {
        "colab": {
          "base_uri": "https://localhost:8080/"
        },
        "id": "DZIjD9gDMWtb",
        "outputId": "1d59eba3-5f81-420e-89b7-9d94fa2a0f82"
      },
      "execution_count": null,
      "outputs": [
        {
          "output_type": "stream",
          "name": "stdout",
          "text": [
            "Matrix:\n",
            "[1 3 2]\n",
            "\n",
            "Shape:\t(3,)\n",
            "Rank:\t1\n",
            "\n",
            "Matrix:\n",
            "[[1 2 3]]\n",
            "\n",
            "Shape:\t(1, 3)\n",
            "Rank:\t2\n",
            "\n"
          ]
        }
      ]
    },
    {
      "cell_type": "code",
      "source": [
        "## Declaring a Column Matrix\n",
        "\n",
        "col_mat = np.array([\n",
        "    [1],\n",
        "    [2],\n",
        "    [5]\n",
        "]) ## this is a 2-D Matrix with a shape of (3,1)\n",
        "describe_mat(col_mat)"
      ],
      "metadata": {
        "colab": {
          "base_uri": "https://localhost:8080/"
        },
        "id": "dB63qDRAMdZn",
        "outputId": "d222183d-c5e7-4bde-c050-dcf7882bf852"
      },
      "execution_count": null,
      "outputs": [
        {
          "output_type": "stream",
          "name": "stdout",
          "text": [
            "Matrix:\n",
            "[[1]\n",
            " [2]\n",
            " [5]]\n",
            "\n",
            "Shape:\t(3, 1)\n",
            "Rank:\t2\n",
            "\n"
          ]
        }
      ]
    },
    {
      "cell_type": "markdown",
      "source": [
        "##### Square matrices\n",
        "Square matrices are matrices that have the same row and column sizes. We could say a matrix is square if $i = j$. We can tweak our matrix descriptor function to determine square matrices."
      ],
      "metadata": {
        "id": "pLbV5zkpM1Gq"
      }
    },
    {
      "cell_type": "code",
      "source": [
        "def describe_mat(matrix):\n",
        "    is_square = True if matrix.shape[0] == matrix.shape[1] else False \n",
        "    print(f'Matrix:\\n{matrix}\\n\\nShape:\\t{matrix.shape}\\nRank:\\t{matrix.ndim}\\nIs Square: {is_square}\\n')"
      ],
      "metadata": {
        "id": "bheSHCkTNAZt"
      },
      "execution_count": null,
      "outputs": []
    },
    {
      "cell_type": "code",
      "source": [
        "square_mat = np.array([\n",
        "    [1,2,5],\n",
        "    [3,3,8],\n",
        "    [6,1,2]\n",
        "])\n",
        "\n",
        "non_square_mat = np.array([\n",
        "    [1,2,5],\n",
        "    [3,3,8]\n",
        "])\n",
        "describe_mat(square_mat)\n",
        "describe_mat(non_square_mat)"
      ],
      "metadata": {
        "colab": {
          "base_uri": "https://localhost:8080/"
        },
        "id": "Rg0E1eJ2NKqs",
        "outputId": "e04d3b6f-ebc3-41bc-8801-3c78f70e6cc3"
      },
      "execution_count": null,
      "outputs": [
        {
          "output_type": "stream",
          "name": "stdout",
          "text": [
            "Matrix:\n",
            "[[1 2 5]\n",
            " [3 3 8]\n",
            " [6 1 2]]\n",
            "\n",
            "Shape:\t(3, 3)\n",
            "Rank:\t2\n",
            "\n",
            "Matrix:\n",
            "[[1 2 5]\n",
            " [3 3 8]]\n",
            "\n",
            "Shape:\t(2, 3)\n",
            "Rank:\t2\n",
            "\n"
          ]
        }
      ]
    },
    {
      "cell_type": "markdown",
      "source": [
        "#### According Element Values"
      ],
      "metadata": {
        "id": "wSyYZydkNWCH"
      }
    },
    {
      "cell_type": "markdown",
      "source": [
        "##### Null Matrix\n",
        "A Null Matrix is a matrix that has no elements. It is always a subspace of any vector or matrix."
      ],
      "metadata": {
        "id": "-h115itFNbWa"
      }
    },
    {
      "cell_type": "code",
      "source": [
        "def describe_mat(matrix):\n",
        "    if matrix.size > 0:\n",
        "        is_square = True if matrix.shape[0] == matrix.shape[1] else False \n",
        "        print(f'Matrix:\\n{matrix}\\n\\nShape:\\t{matrix.shape}\\nRank:\\t{matrix.ndim}\\nIs Square: {is_square}\\n')\n",
        "    else:\n",
        "        print('Matrix is Null')"
      ],
      "metadata": {
        "id": "MpOuYh-iNjfB"
      },
      "execution_count": null,
      "outputs": []
    },
    {
      "cell_type": "code",
      "source": [
        "null_mat = np.array([])\n",
        "describe_mat(null_mat)"
      ],
      "metadata": {
        "colab": {
          "base_uri": "https://localhost:8080/"
        },
        "id": "QQzCgjTjNmdi",
        "outputId": "f3b35405-04a5-4dee-a764-b3fd5ec21332"
      },
      "execution_count": null,
      "outputs": [
        {
          "output_type": "stream",
          "name": "stdout",
          "text": [
            "Matrix is Null\n"
          ]
        }
      ]
    },
    {
      "cell_type": "markdown",
      "source": [
        "##### Zero Matrix\n",
        "A zero matrix can be any rectangular matrix but with all elements having a value of 0."
      ],
      "metadata": {
        "id": "_kg23BTSNqVe"
      }
    },
    {
      "cell_type": "code",
      "source": [
        "zero_mat_row = np.zeros((1,2))\n",
        "zero_mat_sqr = np.zeros((2,2))\n",
        "zero_mat_rct = np.zeros((3,2))\n",
        "\n",
        "print(f'Zero Row Matrix: \\n{zero_mat_row}')\n",
        "print(f'Zero Square Matrix: \\n{zero_mat_sqr}')\n",
        "print(f'Zero Rectangular Matrix: \\n{zero_mat_rct}')"
      ],
      "metadata": {
        "colab": {
          "base_uri": "https://localhost:8080/"
        },
        "id": "ikItrDMgNvcz",
        "outputId": "d5113385-8f46-474c-ea62-838d2980e572"
      },
      "execution_count": null,
      "outputs": [
        {
          "output_type": "stream",
          "name": "stdout",
          "text": [
            "Zero Row Matrix: \n",
            "[[0. 0.]]\n",
            "Zero Square Matrix: \n",
            "[[0. 0.]\n",
            " [0. 0.]]\n",
            "Zero Rectangular Matrix: \n",
            "[[0. 0.]\n",
            " [0. 0.]\n",
            " [0. 0.]]\n"
          ]
        }
      ]
    },
    {
      "cell_type": "markdown",
      "source": [
        "##### Ones Matrix\n",
        "A ones matrix, just like the zero matrix, can be any rectangular matrix but all of its elements are 1s instead of 0s."
      ],
      "metadata": {
        "id": "RHsDEiDiN41e"
      }
    },
    {
      "cell_type": "code",
      "source": [
        "ones_mat_row = np.ones((1,2))\n",
        "ones_mat_sqr = np.ones((2,2))\n",
        "ones_mat_rct = np.ones((3,2))\n",
        "\n",
        "print(f'Ones Row Matrix: \\n{ones_mat_row}')\n",
        "print(f'Ones Square Matrix: \\n{ones_mat_sqr}')\n",
        "print(f'Ones Rectangular Matrix: \\n{ones_mat_rct}')"
      ],
      "metadata": {
        "colab": {
          "base_uri": "https://localhost:8080/"
        },
        "id": "OH68O0izN9Sr",
        "outputId": "5388bbdd-ec78-4474-a508-e2bfa41085a3"
      },
      "execution_count": null,
      "outputs": [
        {
          "output_type": "stream",
          "name": "stdout",
          "text": [
            "Ones Row Matrix: \n",
            "[[1. 1.]]\n",
            "Ones Square Matrix: \n",
            "[[1. 1.]\n",
            " [1. 1.]]\n",
            "Ones Rectangular Matrix: \n",
            "[[1. 1.]\n",
            " [1. 1.]\n",
            " [1. 1.]]\n"
          ]
        }
      ]
    },
    {
      "cell_type": "markdown",
      "source": [
        "##### Diagonal Matrix\n",
        "A diagonal matrix is a square matrix that has values only at the diagonal of the matrix."
      ],
      "metadata": {
        "id": "HdMDFVKcODeF"
      }
    },
    {
      "cell_type": "code",
      "source": [
        "np.array([\n",
        "    [2,0,0],\n",
        "    [0,3,0],\n",
        "    [0,0,5]\n",
        "])\n",
        "# a[1,1], a[2,2], a[3,3], ... a[n-1,n-1]"
      ],
      "metadata": {
        "colab": {
          "base_uri": "https://localhost:8080/"
        },
        "id": "332jfAxGOHnl",
        "outputId": "cb66716c-00f1-4c31-880b-cc1ed348f8de"
      },
      "execution_count": null,
      "outputs": [
        {
          "output_type": "execute_result",
          "data": {
            "text/plain": [
              "array([[2, 0, 0],\n",
              "       [0, 3, 0],\n",
              "       [0, 0, 5]])"
            ]
          },
          "metadata": {},
          "execution_count": 47
        }
      ]
    },
    {
      "cell_type": "code",
      "source": [
        "d = np.diag([2,3,5,7])\n",
        "np.diag(d).shape == d.shape[0] == d.shape[1]"
      ],
      "metadata": {
        "colab": {
          "base_uri": "https://localhost:8080/"
        },
        "id": "DkLdmjHAOJWx",
        "outputId": "b797e40a-3829-4c01-d379-dfa7f3df1d1d"
      },
      "execution_count": null,
      "outputs": [
        {
          "output_type": "execute_result",
          "data": {
            "text/plain": [
              "False"
            ]
          },
          "metadata": {},
          "execution_count": 48
        }
      ]
    },
    {
      "cell_type": "markdown",
      "source": [
        "##### Identity Matrix \n",
        "An identity matrix is a special diagonal matrix in which the values at the diagonal are ones."
      ],
      "metadata": {
        "id": "UT1ZUw_lONjJ"
      }
    },
    {
      "cell_type": "code",
      "source": [
        "np.eye(5)"
      ],
      "metadata": {
        "colab": {
          "base_uri": "https://localhost:8080/"
        },
        "id": "ZhunyB0oOTRB",
        "outputId": "5eb9c97e-a149-44d4-bdef-fdd24a230610"
      },
      "execution_count": null,
      "outputs": [
        {
          "output_type": "execute_result",
          "data": {
            "text/plain": [
              "array([[1., 0., 0., 0., 0.],\n",
              "       [0., 1., 0., 0., 0.],\n",
              "       [0., 0., 1., 0., 0.],\n",
              "       [0., 0., 0., 1., 0.],\n",
              "       [0., 0., 0., 0., 1.]])"
            ]
          },
          "metadata": {},
          "execution_count": 49
        }
      ]
    },
    {
      "cell_type": "code",
      "source": [
        "np.identity(5)"
      ],
      "metadata": {
        "colab": {
          "base_uri": "https://localhost:8080/"
        },
        "id": "Nxkm9r-DOVhS",
        "outputId": "b5846cb7-77e5-43ad-81e5-cd6efd8e541e"
      },
      "execution_count": null,
      "outputs": [
        {
          "output_type": "execute_result",
          "data": {
            "text/plain": [
              "array([[1., 0., 0., 0., 0.],\n",
              "       [0., 1., 0., 0., 0.],\n",
              "       [0., 0., 1., 0., 0.],\n",
              "       [0., 0., 0., 1., 0.],\n",
              "       [0., 0., 0., 0., 1.]])"
            ]
          },
          "metadata": {},
          "execution_count": 50
        }
      ]
    },
    {
      "cell_type": "markdown",
      "source": [
        "##### Upper Triangle Matrix \n",
        "An upper triangular matrix is a matrix that has no values below the diagonal."
      ],
      "metadata": {
        "id": "9IU245fNOYKl"
      }
    },
    {
      "cell_type": "code",
      "source": [
        "np.array([\n",
        "    [1,2,3],\n",
        "    [0,3,1],\n",
        "    [0,0,5]\n",
        "])"
      ],
      "metadata": {
        "colab": {
          "base_uri": "https://localhost:8080/"
        },
        "id": "QBVM_NhLOdxH",
        "outputId": "6a0cedcb-abd2-43f8-f422-b8f40076df7e"
      },
      "execution_count": null,
      "outputs": [
        {
          "output_type": "execute_result",
          "data": {
            "text/plain": [
              "array([[1, 2, 3],\n",
              "       [0, 3, 1],\n",
              "       [0, 0, 5]])"
            ]
          },
          "metadata": {},
          "execution_count": 51
        }
      ]
    },
    {
      "cell_type": "markdown",
      "source": [
        "##### Lower Triangle Matrix\n",
        "A lower triangular matrix is a matrix that has no values above the diagonal."
      ],
      "metadata": {
        "id": "7amJtQ4YOg9V"
      }
    },
    {
      "cell_type": "code",
      "source": [
        "np.array([\n",
        "    [1,0,0],\n",
        "    [5,3,0],\n",
        "    [7,8,5]\n",
        "])"
      ],
      "metadata": {
        "colab": {
          "base_uri": "https://localhost:8080/"
        },
        "id": "iGeRyMmyOoEX",
        "outputId": "38780cfc-caa6-455b-8404-304f0162562d"
      },
      "execution_count": null,
      "outputs": [
        {
          "output_type": "execute_result",
          "data": {
            "text/plain": [
              "array([[1, 0, 0],\n",
              "       [5, 3, 0],\n",
              "       [7, 8, 5]])"
            ]
          },
          "metadata": {},
          "execution_count": 52
        }
      ]
    },
    {
      "cell_type": "markdown",
      "source": [
        "## Practice"
      ],
      "metadata": {
        "id": "3Co1_cjhOwED"
      }
    },
    {
      "cell_type": "markdown",
      "source": [
        "1. Given the linear combination below, try to create a corresponding matrix representing it."
      ],
      "metadata": {
        "id": "NFABc00hOyqg"
      }
    },
    {
      "cell_type": "markdown",
      "source": [
        "$$\\theta = 5x + 3y - z$$"
      ],
      "metadata": {
        "id": "H5eF_5kmP3Rb"
      }
    },
    {
      "cell_type": "markdown",
      "source": [
        "**Answer**"
      ],
      "metadata": {
        "id": "sGFsiJqsQY85"
      }
    },
    {
      "cell_type": "code",
      "source": [
        "num_1 = np.array([\n",
        "    [5, 3, -1]\n",
        "])\n",
        "print (num_1)"
      ],
      "metadata": {
        "colab": {
          "base_uri": "https://localhost:8080/"
        },
        "id": "1_lit4SLdx8s",
        "outputId": "b4755af3-9c8b-4903-e21d-d20881c1a430"
      },
      "execution_count": null,
      "outputs": [
        {
          "output_type": "stream",
          "name": "stdout",
          "text": [
            "[[ 5  3 -1]]\n"
          ]
        }
      ]
    },
    {
      "cell_type": "markdown",
      "source": [
        "2. Given the system of linear combinations below, try to encode it as a matrix. Also describe the matrix."
      ],
      "metadata": {
        "id": "ZJ_MkWh8P15H"
      }
    },
    {
      "cell_type": "markdown",
      "source": [
        "$$\n",
        "A = \\left\\{\\begin{array}\n",
        "5x_1 + 2x_2 +x_3\\\\\n",
        "4x_2 - x_3\\\\\n",
        "10x_3\n",
        "\\end{array}\\right.\n",
        "$$"
      ],
      "metadata": {
        "id": "kdBU4a3SP7E5"
      }
    },
    {
      "cell_type": "markdown",
      "source": [
        "**Answer**"
      ],
      "metadata": {
        "id": "gMy8nSJpQv3l"
      }
    },
    {
      "cell_type": "code",
      "source": [
        "num_2 = np.array([\n",
        "    [1,2,1],\n",
        "    [0,4,-1,],\n",
        "    [0,0,10]\n",
        "])\n",
        "describe_mat(num_2)"
      ],
      "metadata": {
        "colab": {
          "base_uri": "https://localhost:8080/"
        },
        "id": "UofoTPKJSbMQ",
        "outputId": "f3653ca9-95bc-4f7a-b1c5-307cc1ab1646"
      },
      "execution_count": null,
      "outputs": [
        {
          "output_type": "stream",
          "name": "stdout",
          "text": [
            "Matrix:\n",
            "[[ 1  2  1]\n",
            " [ 0  4 -1]\n",
            " [ 0  0 10]]\n",
            "\n",
            "Shape:\t(3, 3)\n",
            "Rank:\t2\n",
            "Is Square: True\n",
            "\n"
          ]
        }
      ]
    },
    {
      "cell_type": "markdown",
      "source": [
        "3. Given the matrix below, express it as a linear combination in a markdown and as a LaTeX markdown."
      ],
      "metadata": {
        "id": "MkHiN4bPP9c8"
      }
    },
    {
      "cell_type": "code",
      "source": [
        "G = np.array([\n",
        "    [1,7,8],\n",
        "    [2,2,2],\n",
        "    [4,6,7]\n",
        "])\n"
      ],
      "metadata": {
        "id": "4M6KGb4bQEAy"
      },
      "execution_count": null,
      "outputs": []
    },
    {
      "cell_type": "markdown",
      "source": [
        "**Answer**\n",
        "\n",
        "Linear Combination:\n",
        "$$\n",
        "G = \\left\\{\\begin{array}\n",
        "1x_1 + 7x_2 +8x_3\\\\\n",
        "2x_1 + 2x_2 +2x_3\\\\\n",
        "4x_1 + 6x_2 +7x_3\n",
        "\\end{array}\\right.\n",
        "$$\n",
        "LaTeX:\n",
        "$$\n",
        "G =\\begin{bmatrix} 1 & 7 & 8 \\\\ 2 & 2 & 2 \\\\ 4 & 6 & 7\\end{bmatrix} \\\\\n",
        "$$"
      ],
      "metadata": {
        "id": "b19ROWLkUv0D"
      }
    },
    {
      "cell_type": "markdown",
      "source": [
        "4. Given the matrix below, display the output as a LaTeX makdown also express it as a system of linear combinations."
      ],
      "metadata": {
        "id": "UW8QAtjLQCUK"
      }
    },
    {
      "cell_type": "code",
      "source": [
        "H = np.tril(G)\n",
        "H"
      ],
      "metadata": {
        "colab": {
          "base_uri": "https://localhost:8080/"
        },
        "id": "--rGtkyRQ6zB",
        "outputId": "42951a9e-ba8d-44b5-c1b2-5a570a468d6f"
      },
      "execution_count": null,
      "outputs": [
        {
          "output_type": "execute_result",
          "data": {
            "text/plain": [
              "array([[1, 0, 0],\n",
              "       [2, 2, 0],\n",
              "       [4, 6, 7]])"
            ]
          },
          "metadata": {},
          "execution_count": 34
        }
      ]
    },
    {
      "cell_type": "markdown",
      "source": [
        "**Answer**\n",
        "\n",
        "Linear Combination:\n",
        "$$\n",
        "H = \\left\\{\\begin{array}\n",
        "1x_1 \\\\\n",
        "2x_1 + 2x_2\\\\\n",
        "4x_1 + 6x_2 +7x_3\n",
        "\\end{array}\\right.\n",
        "$$\n",
        "LaTeX:\n",
        "$$\n",
        "H=\\begin{bmatrix} 1 & 0 & 0 \\\\ 2 & 2 & 0 \\\\ 4 & 6 & 7\\end{bmatrix} \\\\\n",
        "$$"
      ],
      "metadata": {
        "id": "qCivpwnrQ9nO"
      }
    },
    {
      "cell_type": "markdown",
      "source": [
        "## Matrix Algebra"
      ],
      "metadata": {
        "id": "bAwiac5WX79k"
      }
    },
    {
      "cell_type": "markdown",
      "source": [
        "### Addition"
      ],
      "metadata": {
        "id": "GP9Qr5YaX-5B"
      }
    },
    {
      "cell_type": "code",
      "source": [
        "A = np.array([\n",
        "    [1,2],\n",
        "    [2,3],\n",
        "    [4,1]\n",
        "])\n",
        "B = np.array([\n",
        "    [2,2],\n",
        "    [0,0],\n",
        "    [1,1]\n",
        "])\n",
        "A+B"
      ],
      "metadata": {
        "id": "NQkHZxsUYDS4"
      },
      "execution_count": null,
      "outputs": []
    },
    {
      "cell_type": "code",
      "source": [
        "2+A ##Broadcasting\n",
        "# 2*np.ones(A.shape)+A"
      ],
      "metadata": {
        "id": "ZacHcnFiYJLj"
      },
      "execution_count": null,
      "outputs": []
    },
    {
      "cell_type": "markdown",
      "source": [
        "### Subtraction"
      ],
      "metadata": {
        "id": "AEBccMjTYKnV"
      }
    },
    {
      "cell_type": "code",
      "source": [
        "A-B"
      ],
      "metadata": {
        "colab": {
          "base_uri": "https://localhost:8080/"
        },
        "id": "9Q0rmHJxYOFF",
        "outputId": "4ea4f145-7025-47aa-8035-0d4e1bd5e46c"
      },
      "execution_count": null,
      "outputs": [
        {
          "output_type": "execute_result",
          "data": {
            "text/plain": [
              "array([[-1,  0],\n",
              "       [ 2,  3],\n",
              "       [ 3,  0]])"
            ]
          },
          "metadata": {},
          "execution_count": 73
        }
      ]
    },
    {
      "cell_type": "code",
      "source": [
        "3-B == 3*np.ones(B.shape)-B"
      ],
      "metadata": {
        "colab": {
          "base_uri": "https://localhost:8080/"
        },
        "id": "0euj5GvrYPxb",
        "outputId": "84930b35-d170-41df-b83a-06e1c8f02643"
      },
      "execution_count": null,
      "outputs": [
        {
          "output_type": "execute_result",
          "data": {
            "text/plain": [
              "array([[ True,  True],\n",
              "       [ True,  True],\n",
              "       [ True,  True]])"
            ]
          },
          "metadata": {},
          "execution_count": 74
        }
      ]
    },
    {
      "cell_type": "markdown",
      "source": [
        "### Element-Wise Multiplication"
      ],
      "metadata": {
        "id": "tzsDplSdYS6Z"
      }
    },
    {
      "cell_type": "code",
      "source": [
        "A*B\n",
        "np.multiply(A,B)"
      ],
      "metadata": {
        "colab": {
          "base_uri": "https://localhost:8080/"
        },
        "id": "69O4n_fFYaAF",
        "outputId": "7cfd1333-ae7a-491f-b2ec-732dcf9791a1"
      },
      "execution_count": null,
      "outputs": [
        {
          "output_type": "execute_result",
          "data": {
            "text/plain": [
              "array([[2, 4],\n",
              "       [0, 0],\n",
              "       [4, 1]])"
            ]
          },
          "metadata": {},
          "execution_count": 75
        }
      ]
    },
    {
      "cell_type": "code",
      "source": [
        "2*A"
      ],
      "metadata": {
        "colab": {
          "base_uri": "https://localhost:8080/"
        },
        "id": "FMkcgWx3Ya1A",
        "outputId": "fab30ce4-6629-4a0b-ade7-af677a93e18f"
      },
      "execution_count": null,
      "outputs": [
        {
          "output_type": "execute_result",
          "data": {
            "text/plain": [
              "array([[2, 4],\n",
              "       [4, 6],\n",
              "       [8, 2]])"
            ]
          },
          "metadata": {},
          "execution_count": 76
        }
      ]
    },
    {
      "cell_type": "code",
      "source": [
        "A@B"
      ],
      "metadata": {
        "colab": {
          "base_uri": "https://localhost:8080/",
          "height": 165
        },
        "id": "ajvuTCBLYdf1",
        "outputId": "4dc9b69b-12c8-4b60-d142-51f319a26486"
      },
      "execution_count": null,
      "outputs": [
        {
          "output_type": "error",
          "ename": "ValueError",
          "evalue": "ignored",
          "traceback": [
            "\u001b[0;31m---------------------------------------------------------------------------\u001b[0m",
            "\u001b[0;31mValueError\u001b[0m                                Traceback (most recent call last)",
            "\u001b[0;32m<ipython-input-77-5016aafd2858>\u001b[0m in \u001b[0;36m<module>\u001b[0;34m()\u001b[0m\n\u001b[0;32m----> 1\u001b[0;31m \u001b[0mA\u001b[0m\u001b[0;34m@\u001b[0m\u001b[0mB\u001b[0m\u001b[0;34m\u001b[0m\u001b[0;34m\u001b[0m\u001b[0m\n\u001b[0m",
            "\u001b[0;31mValueError\u001b[0m: matmul: Input operand 1 has a mismatch in its core dimension 0, with gufunc signature (n?,k),(k,m?)->(n?,m?) (size 3 is different from 2)"
          ]
        }
      ]
    },
    {
      "cell_type": "markdown",
      "source": [
        "The reason behind the error is because matrix **A** is (3x2) and matrix **B** is also (3x2). It would be undefined."
      ],
      "metadata": {
        "id": "HbZKyPotonNF"
      }
    },
    {
      "cell_type": "markdown",
      "source": [
        "## Activity"
      ],
      "metadata": {
        "id": "WmfWWI2ZZNjQ"
      }
    },
    {
      "cell_type": "markdown",
      "source": [
        "### Task 1\n",
        "\n",
        "Create a function named mat_desc() that througouhly describes a matrix, it should:\n",
        "\n",
        "Displays the shape, size, and rank of the matrix.\n",
        "Displays whether the matrix is square or non-square.\n",
        "Displays whether the matrix is an empty matrix.\n",
        "Displays if the matrix is an identity, ones, or zeros matrix\n",
        "Use 3 sample matrices in which their shapes are not lower than  (3,3) . In your methodology, create a flowchart discuss the functions and methods you have done. Present your results in the results section showing the description of each matrix you have declared."
      ],
      "metadata": {
        "id": "24quGvbkZP6Z"
      }
    },
    {
      "cell_type": "code",
      "source": [
        "## Function area\n",
        "\n",
        "import numpy as np"
      ],
      "metadata": {
        "id": "HdqddFzzZew5"
      },
      "execution_count": 1,
      "outputs": []
    },
    {
      "cell_type": "code",
      "source": [
        "## Matrix declarations\n",
        "\n",
        "def mat_desc(matrix):\n",
        "  if matrix.size >0:\n",
        "    is_square= True if matrix.shape[0] == matrix.shape[1] else False\n",
        "    print (f'{matrix}\\n\\nShape:\\t{matrix.shape}\\nRank:\\t{matrix.ndim}\\nSquare:\\t{is_square}\\nMatrix is not Null')\n",
        "  else:\n",
        "    print ('Matrix is Null')"
      ],
      "metadata": {
        "id": "j0TZDUsCYa-V"
      },
      "execution_count": 2,
      "outputs": []
    },
    {
      "cell_type": "code",
      "source": [
        "## Test Areas\n",
        "\n",
        "mat_1= np.ones((6,6,))\n",
        "\n",
        "print('Matrix 1:')\n",
        "mat_desc(mat_1)\n",
        "\n",
        "result = np.all((np.identity(6)))\n",
        "if result:\n",
        "  print('Identity Matrix')\n",
        "else:\n",
        "  print('Not an Identity Matrix')\n",
        "\n",
        "result = np.all((mat_1 == 1))\n",
        "if result:\n",
        "  print('Ones Matrix')\n",
        "else:\n",
        "  print('Contains non-one element')\n",
        "\n",
        "result = np.all((mat_1 == 0))\n",
        "if result:\n",
        "  print('Zero Matrix')\n",
        "else:\n",
        "  print('Contains non-zero element')"
      ],
      "metadata": {
        "id": "xzncFYDCYcOR",
        "outputId": "dd8f7b4c-7c16-4735-cfed-2104de80b1ad",
        "colab": {
          "base_uri": "https://localhost:8080/"
        }
      },
      "execution_count": 3,
      "outputs": [
        {
          "output_type": "stream",
          "name": "stdout",
          "text": [
            "Matrix 1:\n",
            "[[1. 1. 1. 1. 1. 1.]\n",
            " [1. 1. 1. 1. 1. 1.]\n",
            " [1. 1. 1. 1. 1. 1.]\n",
            " [1. 1. 1. 1. 1. 1.]\n",
            " [1. 1. 1. 1. 1. 1.]\n",
            " [1. 1. 1. 1. 1. 1.]]\n",
            "\n",
            "Shape:\t(6, 6)\n",
            "Rank:\t2\n",
            "Square:\tTrue\n",
            "Matrix is not Null\n",
            "Not an Identity Matrix\n",
            "Ones Matrix\n",
            "Contains non-zero element\n"
          ]
        }
      ]
    },
    {
      "cell_type": "code",
      "source": [
        "## Test Areas\n",
        "\n",
        "mat_2= np.zeros((5,10))\n",
        "print('Matrix 2:')\n",
        "mat_desc(mat_2)\n",
        "\n",
        "result = np.all((np.identity(5)))\n",
        "if result:\n",
        "  print('Identity Matrix')\n",
        "else:\n",
        "  print('Not an Identity Matrix')\n",
        "\n",
        "result = np.all((mat_2 == 1))\n",
        "if result:\n",
        "  print('Ones Matrix')\n",
        "else:\n",
        "  print('Contains non-one element')\n",
        "\n",
        "result = np.all((mat_2 == 0))\n",
        "if result:\n",
        "  print('Zero Matrix')\n",
        "else:\n",
        "  print('Contains non-zero element')"
      ],
      "metadata": {
        "id": "2E6ammKNYdXs",
        "outputId": "85a790d3-2121-4593-fce0-cfb9dc18745d",
        "colab": {
          "base_uri": "https://localhost:8080/"
        }
      },
      "execution_count": 4,
      "outputs": [
        {
          "output_type": "stream",
          "name": "stdout",
          "text": [
            "Matrix 2:\n",
            "[[0. 0. 0. 0. 0. 0. 0. 0. 0. 0.]\n",
            " [0. 0. 0. 0. 0. 0. 0. 0. 0. 0.]\n",
            " [0. 0. 0. 0. 0. 0. 0. 0. 0. 0.]\n",
            " [0. 0. 0. 0. 0. 0. 0. 0. 0. 0.]\n",
            " [0. 0. 0. 0. 0. 0. 0. 0. 0. 0.]]\n",
            "\n",
            "Shape:\t(5, 10)\n",
            "Rank:\t2\n",
            "Square:\tFalse\n",
            "Matrix is not Null\n",
            "Not an Identity Matrix\n",
            "Contains non-one element\n",
            "Zero Matrix\n"
          ]
        }
      ]
    },
    {
      "cell_type": "code",
      "source": [
        "## Test Areas\n",
        "\n",
        "mat_3= np.array ([   \n",
        "                  [13,67,89,90,67,55,99],\n",
        "                  [55,78,6,33,900,0,3],\n",
        "                  [21,34,5,88,93,87,54],\n",
        "                  [27,76,98,0,96,26,37],\n",
        "                  [4,5,3,9,2,8,9],\n",
        "                  [25,30,11,3,1,27,8],\n",
        "                  [13,69,0,65,7,8,45]         \n",
        "])\n",
        "print('Matrix 3:')\n",
        "mat_desc(mat_3)\n",
        "\n",
        "result = np.all((np.identity(7)))\n",
        "if result:\n",
        "  print('Identity Matrix')\n",
        "else:\n",
        "  print('Not an Identity Matrix')\n",
        "\n",
        "result = np.all((mat_3 == 1))\n",
        "if result:\n",
        "  print('Ones Matrix')\n",
        "else:\n",
        "  print('Contains non-one element')\n",
        "\n",
        "result = np.all((mat_3 == 0))\n",
        "if result:\n",
        "  print('Zero Matrix')\n",
        "else:\n",
        "  print('Contains non-zero element')"
      ],
      "metadata": {
        "id": "cJXFlhdkYey1",
        "outputId": "71f0b796-e793-4109-b4cb-9df1cce7e55d",
        "colab": {
          "base_uri": "https://localhost:8080/"
        }
      },
      "execution_count": 5,
      "outputs": [
        {
          "output_type": "stream",
          "name": "stdout",
          "text": [
            "Matrix 3:\n",
            "[[ 13  67  89  90  67  55  99]\n",
            " [ 55  78   6  33 900   0   3]\n",
            " [ 21  34   5  88  93  87  54]\n",
            " [ 27  76  98   0  96  26  37]\n",
            " [  4   5   3   9   2   8   9]\n",
            " [ 25  30  11   3   1  27   8]\n",
            " [ 13  69   0  65   7   8  45]]\n",
            "\n",
            "Shape:\t(7, 7)\n",
            "Rank:\t2\n",
            "Square:\tTrue\n",
            "Matrix is not Null\n",
            "Not an Identity Matrix\n",
            "Contains non-one element\n",
            "Contains non-zero element\n"
          ]
        }
      ]
    },
    {
      "cell_type": "markdown",
      "source": [
        "### Task 2\n",
        "Create a function named `mat_operations()` that takes in two matrices a input parameters it should:<br>\n",
        " 1. Determines if the matrices are viable for operation and returns your own error message if they are not viable.\n",
        " 2. Returns the sum of the matrices.\n",
        " 3. Returns the differen of the matrices.\n",
        " 4. Returns the element-wise multiplication of the matrices.\n",
        " 5. Returns the element-wise division of the matrices.\n",
        "\n",
        "Use 3 sample matrices in which their shapes are not lower than $(3,3)$.\n",
        "In your methodology, create a flowchart discuss the functions and methods you have done. Present your results in the results section showing the description of each matrix you have declared."
      ],
      "metadata": {
        "id": "vcmlzVzAZYF6"
      }
    },
    {
      "cell_type": "code",
      "source": [
        "import numpy as np\n",
        "import matplotlib.pyplot as plt\n",
        "import scipy.linalg as la\n",
        "%matplotlib inline"
      ],
      "metadata": {
        "id": "pI_BKoM8Zfg8"
      },
      "execution_count": 6,
      "outputs": []
    },
    {
      "cell_type": "code",
      "source": [
        "def mat_operations(matrix):\n",
        "  print (f'{matrix}')"
      ],
      "metadata": {
        "id": "SKZoIDv9Yh68"
      },
      "execution_count": 7,
      "outputs": []
    },
    {
      "cell_type": "code",
      "source": [
        "R4 = int(input('Enter the number of rows: '))\n",
        "C4 = int(input('Enter the number of columns: '))\n",
        "\n",
        "print('\\nEnter',R4*C4,'values for Matrix 1\\n\\t(NOTE: Use space for separating the numbers)\\n\\t(NOTE:Your first',C4,' number/s would be the first row):')\n",
        "m4 = list(map(int, input().split()))\n",
        "mat_4 = np.array(m4).reshape(R4, C4)\n",
        "print('\\nMatrix 4 is:')\n",
        "mat_operations(mat_4)\n",
        "\n",
        "print('----------------------------------------------')\n",
        "\n",
        "R5 = int(input('Enter the number of rows: '))\n",
        "C5 = int(input('Enter the number of columns: '))\n",
        "\n",
        "print('\\nEnter',R5*C5,'values for Matrix 1\\n\\t(NOTE: Use space for separating the numbers)\\n\\t(NOTE: Your first',C5,' number/s would be the first row):')\n",
        "m5 = list(map(int, input().split()))\n",
        "mat_5 = np.array(m5).reshape(R5, C5)\n",
        "print('\\nMatrix 5 is:')\n",
        "mat_operations(mat_5)\n",
        "\n",
        "print('----------------------------------------------')\n",
        "\n",
        "R6 = int(input('Enter the number of rows: '))\n",
        "C6 = int(input('Enter the number of columns: '))\n",
        "\n",
        "print('\\nEnter',R6*C6,'values for Matrix 1\\n\\t(NOTE: Use space for separating the numbers)\\n\\t(NOTE: Your first',C6,' number/s would be the first row):')\n",
        "m6 = list(map(int, input().split()))\n",
        "mat_6 = np.array(m6).reshape(R6, C6)\n",
        "print('\\nMatrix 6 is:')\n",
        "mat_operations(mat_6)\n",
        "\n",
        "print('----------------------------------------------')\n",
        "\n",
        "R7 = int(input('Enter the number of rows: '))\n",
        "C7 = int(input('Enter the number of columns: '))\n",
        "\n",
        "print('\\nEnter',R7*C7,'values for Matrix 1\\n\\t(NOTE: Use space for separating the numbers)\\n\\t(NOTE: Your first',C7,' number/s would be the first row):')\n",
        "m7 = list(map(int, input().split()))\n",
        "mat_7 = np.array(m7).reshape(R7, C7)\n",
        "print('\\nMatrix 7 is:')\n",
        "mat_operations(mat_7)"
      ],
      "metadata": {
        "id": "hzWm0lxpYjRu",
        "outputId": "db455874-5d04-4df7-bef3-ed6b1cacd11d",
        "colab": {
          "base_uri": "https://localhost:8080/"
        }
      },
      "execution_count": 8,
      "outputs": [
        {
          "output_type": "stream",
          "name": "stdout",
          "text": [
            "Enter the number of rows: 3\n",
            "Enter the number of columns: 3\n",
            "\n",
            "Enter 9 values for Matrix 1\n",
            "\t(NOTE: Use space for separating the numbers)\n",
            "\t(NOTE:Your first 3  number/s would be the first row):\n",
            "1 2 3 4 5 6 7 8 9\n",
            "\n",
            "Matrix 4 is:\n",
            "[[1 2 3]\n",
            " [4 5 6]\n",
            " [7 8 9]]\n",
            "----------------------------------------------\n",
            "Enter the number of rows: 3\n",
            "Enter the number of columns: 3\n",
            "\n",
            "Enter 9 values for Matrix 1\n",
            "\t(NOTE: Use space for separating the numbers)\n",
            "\t(NOTE: Your first 3  number/s would be the first row):\n",
            "9 8 7 6 5 4 3 2 1\n",
            "\n",
            "Matrix 5 is:\n",
            "[[9 8 7]\n",
            " [6 5 4]\n",
            " [3 2 1]]\n",
            "----------------------------------------------\n",
            "Enter the number of rows: 3\n",
            "Enter the number of columns: 3\n",
            "\n",
            "Enter 9 values for Matrix 1\n",
            "\t(NOTE: Use space for separating the numbers)\n",
            "\t(NOTE: Your first 3  number/s would be the first row):\n",
            "2 2 2 2 5 5 5 5 7\n",
            "\n",
            "Matrix 6 is:\n",
            "[[2 2 2]\n",
            " [2 5 5]\n",
            " [5 5 7]]\n",
            "----------------------------------------------\n",
            "Enter the number of rows: 4\n",
            "Enter the number of columns: 4\n",
            "\n",
            "Enter 16 values for Matrix 1\n",
            "\t(NOTE: Use space for separating the numbers)\n",
            "\t(NOTE: Your first 4  number/s would be the first row):\n",
            "1 2 3 4 5 6 7 8 9 -9 -8 -7 -6 -5 -4 -3\n",
            "\n",
            "Matrix 7 is:\n",
            "[[ 1  2  3  4]\n",
            " [ 5  6  7  8]\n",
            " [ 9 -9 -8 -7]\n",
            " [-6 -5 -4 -3]]\n"
          ]
        }
      ]
    },
    {
      "cell_type": "code",
      "source": [
        "#Determines if the matrices are viable for operation and returns your own error message if they are not viable.\n",
        "print('Matrix 4:')\n",
        "mat_operations(mat_4)\n",
        "print('\\nMatrix 5:')\n",
        "mat_operations(mat_5)\n",
        "result1 = (mat_4.shape == mat_5.shape)\n",
        "if result1:\n",
        "  print('\\nMatrix 4 and Matrix 5 are Viable for Operation')\n",
        "else:\n",
        "  print('\\nMatrix 4 and Matrix 5 are Not Viable for Operation')\n",
        "\n",
        "print('\\n------------------------------------------------------')\n",
        "\n",
        "print('Matrix 4:')\n",
        "mat_operations(mat_4)\n",
        "print('\\nMatrix 6:')\n",
        "mat_operations(mat_6)\n",
        "result2 = (mat_4.shape == mat_6.shape)\n",
        "if result2:\n",
        "  print('\\nMatrix 4 and Matrix 6 are Viable for Operation')\n",
        "else:\n",
        "  print('\\nMatrix 4 and Matrix 6 are Not Viable for Operation')\n",
        "\n",
        "print('\\n------------------------------------------------------')\n",
        "\n",
        "print('Matrix 5:')\n",
        "mat_operations(mat_5)\n",
        "print('\\nMatrix 6:')\n",
        "mat_operations(mat_6) \n",
        "result3 = (mat_5.shape == mat_6.shape)\n",
        "if result3:\n",
        "  print('\\nMatrix 5 and Matrix 6 are Viable for Operation')\n",
        "else:\n",
        "  print('\\nMatrix 5 and Matrix 6 are Not Viable for Operation')\n",
        "\n",
        "print('\\n------------------------------------------------------')\n",
        "\n",
        "print('Matrix 4:')\n",
        "mat_operations(mat_4)\n",
        "print('\\nMatrix 7:')\n",
        "mat_operations(mat_7) \n",
        "result4 = (mat_4.shape == mat_7.shape)\n",
        "if result4:\n",
        "  print('\\nMatrix 4 and Matrix 7 are Viable for Operation')\n",
        "else:\n",
        "  print('\\nMatrix 4 and Matrix 7 are Not Viable for Operation')"
      ],
      "metadata": {
        "id": "eApkfHBjYkZ9",
        "outputId": "bda32fbd-10ee-4f61-a277-2000ff05692c",
        "colab": {
          "base_uri": "https://localhost:8080/"
        }
      },
      "execution_count": 9,
      "outputs": [
        {
          "output_type": "stream",
          "name": "stdout",
          "text": [
            "Matrix 4:\n",
            "[[1 2 3]\n",
            " [4 5 6]\n",
            " [7 8 9]]\n",
            "\n",
            "Matrix 5:\n",
            "[[9 8 7]\n",
            " [6 5 4]\n",
            " [3 2 1]]\n",
            "\n",
            "Matrix 4 and Matrix 5 are Viable for Operation\n",
            "\n",
            "------------------------------------------------------\n",
            "Matrix 4:\n",
            "[[1 2 3]\n",
            " [4 5 6]\n",
            " [7 8 9]]\n",
            "\n",
            "Matrix 6:\n",
            "[[2 2 2]\n",
            " [2 5 5]\n",
            " [5 5 7]]\n",
            "\n",
            "Matrix 4 and Matrix 6 are Viable for Operation\n",
            "\n",
            "------------------------------------------------------\n",
            "Matrix 5:\n",
            "[[9 8 7]\n",
            " [6 5 4]\n",
            " [3 2 1]]\n",
            "\n",
            "Matrix 6:\n",
            "[[2 2 2]\n",
            " [2 5 5]\n",
            " [5 5 7]]\n",
            "\n",
            "Matrix 5 and Matrix 6 are Viable for Operation\n",
            "\n",
            "------------------------------------------------------\n",
            "Matrix 4:\n",
            "[[1 2 3]\n",
            " [4 5 6]\n",
            " [7 8 9]]\n",
            "\n",
            "Matrix 7:\n",
            "[[ 1  2  3  4]\n",
            " [ 5  6  7  8]\n",
            " [ 9 -9 -8 -7]\n",
            " [-6 -5 -4 -3]]\n",
            "\n",
            "Matrix 4 and Matrix 7 are Not Viable for Operation\n"
          ]
        }
      ]
    },
    {
      "cell_type": "code",
      "source": [
        "#Sum of the matrices\n",
        "\n",
        "if result1:\n",
        "  sum_1= mat_4 + mat_5\n",
        "  print('Sum result 1:\\n',sum_1)\n",
        "else:\n",
        "  print('Matrix 4 and Matrix 5 are Not Viable for Operation')\n",
        "\n",
        "if result3:\n",
        "  sum_2= mat_5 + mat_6\n",
        "  print('\\n\\nSum result 2:\\n',sum_2)\n",
        "else:\n",
        "  print('\\n\\nMatrix 5 and Matrix 6 are Not Viable for Operation')\n",
        "\n",
        "if result4:\n",
        "  sum_4= mat_4 + mat_7\n",
        "  print('\\n\\nSum result 3:\\n',sum_4)\n",
        "else:\n",
        "  print('\\n\\nMatrix 4 and Matrix 7 are Not Viable for Operation')"
      ],
      "metadata": {
        "id": "Bu36zgEWYmI7",
        "outputId": "5fb1dbb0-7b8f-4f7b-dda6-571ceaa3a5ad",
        "colab": {
          "base_uri": "https://localhost:8080/"
        }
      },
      "execution_count": 10,
      "outputs": [
        {
          "output_type": "stream",
          "name": "stdout",
          "text": [
            "Sum result 1:\n",
            " [[10 10 10]\n",
            " [10 10 10]\n",
            " [10 10 10]]\n",
            "\n",
            "\n",
            "Sum result 2:\n",
            " [[11 10  9]\n",
            " [ 8 10  9]\n",
            " [ 8  7  8]]\n",
            "\n",
            "\n",
            "Matrix 4 and Matrix 7 are Not Viable for Operation\n"
          ]
        }
      ]
    },
    {
      "cell_type": "code",
      "source": [
        "#Difference of the matrices\n",
        "\n",
        "if result2:\n",
        "  d_1= mat_4 - mat_6\n",
        "  print('Difference result 1:\\n',d_1)\n",
        "else:\n",
        "  print('Matrix 4 and Matrix 6 are Not Viable for Operation')\n",
        "\n",
        "if result4:\n",
        "  sum_4= mat_4 - mat_7\n",
        "  print('\\n\\nDifference result 2:\\n',sum_4)\n",
        "else:\n",
        "  print('\\n\\nMatrix 4 and Matrix 7 are Not Viable for Operation')\n",
        "\n",
        "if result3:\n",
        "  d_2= mat_5 - mat_6\n",
        "  print('\\n\\nDifference result 3:\\n',d_2)\n",
        "else:\n",
        "  print('\\n\\nMatrix 5 and Matrix 6 are Not Viable for Operation')"
      ],
      "metadata": {
        "id": "Nln5DE9OYnyY",
        "outputId": "24edf208-4a12-44b6-b711-b38a12fe96c6",
        "colab": {
          "base_uri": "https://localhost:8080/"
        }
      },
      "execution_count": 12,
      "outputs": [
        {
          "output_type": "stream",
          "name": "stdout",
          "text": [
            "Difference result 1:\n",
            " [[-1  0  1]\n",
            " [ 2  0  1]\n",
            " [ 2  3  2]]\n",
            "\n",
            "\n",
            "Matrix 4 and Matrix 7 are Not Viable for Operation\n",
            "\n",
            "\n",
            "Difference result 3:\n",
            " [[ 7  6  5]\n",
            " [ 4  0 -1]\n",
            " [-2 -3 -6]]\n"
          ]
        }
      ]
    },
    {
      "cell_type": "code",
      "source": [
        "#Element-wise multiplication of the matrices\n",
        "\n",
        "if result1:\n",
        "  m_1= mat_4 * mat_5\n",
        "  print('Product result 1:\\n',m_1)\n",
        "else:\n",
        "  print('Matrix 4 and Matrix 5 are Not Viable for Operation')\n",
        "\n",
        "if result3:\n",
        "  m_2= mat_5 * mat_6\n",
        "  print('\\n\\nProduct result 2:\\n',m_2)\n",
        "else:\n",
        "  print('\\n\\nMatrix 5 and Matrix 6 are Not Viable for Operation')\n",
        "\n",
        "if result4:\n",
        "  m_3= mat_4 * mat_7\n",
        "  print('\\n\\nProduct result 3:\\n',m_3)\n",
        "else:\n",
        "  print('\\n\\nMatrix 4 and Matrix 7 are Not Viable for Operation')"
      ],
      "metadata": {
        "id": "6uMQ-gKOYpCb",
        "outputId": "6d1a1021-c5fc-4be6-ac94-29fb06da356c",
        "colab": {
          "base_uri": "https://localhost:8080/"
        }
      },
      "execution_count": 13,
      "outputs": [
        {
          "output_type": "stream",
          "name": "stdout",
          "text": [
            "Product result 1:\n",
            " [[ 9 16 21]\n",
            " [24 25 24]\n",
            " [21 16  9]]\n",
            "\n",
            "\n",
            "Product result 2:\n",
            " [[18 16 14]\n",
            " [12 25 20]\n",
            " [15 10  7]]\n",
            "\n",
            "\n",
            "Matrix 4 and Matrix 7 are Not Viable for Operation\n"
          ]
        }
      ]
    },
    {
      "cell_type": "code",
      "source": [
        "#Element-wise division of the matrices\n",
        "\n",
        "if result4:\n",
        "  dv_3= mat_4 / mat_7\n",
        "  print('Quotient result 1:\\n',dv_3)\n",
        "else:\n",
        "  print('Matrix 4 and Matrix 7 are Not Viable for Operation')\n",
        "\n",
        "if result2:\n",
        "  dv_1= mat_4 / mat_6\n",
        "  print('\\n\\nQuotient result 2:\\n',dv_1)\n",
        "else:\n",
        "  print('\\n\\nMatrix 4 and Matrix 6 are Not Viable for Operation')\n",
        "\n",
        "if result3:\n",
        "  dv_2= mat_5 / mat_6\n",
        "  print('\\n\\nQuotient result 3:\\n',dv_2)\n",
        "else:\n",
        "  print('\\n\\nMatrix 5 and Matrix 6 are Not Viable for Operation')"
      ],
      "metadata": {
        "id": "E9WX6OAQYqUv",
        "outputId": "e58f453b-f624-44de-82a1-7ca261e33688",
        "colab": {
          "base_uri": "https://localhost:8080/"
        }
      },
      "execution_count": 14,
      "outputs": [
        {
          "output_type": "stream",
          "name": "stdout",
          "text": [
            "Matrix 4 and Matrix 7 are Not Viable for Operation\n",
            "\n",
            "\n",
            "Quotient result 2:\n",
            " [[0.5        1.         1.5       ]\n",
            " [2.         1.         1.2       ]\n",
            " [1.4        1.6        1.28571429]]\n",
            "\n",
            "\n",
            "Quotient result 3:\n",
            " [[4.5        4.         3.5       ]\n",
            " [3.         1.         0.8       ]\n",
            " [0.6        0.4        0.14285714]]\n"
          ]
        }
      ]
    },
    {
      "cell_type": "markdown",
      "source": [
        "## Conclusion"
      ],
      "metadata": {
        "id": "ReZGk3piq6IZ"
      }
    },
    {
      "cell_type": "markdown",
      "source": [
        "##Conclusion\n",
        "\n",
        "\n",
        "> Matrix is a method or technique that is widely used in mathematics and physics to easier solve linear equations.[9] In this laboratory, the students gained knowledge about how the matrix can be applied to programming. They have learned that matrices can be: converted into a linear combination or LaTex Markdown, classified into zero matrix, identity matrix or ones matrix, and solved with different operations such as addition, subtraction, multiplication, and division. With the help of the functions and variables like NumPy or np, and “describe_mat(),” “mat_desc(),” & “mat_operations(),” the students were able to run programs that prints matrices and define them. \n",
        "\n",
        "\n",
        "> The world today adapted to the advancement of technology which increased human reliability, especially in the future. The current generation is welcomed in the world wherein they must be skilled and knowledgeable enough on technology to survive and work as a person. [10] This technology nowadays is composed of endless codes to make something work, including matrix. Therefore when technology has an emerging problem, it is only through itself also that it can be solved. One application that matrix can be used as a solution would be on Wireless Communication because it is a sensor that detects problems on wireless communication and its signal estimation. Matrices are said to be used as wireless signals(sensor arrays) in which the information is extracted and operated. The sensor arrays detect and locate the problem radiating provenance by the temporal and spatial information collected from the sensors. The matrices can help the process of illustrating digital images.[9]"
      ],
      "metadata": {
        "id": "WsZ5ZOBgq8A4"
      }
    }
  ]
}